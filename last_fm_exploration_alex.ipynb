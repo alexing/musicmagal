{
 "cells": [
  {
   "cell_type": "code",
   "execution_count": 3,
   "metadata": {
    "collapsed": true
   },
   "outputs": [],
   "source": [
    "import pandas as pd"
   ]
  },
  {
   "cell_type": "code",
   "execution_count": 4,
   "metadata": {},
   "outputs": [],
   "source": [
    "poorly_formatted_rows = [2120259, 2446317, 11141080, 11152098, 11152401, 11882086, 12902538, 12935043, 17589538]\n",
    "df = pd.read_csv('lastfm_data/userid-timestamp-artid-artname-traid-traname.tsv', header=None, skiprows=poorly_formatted_rows, sep='\\t')\n",
    "df.columns = ['user_id', 'timestamp', 'artist_id', 'artist_name', 'track_id', 'track_name']"
   ]
  },
  {
   "cell_type": "code",
   "execution_count": 10,
   "metadata": {},
   "outputs": [
    {
     "data": {
      "text/html": [
       "<div>\n",
       "<style>\n",
       "    .dataframe thead tr:only-child th {\n",
       "        text-align: right;\n",
       "    }\n",
       "\n",
       "    .dataframe thead th {\n",
       "        text-align: left;\n",
       "    }\n",
       "\n",
       "    .dataframe tbody tr th {\n",
       "        vertical-align: top;\n",
       "    }\n",
       "</style>\n",
       "<table border=\"1\" class=\"dataframe\">\n",
       "  <thead>\n",
       "    <tr style=\"text-align: right;\">\n",
       "      <th></th>\n",
       "      <th>user_id</th>\n",
       "      <th>timestamp</th>\n",
       "      <th>artist_id</th>\n",
       "      <th>artist_name</th>\n",
       "      <th>track_id</th>\n",
       "      <th>track_name</th>\n",
       "    </tr>\n",
       "  </thead>\n",
       "  <tbody>\n",
       "    <tr>\n",
       "      <th>3461164</th>\n",
       "      <td>user_000170</td>\n",
       "      <td>2007-10-12T22:39:33Z</td>\n",
       "      <td>7adaabfb-acfb-47bc-8c7c-59471c2f0db8</td>\n",
       "      <td>The Human League</td>\n",
       "      <td>65e71806-97e5-44ea-b47e-e17086fc0176</td>\n",
       "      <td>Life Kills</td>\n",
       "    </tr>\n",
       "    <tr>\n",
       "      <th>18647260</th>\n",
       "      <td>user_000969</td>\n",
       "      <td>2007-05-08T21:03:43Z</td>\n",
       "      <td>16432a24-c0f1-4de7-8798-81ae46f0b024</td>\n",
       "      <td>Symarip</td>\n",
       "      <td>56db12c0-7603-4a97-a82a-e0cf032b88b8</td>\n",
       "      <td>Skinhead Jamboree</td>\n",
       "    </tr>\n",
       "    <tr>\n",
       "      <th>262959</th>\n",
       "      <td>user_000012</td>\n",
       "      <td>2007-09-22T02:41:07Z</td>\n",
       "      <td>9a0117a8-6930-4bb0-9b7b-77362e2a1c6b</td>\n",
       "      <td>Geggy Tah</td>\n",
       "      <td>f864689d-cabb-4598-bddf-3e82e8790fb5</td>\n",
       "      <td>Space Heater</td>\n",
       "    </tr>\n",
       "    <tr>\n",
       "      <th>4965320</th>\n",
       "      <td>user_000255</td>\n",
       "      <td>2006-02-07T18:46:01Z</td>\n",
       "      <td>3248ed2d-bada-41b5-a7b6-ac88faa1f1ac</td>\n",
       "      <td>Dixie Chicks</td>\n",
       "      <td>a4273412-b427-4847-bfef-da9faeb60516</td>\n",
       "      <td>Truth No. 2</td>\n",
       "    </tr>\n",
       "    <tr>\n",
       "      <th>4219324</th>\n",
       "      <td>user_000215</td>\n",
       "      <td>2006-02-26T06:30:53Z</td>\n",
       "      <td>8e1e03fe-ebbc-467a-b541-857144db10fb</td>\n",
       "      <td>Babyshambles</td>\n",
       "      <td>54802efb-fd1c-4613-957b-6f1be649390e</td>\n",
       "      <td>Fuck Forever</td>\n",
       "    </tr>\n",
       "    <tr>\n",
       "      <th>13480128</th>\n",
       "      <td>user_000709</td>\n",
       "      <td>2005-04-20T14:52:58Z</td>\n",
       "      <td>d87e52c5-bb8d-4da8-b941-9f4928627dc8</td>\n",
       "      <td>Abba</td>\n",
       "      <td>abcf042e-1f92-499e-8c2d-418e495ec361</td>\n",
       "      <td>Super Trouper</td>\n",
       "    </tr>\n",
       "    <tr>\n",
       "      <th>1150907</th>\n",
       "      <td>user_000054</td>\n",
       "      <td>2008-02-25T12:14:10Z</td>\n",
       "      <td>7dc8f5bd-9d0b-4087-9f73-dc164950bbd8</td>\n",
       "      <td>Queens Of The Stone Age</td>\n",
       "      <td>2af7ea58-df6b-4019-9ab4-29002c713d98</td>\n",
       "      <td>Medication</td>\n",
       "    </tr>\n",
       "    <tr>\n",
       "      <th>17527025</th>\n",
       "      <td>user_000909</td>\n",
       "      <td>2006-07-27T00:40:58Z</td>\n",
       "      <td>c26c3822-451f-4545-b55a-bd09a3c815ae</td>\n",
       "      <td>The Auteurs</td>\n",
       "      <td>802e12c9-0d72-4e6d-a090-a7b0309b8c44</td>\n",
       "      <td>Tombstone</td>\n",
       "    </tr>\n",
       "    <tr>\n",
       "      <th>10908520</th>\n",
       "      <td>user_000579</td>\n",
       "      <td>2008-12-05T22:14:08Z</td>\n",
       "      <td>1c70a3fc-fa3c-4be1-8b55-c3192db8a884</td>\n",
       "      <td>Röyksopp</td>\n",
       "      <td>8efa69bc-8453-42c8-8949-2a0afd4c8c99</td>\n",
       "      <td>Follow My Ruin</td>\n",
       "    </tr>\n",
       "    <tr>\n",
       "      <th>16939333</th>\n",
       "      <td>user_000876</td>\n",
       "      <td>2007-05-14T00:19:11Z</td>\n",
       "      <td>a55c2f1b-3f3f-4d6a-aa30-5e186dbadce6</td>\n",
       "      <td>Suede</td>\n",
       "      <td>aef0d23b-a645-456a-b643-8ea4fccd6608</td>\n",
       "      <td>Animal Nitrate</td>\n",
       "    </tr>\n",
       "  </tbody>\n",
       "</table>\n",
       "</div>"
      ],
      "text/plain": [
       "              user_id             timestamp  \\\n",
       "3461164   user_000170  2007-10-12T22:39:33Z   \n",
       "18647260  user_000969  2007-05-08T21:03:43Z   \n",
       "262959    user_000012  2007-09-22T02:41:07Z   \n",
       "4965320   user_000255  2006-02-07T18:46:01Z   \n",
       "4219324   user_000215  2006-02-26T06:30:53Z   \n",
       "13480128  user_000709  2005-04-20T14:52:58Z   \n",
       "1150907   user_000054  2008-02-25T12:14:10Z   \n",
       "17527025  user_000909  2006-07-27T00:40:58Z   \n",
       "10908520  user_000579  2008-12-05T22:14:08Z   \n",
       "16939333  user_000876  2007-05-14T00:19:11Z   \n",
       "\n",
       "                                     artist_id              artist_name  \\\n",
       "3461164   7adaabfb-acfb-47bc-8c7c-59471c2f0db8         The Human League   \n",
       "18647260  16432a24-c0f1-4de7-8798-81ae46f0b024                  Symarip   \n",
       "262959    9a0117a8-6930-4bb0-9b7b-77362e2a1c6b                Geggy Tah   \n",
       "4965320   3248ed2d-bada-41b5-a7b6-ac88faa1f1ac             Dixie Chicks   \n",
       "4219324   8e1e03fe-ebbc-467a-b541-857144db10fb             Babyshambles   \n",
       "13480128  d87e52c5-bb8d-4da8-b941-9f4928627dc8                     Abba   \n",
       "1150907   7dc8f5bd-9d0b-4087-9f73-dc164950bbd8  Queens Of The Stone Age   \n",
       "17527025  c26c3822-451f-4545-b55a-bd09a3c815ae              The Auteurs   \n",
       "10908520  1c70a3fc-fa3c-4be1-8b55-c3192db8a884                 Röyksopp   \n",
       "16939333  a55c2f1b-3f3f-4d6a-aa30-5e186dbadce6                    Suede   \n",
       "\n",
       "                                      track_id         track_name  \n",
       "3461164   65e71806-97e5-44ea-b47e-e17086fc0176         Life Kills  \n",
       "18647260  56db12c0-7603-4a97-a82a-e0cf032b88b8  Skinhead Jamboree  \n",
       "262959    f864689d-cabb-4598-bddf-3e82e8790fb5       Space Heater  \n",
       "4965320   a4273412-b427-4847-bfef-da9faeb60516        Truth No. 2  \n",
       "4219324   54802efb-fd1c-4613-957b-6f1be649390e       Fuck Forever  \n",
       "13480128  abcf042e-1f92-499e-8c2d-418e495ec361      Super Trouper  \n",
       "1150907   2af7ea58-df6b-4019-9ab4-29002c713d98         Medication  \n",
       "17527025  802e12c9-0d72-4e6d-a090-a7b0309b8c44          Tombstone  \n",
       "10908520  8efa69bc-8453-42c8-8949-2a0afd4c8c99     Follow My Ruin  \n",
       "16939333  aef0d23b-a645-456a-b643-8ea4fccd6608     Animal Nitrate  "
      ]
     },
     "execution_count": 10,
     "metadata": {},
     "output_type": "execute_result"
    }
   ],
   "source": [
    "df.sample(10)"
   ]
  },
  {
   "cell_type": "code",
   "execution_count": 11,
   "metadata": {},
   "outputs": [
    {
     "data": {
      "text/html": [
       "<div>\n",
       "<style>\n",
       "    .dataframe thead tr:only-child th {\n",
       "        text-align: right;\n",
       "    }\n",
       "\n",
       "    .dataframe thead th {\n",
       "        text-align: left;\n",
       "    }\n",
       "\n",
       "    .dataframe tbody tr th {\n",
       "        vertical-align: top;\n",
       "    }\n",
       "</style>\n",
       "<table border=\"1\" class=\"dataframe\">\n",
       "  <thead>\n",
       "    <tr style=\"text-align: right;\">\n",
       "      <th></th>\n",
       "      <th>user_id</th>\n",
       "      <th>timestamp</th>\n",
       "      <th>artist_id</th>\n",
       "      <th>artist_name</th>\n",
       "      <th>track_id</th>\n",
       "      <th>track_name</th>\n",
       "    </tr>\n",
       "  </thead>\n",
       "  <tbody>\n",
       "    <tr>\n",
       "      <th>count</th>\n",
       "      <td>19098853</td>\n",
       "      <td>19098853</td>\n",
       "      <td>18498005</td>\n",
       "      <td>19098853</td>\n",
       "      <td>16936134</td>\n",
       "      <td>19098841</td>\n",
       "    </tr>\n",
       "    <tr>\n",
       "      <th>unique</th>\n",
       "      <td>992</td>\n",
       "      <td>17454730</td>\n",
       "      <td>107295</td>\n",
       "      <td>173921</td>\n",
       "      <td>960402</td>\n",
       "      <td>1083471</td>\n",
       "    </tr>\n",
       "    <tr>\n",
       "      <th>top</th>\n",
       "      <td>user_000949</td>\n",
       "      <td>2009-02-26T21:29:15Z</td>\n",
       "      <td>a74b1b7f-71a5-4011-9441-d0b5e4122711</td>\n",
       "      <td>Radiohead</td>\n",
       "      <td>db16d0b3-b8ce-4aa8-a11a-e4d53cc7f8a6</td>\n",
       "      <td>Intro</td>\n",
       "    </tr>\n",
       "    <tr>\n",
       "      <th>freq</th>\n",
       "      <td>183103</td>\n",
       "      <td>248</td>\n",
       "      <td>115099</td>\n",
       "      <td>115099</td>\n",
       "      <td>3991</td>\n",
       "      <td>17561</td>\n",
       "    </tr>\n",
       "  </tbody>\n",
       "</table>\n",
       "</div>"
      ],
      "text/plain": [
       "            user_id             timestamp  \\\n",
       "count      19098853              19098853   \n",
       "unique          992              17454730   \n",
       "top     user_000949  2009-02-26T21:29:15Z   \n",
       "freq         183103                   248   \n",
       "\n",
       "                                   artist_id artist_name  \\\n",
       "count                               18498005    19098853   \n",
       "unique                                107295      173921   \n",
       "top     a74b1b7f-71a5-4011-9441-d0b5e4122711   Radiohead   \n",
       "freq                                  115099      115099   \n",
       "\n",
       "                                    track_id track_name  \n",
       "count                               16936134   19098841  \n",
       "unique                                960402    1083471  \n",
       "top     db16d0b3-b8ce-4aa8-a11a-e4d53cc7f8a6      Intro  \n",
       "freq                                    3991      17561  "
      ]
     },
     "execution_count": 11,
     "metadata": {},
     "output_type": "execute_result"
    }
   ],
   "source": [
    "df.describe()"
   ]
  },
  {
   "cell_type": "markdown",
   "metadata": {},
   "source": [
    "#### Interesting facts:\n",
    "- Last.FM users tend to like Radiohead\n",
    "- Most used name for a song is Intro (which makes sense)\n",
    "- We got data from ~1K users"
   ]
  },
  {
   "cell_type": "code",
   "execution_count": 23,
   "metadata": {},
   "outputs": [
    {
     "name": "stdout",
     "output_type": "stream",
     "text": [
      "Radiohead is featured 115099 times\n"
     ]
    }
   ],
   "source": [
    "del df['timestamp'] #don't need timestamps.\n",
    "print(\"Radiohead is featured %d times\" % len(df[df['artist_name'] == 'Radiohead']))"
   ]
  },
  {
   "cell_type": "code",
   "execution_count": 30,
   "metadata": {},
   "outputs": [
    {
     "name": "stdout",
     "output_type": "stream",
     "text": [
      "The most popular track is Such Great Heights by The Postal Service\n"
     ]
    }
   ],
   "source": [
    "artist_name = df.loc[df['track_id'] == 'db16d0b3-b8ce-4aa8-a11a-e4d53cc7f8a6'].iloc[0]['artist_name']\n",
    "track_name = df.loc[df['track_id'] == 'db16d0b3-b8ce-4aa8-a11a-e4d53cc7f8a6'].iloc[0]['track_name']\n",
    "print(\"The most popular track is %s by %s\" % (track_name, artist_name))"
   ]
  },
  {
   "cell_type": "markdown",
   "metadata": {},
   "source": [
    "### Data set is probably biased to indie rock."
   ]
  },
  {
   "cell_type": "code",
   "execution_count": 43,
   "metadata": {},
   "outputs": [
    {
     "name": "stdout",
     "output_type": "stream",
     "text": [
      "TOP 25 ARTISTS FEATURED IN THE DATASET\n"
     ]
    },
    {
     "data": {
      "text/plain": [
       "artist_name\n",
       "Radiohead                      111488\n",
       "The Beatles                     98525\n",
       "Nine Inch Nails                 82022\n",
       "Muse                            60967\n",
       "Coldplay                        60256\n",
       "Depeche Mode                    57802\n",
       "Pink Floyd                      55739\n",
       "Death Cab For Cutie             56451\n",
       "Placebo                         50632\n",
       "Elliott Smith                   49306\n",
       "The Cure                        48553\n",
       "Britney Spears                  43462\n",
       "David Bowie                     48285\n",
       "The Killers                     46206\n",
       "Kanye West                      44971\n",
       "Sigur Rós                       40642\n",
       "Red Hot Chili Peppers           44512\n",
       "The Smiths                      44854\n",
       "Metallica                       42546\n",
       "Interpol                        41871\n",
       "Björk                           39930\n",
       "Bloc Party                      38447\n",
       "Black Rebel Motorcycle Club     34381\n",
       "Arcade Fire                     39317\n",
       "Modest Mouse                    38829\n",
       "Name: track_id, dtype: int64"
      ]
     },
     "execution_count": 43,
     "metadata": {},
     "output_type": "execute_result"
    }
   ],
   "source": [
    "print(\"TOP 25 ARTISTS FEATURED IN THE DATASET\")\n",
    "df.groupby(['artist_name']).count().sort_values('track_name', ascending=False)['track_id'].head(25)"
   ]
  },
  {
   "cell_type": "markdown",
   "metadata": {},
   "source": [
    "# Data set is INDEED biased to indie rock."
   ]
  },
  {
   "cell_type": "code",
   "execution_count": null,
   "metadata": {
    "collapsed": true
   },
   "outputs": [],
   "source": []
  }
 ],
 "metadata": {
  "kernelspec": {
   "display_name": "Python 3",
   "language": "python",
   "name": "python3"
  }
 },
 "nbformat": 4,
 "nbformat_minor": 2
}
