{
 "cells": [
  {
   "cell_type": "code",
   "execution_count": 1,
   "metadata": {},
   "outputs": [
    {
     "name": "stderr",
     "output_type": "stream",
     "text": [
      "Using TensorFlow backend.\n"
     ]
    }
   ],
   "source": [
    "import pandas as pd\n",
    "import numpy as np\n",
    "from grouprecommender import GroupRecommender"
   ]
  },
  {
   "cell_type": "markdown",
   "metadata": {},
   "source": [
    "# Loading the Dataset"
   ]
  },
  {
   "cell_type": "code",
   "execution_count": 2,
   "metadata": {
    "collapsed": true
   },
   "outputs": [],
   "source": [
    "poorly_formatted_rows = [2120259, 2446317, 11141080, 11152098, 11152401, 11882086, 12902538, 12935043, 17589538]\n",
    "df = pd.read_csv('lastfm_data/userid-timestamp-artid-artname-traid-traname.tsv', header=None, skiprows=poorly_formatted_rows, sep='\\t')\n",
    "df.columns = ['user_id', 'timestamp', 'artist_id', 'artist_name', 'track_id', 'track_name']\n",
    "df.dropna(inplace=True)"
   ]
  },
  {
   "cell_type": "markdown",
   "metadata": {},
   "source": [
    "# Group Recommendations"
   ]
  },
  {
   "cell_type": "code",
   "execution_count": 3,
   "metadata": {
    "collapsed": true
   },
   "outputs": [],
   "source": [
    "gr = GroupRecommender('utility_matrix.pickle',\n",
    "                      dataset=df,\n",
    "                      pickled_model_path='model.pickle',\n",
    "                      embedding_model_path='embedding_model.yaml',\n",
    "                      model_weights_path='embedding_model.h5',\n",
    "                      embedding_space_path='embedding.npy',\n",
    "                      dicts_path='song_dicts.pickle')"
   ]
  },
  {
   "cell_type": "markdown",
   "metadata": {},
   "source": [
    "## Obtaining Group Recommendations"
   ]
  },
  {
   "cell_type": "code",
   "execution_count": 4,
   "metadata": {
    "collapsed": true
   },
   "outputs": [],
   "source": [
    "user_ids = np.random.choice(df['user_id'].unique(), 3, replace=False)\n",
    "max_recommendations = 10\n",
    "playlist = gr.full_recommendation(user_ids, max_recommendations, df, method='item2vec')"
   ]
  },
  {
   "cell_type": "code",
   "execution_count": 5,
   "metadata": {},
   "outputs": [
    {
     "name": "stdout",
     "output_type": "stream",
     "text": [
      "Recommended Songs for the Group: ['user_000167' 'user_000658' 'user_000213']\n",
      "0)Sex Pistols - God Save The Queen\n",
      "1)Placebo - Song To Say Goodbye\n",
      "2)Uriah Heep - Lady In Black\n",
      "3)Judas Priest - A Touch Of Evil\n",
      "4)Eddie Vedder - Society\n",
      "5)The Who - Baba O'Riley\n",
      "6)Marilyn Manson - Heart-Shaped Glasses (When The Heart Guides The Hand)\n",
      "7)The Chemical Brothers - Do It Again\n",
      "8)Sly & The Family Stone - If You Want Me To Stay\n",
      "9)The 69 Eyes - Velvet Touch\n",
      "10)Cat Power - Maybe Not\n"
     ]
    }
   ],
   "source": [
    "print(\"Recommended Songs for the Group:\", user_ids)\n",
    "for i, track in enumerate(playlist):\n",
    "    print(str(i) + ')' + track[0] + ' - ' + track[1])"
   ]
  },
  {
   "cell_type": "markdown",
   "metadata": {},
   "source": [
    "## Evaluating Recommendations"
   ]
  },
  {
   "cell_type": "code",
   "execution_count": 6,
   "metadata": {},
   "outputs": [
    {
     "name": "stdout",
     "output_type": "stream",
     "text": [
      "11.5133219996 0.358433609422\n"
     ]
    }
   ],
   "source": [
    "#TODO: implement evaluation method\n",
    "track_ids = [track.track_id for track in playlist]\n",
    "playlist_indexes = np.where(np.in1d(df['track_id'].dropna().unique(), track_ids))[0].tolist()\n",
    "user_indexes = np.where(np.in1d(df['user_id'].dropna().unique(), user_ids))[0].tolist()\n",
    "eval_score, similarity_score = gr.evaluate(user_indexes, playlist_indexes, method='custom')\n",
    "print(eval_score, similarity_score)"
   ]
  },
  {
   "cell_type": "code",
   "execution_count": 7,
   "metadata": {},
   "outputs": [
    {
     "data": {
      "text/plain": [
       "[6739, 9712, 12408, 18477, 20849, 29185, 50993, 51379, 140789, 172434, 226320]"
      ]
     },
     "execution_count": 7,
     "metadata": {},
     "output_type": "execute_result"
    }
   ],
   "source": [
    "playlist_indexes"
   ]
  },
  {
   "cell_type": "markdown",
   "metadata": {},
   "source": [
    "## Creating Group Playlist"
   ]
  },
  {
   "cell_type": "code",
   "execution_count": 8,
   "metadata": {
    "collapsed": true,
    "scrolled": true
   },
   "outputs": [],
   "source": [
    "import spotipy\n",
    "import pprint\n",
    "import spotipy.util as util\n",
    "from spotipy.oauth2 import SpotifyClientCredentials\n",
    "\n",
    "client_id = '5de79a00f1b9475098f277ce2a609120'\n",
    "client_secret = '909633d1415345fe89882b6e398390df'\n",
    "client_credentials_manager = SpotifyClientCredentials(client_id=client_id,\n",
    "                                                          client_secret=client_secret)\n",
    "\n",
    "sp = spotipy.Spotify(client_credentials_manager=client_credentials_manager)"
   ]
  },
  {
   "cell_type": "code",
   "execution_count": 9,
   "metadata": {
    "collapsed": true
   },
   "outputs": [],
   "source": [
    "spotify_track_ids = []\n",
    "for track in playlist:\n",
    "    search_str = track[0] + ' ' + track[1]\n",
    "    result = sp.search(search_str, limit=1)\n",
    "    spotify_track_ids.append(result['tracks']['items'][0]['id'])"
   ]
  },
  {
   "cell_type": "code",
   "execution_count": 10,
   "metadata": {
    "collapsed": true
   },
   "outputs": [],
   "source": [
    "playlist_name = 'Group recommendations for '\n",
    "playlist_name += ', '.join(user_ids)"
   ]
  },
  {
   "cell_type": "code",
   "execution_count": 11,
   "metadata": {},
   "outputs": [],
   "source": [
    "username = '11130460071'\n",
    "scope='playlist-modify-public'\n",
    "token = util.prompt_for_user_token(username, \n",
    "                                   client_id=client_id, \n",
    "                                   client_secret=client_secret, \n",
    "                                   redirect_uri='https://github.com/alexing10/musicmagal',\n",
    "                                   scope=scope)"
   ]
  },
  {
   "cell_type": "code",
   "execution_count": 12,
   "metadata": {},
   "outputs": [
    {
     "name": "stdout",
     "output_type": "stream",
     "text": [
      "boom!\n"
     ]
    }
   ],
   "source": [
    "sp = spotipy.Spotify(auth=token)\n",
    "playlist = sp.user_playlist_create(username, playlist_name)\n",
    "sp.user_playlist_add_tracks(username, playlist['id'], spotify_track_ids)\n",
    "print(\"boom!\")"
   ]
  },
  {
   "cell_type": "code",
   "execution_count": 19,
   "metadata": {},
   "outputs": [
    {
     "data": {
      "text/plain": [
       "{'snapshot_id': 'oRoC3cCOO7mnauSmpMKZpVtSHgzRSSjGlAFVyyajNmNXYltq4fC0QA65082rDFtp'}"
      ]
     },
     "execution_count": 19,
     "metadata": {},
     "output_type": "execute_result"
    }
   ],
   "source": [
    "playlist_id = '0ChGv9bC33XK1zLtA78y9F'\n",
    "sp.user_playlist_add_tracks(username, playlist_id, spotify_track_ids)"
   ]
  },
  {
   "cell_type": "code",
   "execution_count": null,
   "metadata": {},
   "outputs": [],
   "source": []
  },
  {
   "cell_type": "code",
   "execution_count": null,
   "metadata": {
    "collapsed": true
   },
   "outputs": [],
   "source": []
  }
 ],
 "metadata": {
  "kernelspec": {
   "display_name": "Python 3",
   "language": "python",
   "name": "python3"
  },
  "language_info": {
   "codemirror_mode": {
    "name": "ipython",
    "version": 3
   },
   "file_extension": ".py",
   "mimetype": "text/x-python",
   "name": "python",
   "nbconvert_exporter": "python",
   "pygments_lexer": "ipython3",
   "version": "3.6.2"
  }
 },
 "nbformat": 4,
 "nbformat_minor": 2
}
