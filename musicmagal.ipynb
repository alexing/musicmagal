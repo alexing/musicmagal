{
 "cells": [
  {
   "cell_type": "code",
   "execution_count": 1,
   "metadata": {
    "collapsed": true
   },
   "outputs": [],
   "source": [
    "import pandas as pd\n",
    "import numpy as np\n",
    "from grouprecommender import GroupRecommender"
   ]
  },
  {
   "cell_type": "markdown",
   "metadata": {},
   "source": [
    "# Loading the Dataset"
   ]
  },
  {
   "cell_type": "code",
   "execution_count": 2,
   "metadata": {},
   "outputs": [],
   "source": [
    "poorly_formatted_rows = [2120259, 2446317, 11141080, 11152098, 11152401, 11882086, 12902538, 12935043, 17589538]\n",
    "df = pd.read_csv('lastfm_data/userid-timestamp-artid-artname-traid-traname.tsv', header=None, skiprows=poorly_formatted_rows, sep='\\t')\n",
    "df.columns = ['user_id', 'timestamp', 'artist_id', 'artist_name', 'track_id', 'track_name']\n",
    "df.dropna(inplace=True)"
   ]
  },
  {
   "cell_type": "markdown",
   "metadata": {},
   "source": [
    "# Group Recommendations"
   ]
  },
  {
   "cell_type": "code",
   "execution_count": 3,
   "metadata": {},
   "outputs": [],
   "source": [
    "gr = GroupRecommender('utility_matrix.pickle', df)"
   ]
  },
  {
   "cell_type": "markdown",
   "metadata": {},
   "source": [
    "## Obtaining Group Recommendations"
   ]
  },
  {
   "cell_type": "code",
   "execution_count": 4,
   "metadata": {},
   "outputs": [],
   "source": [
    "user_ids = np.random.choice(df['user_id'].unique(), 2, replace=False)\n",
    "max_recommendations = 20\n",
    "playlist = gr.full_recommendation(user_ids, max_recommendations, df, method='mean')"
   ]
  },
  {
   "cell_type": "code",
   "execution_count": 5,
   "metadata": {},
   "outputs": [
    {
     "name": "stdout",
     "output_type": "stream",
     "text": [
      "Recommended Songs for the Group: ['user_000120' 'user_000025']\n",
      "0)Maxine Nightingale - Right Back Where We Started From\n",
      "1)Colatron - Twin Hearts\n",
      "2)Helen Stellar - You Glow From Within\n",
      "3)Chosen Few - Angel Of Death\n",
      "4)Radium - Bonustrack (Provided By The Anti Radium League)\n",
      "5)Titanium Steel - Paralyzed\n",
      "6)Apocalyptica - Repressed (Feat. Max Cavalera & Matt Tuck)\n",
      "7)The American Analog Set - Desert Eagle (All I Want For Christmas Mix)\n",
      "8)Phil Retrospector - In My Twin Life\n",
      "9)Sonny Vincent - My Guitar\n",
      "10)Tieum - Dark Power\n",
      "11)Rza - Untitled # 12 (Free Jazz)\n",
      "12)The Long Division - Magic Muffin\n",
      "13)Faith Evans - Heaven Only Knows\n",
      "14)Voicedude - Velvet Dreams\n",
      "15)Herwig Mitteregger - Immer Mehr\n",
      "16)Rapid-S - Rising Hell\n",
      "17)Mastodon - I Am Ahab\n",
      "18)Radium - Disconnect Me\n",
      "19)Radium - Terror Inc\n"
     ]
    }
   ],
   "source": [
    "print(\"Recommended Songs for the Group:\", user_ids)\n",
    "for i, track in enumerate(playlist):\n",
    "    print(str(i) + ')' + track[0] + ' - ' + track[1])"
   ]
  },
  {
   "cell_type": "markdown",
   "metadata": {},
   "source": [
    "## Evaluating Recommendations"
   ]
  },
  {
   "cell_type": "code",
   "execution_count": 6,
   "metadata": {},
   "outputs": [
    {
     "name": "stdout",
     "output_type": "stream",
     "text": [
      "100.0 20\n"
     ]
    },
    {
     "data": {
      "text/plain": [
       "5.0"
      ]
     },
     "execution_count": 6,
     "metadata": {},
     "output_type": "execute_result"
    }
   ],
   "source": [
    "#TODO: implement evaluation method\n",
    "track_ids = [track.track_id for track in playlist]\n",
    "playlist_indexes = np.where(np.in1d(df['track_id'].dropna().unique(), track_ids))[0].tolist()\n",
    "user_indexes = np.where(np.in1d(df['user_id'].dropna().unique(), user_ids))[0].tolist()\n",
    "gr.evaluate(user_indexes, playlist_indexes)\n"
   ]
  },
  {
   "cell_type": "code",
   "execution_count": 7,
   "metadata": {},
   "outputs": [
    {
     "data": {
      "text/plain": [
       "[75112,\n",
       " 84673,\n",
       " 97518,\n",
       " 97820,\n",
       " 119200,\n",
       " 119201,\n",
       " 119202,\n",
       " 822680,\n",
       " 822704,\n",
       " 822734,\n",
       " 822743,\n",
       " 822744,\n",
       " 822752,\n",
       " 822776,\n",
       " 822781,\n",
       " 822788,\n",
       " 822795,\n",
       " 822805,\n",
       " 822841,\n",
       " 823920]"
      ]
     },
     "execution_count": 7,
     "metadata": {},
     "output_type": "execute_result"
    }
   ],
   "source": [
    "playlist_indexes"
   ]
  },
  {
   "cell_type": "code",
   "execution_count": 8,
   "metadata": {},
   "outputs": [
    {
     "ename": "NameError",
     "evalue": "name 'recommended_track_indexes' is not defined",
     "output_type": "error",
     "traceback": [
      "\u001b[0;31m---------------------------------------------------------------------------\u001b[0m",
      "\u001b[0;31mNameError\u001b[0m                                 Traceback (most recent call last)",
      "\u001b[0;32m<ipython-input-8-068210f958b6>\u001b[0m in \u001b[0;36m<module>\u001b[0;34m()\u001b[0m\n\u001b[0;32m----> 1\u001b[0;31m \u001b[0mrecommended_track_indexes\u001b[0m\u001b[0;34m\u001b[0m\u001b[0m\n\u001b[0m",
      "\u001b[0;31mNameError\u001b[0m: name 'recommended_track_indexes' is not defined"
     ]
    }
   ],
   "source": [
    "recommended_track_indexes"
   ]
  },
  {
   "cell_type": "markdown",
   "metadata": {},
   "source": [
    "## Creating Group Playlist"
   ]
  },
  {
   "cell_type": "code",
   "execution_count": null,
   "metadata": {
    "collapsed": true,
    "scrolled": true
   },
   "outputs": [],
   "source": [
    "import spotipy\n",
    "import pprint\n",
    "import spotipy.util as util\n",
    "from spotipy.oauth2 import SpotifyClientCredentials\n",
    "\n",
    "client_id = '5de79a00f1b9475098f277ce2a609120'\n",
    "client_secret = '909633d1415345fe89882b6e398390df'\n",
    "client_credentials_manager = SpotifyClientCredentials(client_id=client_id,\n",
    "                                                          client_secret=client_secret)\n",
    "\n",
    "sp = spotipy.Spotify(client_credentials_manager=client_credentials_manager)"
   ]
  },
  {
   "cell_type": "code",
   "execution_count": null,
   "metadata": {
    "collapsed": true
   },
   "outputs": [],
   "source": [
    "spotify_track_ids = []\n",
    "for track in playlist:\n",
    "    search_str = track[0] + ' ' + track[1]\n",
    "    result = sp.search(search_str, limit=1)\n",
    "    spotify_track_ids.append(result['tracks']['items'][0]['id'])"
   ]
  },
  {
   "cell_type": "code",
   "execution_count": null,
   "metadata": {
    "collapsed": true
   },
   "outputs": [],
   "source": [
    "playlist_name = 'Group recommendations for '\n",
    "playlist_name += ', '.join(user_ids)"
   ]
  },
  {
   "cell_type": "code",
   "execution_count": null,
   "metadata": {},
   "outputs": [],
   "source": [
    "username = '11130460071'\n",
    "scope='playlist-modify-public'\n",
    "token = util.prompt_for_user_token(username, \n",
    "                                   client_id=client_id, \n",
    "                                   client_secret=client_secret, \n",
    "                                   redirect_uri='https://github.com/alexing10/musicmagal',\n",
    "                                   scope=scope)"
   ]
  },
  {
   "cell_type": "code",
   "execution_count": null,
   "metadata": {},
   "outputs": [],
   "source": [
    "sp = spotipy.Spotify(auth=token)\n",
    "playlist = sp.user_playlist_create(username, playlist_name)\n",
    "sp.user_playlist_add_tracks(username, playlist['id'], spotify_track_ids)\n",
    "print(\"boom!\")"
   ]
  },
  {
   "cell_type": "code",
   "execution_count": null,
   "metadata": {
    "collapsed": true
   },
   "outputs": [],
   "source": [
    "sp.user_playlist_add_tracks(username, playlist_id, spotify_track_ids)"
   ]
  }
 ],
 "metadata": {
  "kernelspec": {
   "display_name": "Python 3",
   "language": "python",
   "name": "python3"
  },
  "language_info": {
   "codemirror_mode": {
    "name": "ipython",
    "version": 3
   },
   "file_extension": ".py",
   "mimetype": "text/x-python",
   "name": "python",
   "nbconvert_exporter": "python",
   "pygments_lexer": "ipython3",
   "version": "3.6.2"
  }
 },
 "nbformat": 4,
 "nbformat_minor": 2
}
