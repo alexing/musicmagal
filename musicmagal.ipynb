{
 "cells": [
  {
   "cell_type": "code",
   "execution_count": 1,
   "metadata": {
    "collapsed": true
   },
   "outputs": [],
   "source": [
    "import pandas as pd\n",
    "import numpy as np\n",
    "from grouprecommender import GroupRecommender"
   ]
  },
  {
   "cell_type": "markdown",
   "metadata": {},
   "source": [
    "# Loading the Dataset"
   ]
  },
  {
   "cell_type": "code",
   "execution_count": 2,
   "metadata": {},
   "outputs": [],
   "source": [
    "poorly_formatted_rows = [2120259, 2446317, 11141080, 11152098, 11152401, 11882086, 12902538, 12935043, 17589538]\n",
    "df = pd.read_csv('lastfm_data/userid-timestamp-artid-artname-traid-traname.tsv', header=None, skiprows=poorly_formatted_rows, sep='\\t')\n",
    "df.columns = ['user_id', 'timestamp', 'artist_id', 'artist_name', 'track_id', 'track_name']\n",
    "df.dropna(inplace=True)"
   ]
  },
  {
   "cell_type": "markdown",
   "metadata": {},
   "source": [
    "# Group Recommendations"
   ]
  },
  {
   "cell_type": "code",
   "execution_count": 3,
   "metadata": {},
   "outputs": [],
   "source": [
    "gr = GroupRecommender('utility_matrix.pickle', df)"
   ]
  },
  {
   "cell_type": "markdown",
   "metadata": {},
   "source": [
    "## Obtaining Group Recommendations"
   ]
  },
  {
   "cell_type": "code",
   "execution_count": 33,
   "metadata": {},
   "outputs": [],
   "source": [
    "user_ids = np.random.choice(df['user_id'].unique(), 3, replace=False)\n",
    "max_recommendations = 10\n",
    "playlist = gr.full_recommendation(user_ids, max_recommendations, df, method='mean')"
   ]
  },
  {
   "cell_type": "code",
   "execution_count": 34,
   "metadata": {},
   "outputs": [
    {
     "name": "stdout",
     "output_type": "stream",
     "text": [
      "Recommended Songs for the Group: ['user_000296' 'user_000243' 'user_000519']\n",
      "0)Haste - No Conditions\n",
      "1)Deja-Vu - Önce\n",
      "2)Deja-Vu - Alışık Değilsin\n",
      "3)Paola & Chiara - Amoremidai\n",
      "4)Thom Hell - Falling Down\n",
      "5)Dauntless - My Guidance\n",
      "6)Kotiteollisuus - Piru Irti\n",
      "7)Neil Anderson - When Is It Gonna Happen\n",
      "8)Emir Kusturica & The No Smoking Orchestra - Emir'S Dream\n",
      "9)Dreamtale - Angels Eyes\n"
     ]
    }
   ],
   "source": [
    "print(\"Recommended Songs for the Group:\", user_ids)\n",
    "for i, track in enumerate(playlist):\n",
    "    print(str(i) + ')' + track[0] + ' - ' + track[1])"
   ]
  },
  {
   "cell_type": "markdown",
   "metadata": {},
   "source": [
    "## Evaluating Recommendations"
   ]
  },
  {
   "cell_type": "code",
   "execution_count": 11,
   "metadata": {},
   "outputs": [
    {
     "name": "stdout",
     "output_type": "stream",
     "text": [
      "0.0 0\n"
     ]
    },
    {
     "name": "stderr",
     "output_type": "stream",
     "text": [
      "/Users/alex/Documents/itc/musicmagal/grouprecommender.py:135: RuntimeWarning: invalid value encountered in double_scalars\n",
      "  \n"
     ]
    },
    {
     "data": {
      "text/plain": [
       "nan"
      ]
     },
     "execution_count": 11,
     "metadata": {},
     "output_type": "execute_result"
    }
   ],
   "source": [
    "#TODO: implement evaluation method\n",
    "track_ids = [track.track_id for track in playlist]\n",
    "playlist_indexes = np.where(np.in1d(df['track_id'].dropna().unique(), track_ids))[0].tolist()\n",
    "user_indexes = np.where(np.in1d(df['user_id'].dropna().unique(), user_ids))[0].tolist()\n",
    "gr.evaluate(user_indexes, playlist_indexes)\n"
   ]
  },
  {
   "cell_type": "code",
   "execution_count": 32,
   "metadata": {},
   "outputs": [
    {
     "data": {
      "text/html": [
       "<div>\n",
       "<style>\n",
       "    .dataframe thead tr:only-child th {\n",
       "        text-align: right;\n",
       "    }\n",
       "\n",
       "    .dataframe thead th {\n",
       "        text-align: left;\n",
       "    }\n",
       "\n",
       "    .dataframe tbody tr th {\n",
       "        vertical-align: top;\n",
       "    }\n",
       "</style>\n",
       "<table border=\"1\" class=\"dataframe\">\n",
       "  <thead>\n",
       "    <tr style=\"text-align: right;\">\n",
       "      <th></th>\n",
       "      <th>user_id</th>\n",
       "      <th>timestamp</th>\n",
       "      <th>artist_id</th>\n",
       "      <th>artist_name</th>\n",
       "      <th>track_id</th>\n",
       "      <th>track_name</th>\n",
       "    </tr>\n",
       "  </thead>\n",
       "  <tbody>\n",
       "  </tbody>\n",
       "</table>\n",
       "</div>"
      ],
      "text/plain": [
       "Empty DataFrame\n",
       "Columns: [user_id, timestamp, artist_id, artist_name, track_id, track_name]\n",
       "Index: []"
      ]
     },
     "execution_count": 32,
     "metadata": {},
     "output_type": "execute_result"
    }
   ],
   "source": [
    "# for track in playlist_indexes:\n",
    "#     for user in user_indexes:\n",
    "#         print(gr.utility_matrix[track, user])\n",
    "sel = df[df['user_id'] == 'user_000072']\n",
    "sel[sel['artist_name'] == 'Capercaillie']\n",
    "#user_ids"
   ]
  },
  {
   "cell_type": "code",
   "execution_count": null,
   "metadata": {},
   "outputs": [],
   "source": []
  },
  {
   "cell_type": "markdown",
   "metadata": {},
   "source": [
    "## Creating Group Playlist"
   ]
  },
  {
   "cell_type": "code",
   "execution_count": null,
   "metadata": {
    "collapsed": true,
    "scrolled": true
   },
   "outputs": [],
   "source": [
    "import spotipy\n",
    "import pprint\n",
    "import spotipy.util as util\n",
    "from spotipy.oauth2 import SpotifyClientCredentials\n",
    "\n",
    "client_id = '5de79a00f1b9475098f277ce2a609120'\n",
    "client_secret = '909633d1415345fe89882b6e398390df'\n",
    "client_credentials_manager = SpotifyClientCredentials(client_id=client_id,\n",
    "                                                          client_secret=client_secret)\n",
    "\n",
    "sp = spotipy.Spotify(client_credentials_manager=client_credentials_manager)"
   ]
  },
  {
   "cell_type": "code",
   "execution_count": null,
   "metadata": {
    "collapsed": true
   },
   "outputs": [],
   "source": [
    "spotify_track_ids = []\n",
    "for track in playlist:\n",
    "    search_str = track[0] + ' ' + track[1]\n",
    "    result = sp.search(search_str, limit=1)\n",
    "    spotify_track_ids.append(result['tracks']['items'][0]['id'])"
   ]
  },
  {
   "cell_type": "code",
   "execution_count": null,
   "metadata": {
    "collapsed": true
   },
   "outputs": [],
   "source": [
    "playlist_name = 'Group recommendations for '\n",
    "playlist_name += ', '.join(user_ids)"
   ]
  },
  {
   "cell_type": "code",
   "execution_count": null,
   "metadata": {},
   "outputs": [],
   "source": [
    "username = '11130460071'\n",
    "scope='playlist-modify-public'\n",
    "token = util.prompt_for_user_token(username, \n",
    "                                   client_id=client_id, \n",
    "                                   client_secret=client_secret, \n",
    "                                   redirect_uri='https://github.com/alexing10/musicmagal',\n",
    "                                   scope=scope)"
   ]
  },
  {
   "cell_type": "code",
   "execution_count": null,
   "metadata": {},
   "outputs": [],
   "source": [
    "sp = spotipy.Spotify(auth=token)\n",
    "playlist = sp.user_playlist_create(username, playlist_name)\n",
    "sp.user_playlist_add_tracks(username, playlist['id'], spotify_track_ids)\n",
    "print(\"boom!\")"
   ]
  },
  {
   "cell_type": "code",
   "execution_count": null,
   "metadata": {
    "collapsed": true
   },
   "outputs": [],
   "source": [
    "sp.user_playlist_add_tracks(username, playlist_id, spotify_track_ids)"
   ]
  }
 ],
 "metadata": {
  "kernelspec": {
   "display_name": "Python 3",
   "language": "python",
   "name": "python3"
  },
  "language_info": {
   "codemirror_mode": {
    "name": "ipython",
    "version": 3
   },
   "file_extension": ".py",
   "mimetype": "text/x-python",
   "name": "python",
   "nbconvert_exporter": "python",
   "pygments_lexer": "ipython3",
   "version": "3.6.2"
  }
 },
 "nbformat": 4,
 "nbformat_minor": 2
}
