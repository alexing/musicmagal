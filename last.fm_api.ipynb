{
 "cells": [
  {
   "cell_type": "markdown",
   "metadata": {},
   "source": [
    "pyLast\n",
    "======\n",
    "From [here](https://github.com/pylast/pylast)\n",
    "Installation\n",
    "------------\n",
    "\n",
    "Install via pip:\n",
    "\n",
    "    pip install pylast"
   ]
  },
  {
   "cell_type": "code",
   "execution_count": 1,
   "metadata": {
    "collapsed": true
   },
   "outputs": [],
   "source": [
    "import pylast"
   ]
  },
  {
   "cell_type": "code",
   "execution_count": 2,
   "metadata": {},
   "outputs": [],
   "source": [
    "API_KEY = 'cbda714dcfa618c9eb841eb3dfcaa23a'\n",
    "API_SECRET = '61520dd7fc7f8d5fe918aee0a4cf8e15'\n",
    "\n",
    "# In order to perform a write operation you need to authenticate yourself\n",
    "username = \"alexing10\"\n",
    "password_hash = pylast.md5(\"mame32\")"
   ]
  },
  {
   "cell_type": "code",
   "execution_count": 3,
   "metadata": {},
   "outputs": [],
   "source": [
    "network = pylast.LastFMNetwork(api_key=API_KEY, api_secret=API_SECRET,\n",
    "                               username=username, password_hash=password_hash)\n",
    "\n",
    "# Now you can use that object everywhere\n",
    "artist = network.get_artist(\"System of a Down\")"
   ]
  },
  {
   "cell_type": "markdown",
   "metadata": {},
   "source": [
    "Some song I know"
   ]
  },
  {
   "cell_type": "code",
   "execution_count": 4,
   "metadata": {},
   "outputs": [
    {
     "data": {
      "text/plain": [
       "49"
      ]
     },
     "execution_count": 4,
     "metadata": {},
     "output_type": "execute_result"
    }
   ],
   "source": [
    "track = pylast.Track(\n",
    "            artist='Red Hot Chili Peppers', title='Factory Of Faith',\n",
    "            network=network, username=username)\n",
    "\n",
    "    \n",
    "track.get_userplaycount()"
   ]
  },
  {
   "cell_type": "markdown",
   "metadata": {},
   "source": [
    "Some song i don't"
   ]
  },
  {
   "cell_type": "code",
   "execution_count": 17,
   "metadata": {},
   "outputs": [
    {
     "data": {
      "text/plain": [
       "0"
      ]
     },
     "execution_count": 17,
     "metadata": {},
     "output_type": "execute_result"
    }
   ],
   "source": [
    "track = pylast.Track(\n",
    "            artist='4Hero', title='Stoke Up The Fire',\n",
    "            network=network, username=username)\n",
    "\n",
    "    \n",
    "track.get_userplaycount()"
   ]
  },
  {
   "cell_type": "markdown",
   "metadata": {},
   "source": [
    "### Load dataset"
   ]
  },
  {
   "cell_type": "code",
   "execution_count": 19,
   "metadata": {
    "collapsed": true
   },
   "outputs": [],
   "source": [
    "import pandas as pd\n",
    "import scipy.sparse\n",
    "import numpy as np"
   ]
  },
  {
   "cell_type": "code",
   "execution_count": 7,
   "metadata": {},
   "outputs": [],
   "source": [
    "poorly_formatted_rows = [2120259, 2446317, 11141080, 11152098, 11152401, 11882086, 12902538, 12935043, 17589538]\n",
    "df = pd.read_csv('lastfm_data/userid-timestamp-artid-artname-traid-traname.tsv', header=None, skiprows=poorly_formatted_rows, sep='\\t')\n",
    "df.columns = ['user_id', 'timestamp', 'artist_id', 'artist_name', 'track_id', 'track_name']\n",
    "df.dropna(inplace=True)"
   ]
  },
  {
   "cell_type": "code",
   "execution_count": 8,
   "metadata": {},
   "outputs": [],
   "source": [
    "from grouprecommender import GroupRecommender\n",
    "\n",
    "gr = GroupRecommender('utility_matrix.pickle', df)"
   ]
  },
  {
   "cell_type": "code",
   "execution_count": 10,
   "metadata": {},
   "outputs": [],
   "source": [
    "songs = gr.get_songs()"
   ]
  },
  {
   "cell_type": "code",
   "execution_count": 21,
   "metadata": {},
   "outputs": [
    {
     "name": "stdout",
     "output_type": "stream",
     "text": [
      "The Last Emperor (Theme) 坂本龍一\n",
      "Tibetan Dance (Version) 坂本龍一\n",
      "Boy, Boy, Boy (Switch Remix) Underworld\n",
      "Crocodile (Innervisions Orchestra Mix) Underworld\n",
      "Ninna Nanna In Blu (Raw Deal Remix) Ennio Morricone\n",
      "Elysian Fields Minus 8\n",
      "Planetary Deadlock Beanfield\n",
      "Good Morning Love Coffee Is Ready Dj Linus\n",
      "Deadly Species Alif Tree\n",
      "Cold Fusion Minus 8\n",
      "Clouds Wei-Chi\n",
      "Sovatex 2055 Marsmobil\n",
      "Beach Towel Karma\n",
      "How Lonely Does It Get The Young Lovers\n",
      "You Make Me Dizzy The Young Lovers\n",
      "The Awakening 4Hero\n",
      "Stoke Up The Fire 4Hero\n",
      "Something In The Way 4Hero\n",
      "Play With The Changes 4Hero\n",
      "Give In 4Hero\n",
      "Look Inside 4Hero\n",
      "Morning Child 4Hero\n",
      "Take My Time 4Hero\n",
      "Morning Child 4Hero\n",
      "Amber Sky Samantha James\n",
      "Rasta Baby Gelka\n",
      "Rasta Baby Gelka\n",
      "Growls Garden Clark\n"
     ]
    },
    {
     "ename": "NetworkError",
     "evalue": "NetworkError: EOF occurred in violation of protocol (_ssl.c:748)",
     "output_type": "error",
     "traceback": [
      "\u001b[0;31m---------------------------------------------------------------------------\u001b[0m",
      "\u001b[0;31mSSLEOFError\u001b[0m                               Traceback (most recent call last)",
      "\u001b[0;32m~/anaconda3/lib/python3.6/site-packages/pylast/__init__.py\u001b[0m in \u001b[0;36m_download_response\u001b[0;34m(self)\u001b[0m\n\u001b[1;32m    848\u001b[0m                 conn.request(\n\u001b[0;32m--> 849\u001b[0;31m                     method='POST', url=HOST_SUBDIR, body=data, headers=headers)\n\u001b[0m\u001b[1;32m    850\u001b[0m             \u001b[0;32mexcept\u001b[0m \u001b[0mException\u001b[0m \u001b[0;32mas\u001b[0m \u001b[0me\u001b[0m\u001b[0;34m:\u001b[0m\u001b[0;34m\u001b[0m\u001b[0m\n",
      "\u001b[0;32m~/anaconda3/lib/python3.6/http/client.py\u001b[0m in \u001b[0;36mrequest\u001b[0;34m(self, method, url, body, headers, encode_chunked)\u001b[0m\n\u001b[1;32m   1238\u001b[0m         \u001b[0;34m\"\"\"Send a complete request to the server.\"\"\"\u001b[0m\u001b[0;34m\u001b[0m\u001b[0m\n\u001b[0;32m-> 1239\u001b[0;31m         \u001b[0mself\u001b[0m\u001b[0;34m.\u001b[0m\u001b[0m_send_request\u001b[0m\u001b[0;34m(\u001b[0m\u001b[0mmethod\u001b[0m\u001b[0;34m,\u001b[0m \u001b[0murl\u001b[0m\u001b[0;34m,\u001b[0m \u001b[0mbody\u001b[0m\u001b[0;34m,\u001b[0m \u001b[0mheaders\u001b[0m\u001b[0;34m,\u001b[0m \u001b[0mencode_chunked\u001b[0m\u001b[0;34m)\u001b[0m\u001b[0;34m\u001b[0m\u001b[0m\n\u001b[0m\u001b[1;32m   1240\u001b[0m \u001b[0;34m\u001b[0m\u001b[0m\n",
      "\u001b[0;32m~/anaconda3/lib/python3.6/http/client.py\u001b[0m in \u001b[0;36m_send_request\u001b[0;34m(self, method, url, body, headers, encode_chunked)\u001b[0m\n\u001b[1;32m   1284\u001b[0m             \u001b[0mbody\u001b[0m \u001b[0;34m=\u001b[0m \u001b[0m_encode\u001b[0m\u001b[0;34m(\u001b[0m\u001b[0mbody\u001b[0m\u001b[0;34m,\u001b[0m \u001b[0;34m'body'\u001b[0m\u001b[0;34m)\u001b[0m\u001b[0;34m\u001b[0m\u001b[0m\n\u001b[0;32m-> 1285\u001b[0;31m         \u001b[0mself\u001b[0m\u001b[0;34m.\u001b[0m\u001b[0mendheaders\u001b[0m\u001b[0;34m(\u001b[0m\u001b[0mbody\u001b[0m\u001b[0;34m,\u001b[0m \u001b[0mencode_chunked\u001b[0m\u001b[0;34m=\u001b[0m\u001b[0mencode_chunked\u001b[0m\u001b[0;34m)\u001b[0m\u001b[0;34m\u001b[0m\u001b[0m\n\u001b[0m\u001b[1;32m   1286\u001b[0m \u001b[0;34m\u001b[0m\u001b[0m\n",
      "\u001b[0;32m~/anaconda3/lib/python3.6/http/client.py\u001b[0m in \u001b[0;36mendheaders\u001b[0;34m(self, message_body, encode_chunked)\u001b[0m\n\u001b[1;32m   1233\u001b[0m             \u001b[0;32mraise\u001b[0m \u001b[0mCannotSendHeader\u001b[0m\u001b[0;34m(\u001b[0m\u001b[0;34m)\u001b[0m\u001b[0;34m\u001b[0m\u001b[0m\n\u001b[0;32m-> 1234\u001b[0;31m         \u001b[0mself\u001b[0m\u001b[0;34m.\u001b[0m\u001b[0m_send_output\u001b[0m\u001b[0;34m(\u001b[0m\u001b[0mmessage_body\u001b[0m\u001b[0;34m,\u001b[0m \u001b[0mencode_chunked\u001b[0m\u001b[0;34m=\u001b[0m\u001b[0mencode_chunked\u001b[0m\u001b[0;34m)\u001b[0m\u001b[0;34m\u001b[0m\u001b[0m\n\u001b[0m\u001b[1;32m   1235\u001b[0m \u001b[0;34m\u001b[0m\u001b[0m\n",
      "\u001b[0;32m~/anaconda3/lib/python3.6/http/client.py\u001b[0m in \u001b[0;36m_send_output\u001b[0;34m(self, message_body, encode_chunked)\u001b[0m\n\u001b[1;32m   1025\u001b[0m         \u001b[0;32mdel\u001b[0m \u001b[0mself\u001b[0m\u001b[0;34m.\u001b[0m\u001b[0m_buffer\u001b[0m\u001b[0;34m[\u001b[0m\u001b[0;34m:\u001b[0m\u001b[0;34m]\u001b[0m\u001b[0;34m\u001b[0m\u001b[0m\n\u001b[0;32m-> 1026\u001b[0;31m         \u001b[0mself\u001b[0m\u001b[0;34m.\u001b[0m\u001b[0msend\u001b[0m\u001b[0;34m(\u001b[0m\u001b[0mmsg\u001b[0m\u001b[0;34m)\u001b[0m\u001b[0;34m\u001b[0m\u001b[0m\n\u001b[0m\u001b[1;32m   1027\u001b[0m \u001b[0;34m\u001b[0m\u001b[0m\n",
      "\u001b[0;32m~/anaconda3/lib/python3.6/http/client.py\u001b[0m in \u001b[0;36msend\u001b[0;34m(self, data)\u001b[0m\n\u001b[1;32m    963\u001b[0m             \u001b[0;32mif\u001b[0m \u001b[0mself\u001b[0m\u001b[0;34m.\u001b[0m\u001b[0mauto_open\u001b[0m\u001b[0;34m:\u001b[0m\u001b[0;34m\u001b[0m\u001b[0m\n\u001b[0;32m--> 964\u001b[0;31m                 \u001b[0mself\u001b[0m\u001b[0;34m.\u001b[0m\u001b[0mconnect\u001b[0m\u001b[0;34m(\u001b[0m\u001b[0;34m)\u001b[0m\u001b[0;34m\u001b[0m\u001b[0m\n\u001b[0m\u001b[1;32m    965\u001b[0m             \u001b[0;32melse\u001b[0m\u001b[0;34m:\u001b[0m\u001b[0;34m\u001b[0m\u001b[0m\n",
      "\u001b[0;32m~/anaconda3/lib/python3.6/http/client.py\u001b[0m in \u001b[0;36mconnect\u001b[0;34m(self)\u001b[0m\n\u001b[1;32m   1399\u001b[0m             self.sock = self._context.wrap_socket(self.sock,\n\u001b[0;32m-> 1400\u001b[0;31m                                                   server_hostname=server_hostname)\n\u001b[0m\u001b[1;32m   1401\u001b[0m             \u001b[0;32mif\u001b[0m \u001b[0;32mnot\u001b[0m \u001b[0mself\u001b[0m\u001b[0;34m.\u001b[0m\u001b[0m_context\u001b[0m\u001b[0;34m.\u001b[0m\u001b[0mcheck_hostname\u001b[0m \u001b[0;32mand\u001b[0m \u001b[0mself\u001b[0m\u001b[0;34m.\u001b[0m\u001b[0m_check_hostname\u001b[0m\u001b[0;34m:\u001b[0m\u001b[0;34m\u001b[0m\u001b[0m\n",
      "\u001b[0;32m~/anaconda3/lib/python3.6/ssl.py\u001b[0m in \u001b[0;36mwrap_socket\u001b[0;34m(self, sock, server_side, do_handshake_on_connect, suppress_ragged_eofs, server_hostname, session)\u001b[0m\n\u001b[1;32m    400\u001b[0m                          \u001b[0mserver_hostname\u001b[0m\u001b[0;34m=\u001b[0m\u001b[0mserver_hostname\u001b[0m\u001b[0;34m,\u001b[0m\u001b[0;34m\u001b[0m\u001b[0m\n\u001b[0;32m--> 401\u001b[0;31m                          _context=self, _session=session)\n\u001b[0m\u001b[1;32m    402\u001b[0m \u001b[0;34m\u001b[0m\u001b[0m\n",
      "\u001b[0;32m~/anaconda3/lib/python3.6/ssl.py\u001b[0m in \u001b[0;36m__init__\u001b[0;34m(self, sock, keyfile, certfile, server_side, cert_reqs, ssl_version, ca_certs, do_handshake_on_connect, family, type, proto, fileno, suppress_ragged_eofs, npn_protocols, ciphers, server_hostname, _context, _session)\u001b[0m\n\u001b[1;32m    807\u001b[0m                         \u001b[0;32mraise\u001b[0m \u001b[0mValueError\u001b[0m\u001b[0;34m(\u001b[0m\u001b[0;34m\"do_handshake_on_connect should not be specified for non-blocking sockets\"\u001b[0m\u001b[0;34m)\u001b[0m\u001b[0;34m\u001b[0m\u001b[0m\n\u001b[0;32m--> 808\u001b[0;31m                     \u001b[0mself\u001b[0m\u001b[0;34m.\u001b[0m\u001b[0mdo_handshake\u001b[0m\u001b[0;34m(\u001b[0m\u001b[0;34m)\u001b[0m\u001b[0;34m\u001b[0m\u001b[0m\n\u001b[0m\u001b[1;32m    809\u001b[0m \u001b[0;34m\u001b[0m\u001b[0m\n",
      "\u001b[0;32m~/anaconda3/lib/python3.6/ssl.py\u001b[0m in \u001b[0;36mdo_handshake\u001b[0;34m(self, block)\u001b[0m\n\u001b[1;32m   1060\u001b[0m                 \u001b[0mself\u001b[0m\u001b[0;34m.\u001b[0m\u001b[0msettimeout\u001b[0m\u001b[0;34m(\u001b[0m\u001b[0;32mNone\u001b[0m\u001b[0;34m)\u001b[0m\u001b[0;34m\u001b[0m\u001b[0m\n\u001b[0;32m-> 1061\u001b[0;31m             \u001b[0mself\u001b[0m\u001b[0;34m.\u001b[0m\u001b[0m_sslobj\u001b[0m\u001b[0;34m.\u001b[0m\u001b[0mdo_handshake\u001b[0m\u001b[0;34m(\u001b[0m\u001b[0;34m)\u001b[0m\u001b[0;34m\u001b[0m\u001b[0m\n\u001b[0m\u001b[1;32m   1062\u001b[0m         \u001b[0;32mfinally\u001b[0m\u001b[0;34m:\u001b[0m\u001b[0;34m\u001b[0m\u001b[0m\n",
      "\u001b[0;32m~/anaconda3/lib/python3.6/ssl.py\u001b[0m in \u001b[0;36mdo_handshake\u001b[0;34m(self)\u001b[0m\n\u001b[1;32m    682\u001b[0m         \u001b[0;34m\"\"\"Start the SSL/TLS handshake.\"\"\"\u001b[0m\u001b[0;34m\u001b[0m\u001b[0m\n\u001b[0;32m--> 683\u001b[0;31m         \u001b[0mself\u001b[0m\u001b[0;34m.\u001b[0m\u001b[0m_sslobj\u001b[0m\u001b[0;34m.\u001b[0m\u001b[0mdo_handshake\u001b[0m\u001b[0;34m(\u001b[0m\u001b[0;34m)\u001b[0m\u001b[0;34m\u001b[0m\u001b[0m\n\u001b[0m\u001b[1;32m    684\u001b[0m         \u001b[0;32mif\u001b[0m \u001b[0mself\u001b[0m\u001b[0;34m.\u001b[0m\u001b[0mcontext\u001b[0m\u001b[0;34m.\u001b[0m\u001b[0mcheck_hostname\u001b[0m\u001b[0;34m:\u001b[0m\u001b[0;34m\u001b[0m\u001b[0m\n",
      "\u001b[0;31mSSLEOFError\u001b[0m: EOF occurred in violation of protocol (_ssl.c:748)",
      "\nDuring handling of the above exception, another exception occurred:\n",
      "\u001b[0;31mNetworkError\u001b[0m                              Traceback (most recent call last)",
      "\u001b[0;32m<ipython-input-21-b80ba0dd501e>\u001b[0m in \u001b[0;36m<module>\u001b[0;34m()\u001b[0m\n\u001b[1;32m      7\u001b[0m \u001b[0;34m\u001b[0m\u001b[0m\n\u001b[1;32m      8\u001b[0m \u001b[0;34m\u001b[0m\u001b[0m\n\u001b[0;32m----> 9\u001b[0;31m     \u001b[0mcount\u001b[0m \u001b[0;34m=\u001b[0m \u001b[0mtrack\u001b[0m\u001b[0;34m.\u001b[0m\u001b[0mget_userplaycount\u001b[0m\u001b[0;34m(\u001b[0m\u001b[0;34m)\u001b[0m\u001b[0;34m\u001b[0m\u001b[0m\n\u001b[0m\u001b[1;32m     10\u001b[0m     \u001b[0mnew_column\u001b[0m\u001b[0;34m[\u001b[0m\u001b[0mindex\u001b[0m\u001b[0;34m]\u001b[0m \u001b[0;34m=\u001b[0m \u001b[0mcount\u001b[0m\u001b[0;34m\u001b[0m\u001b[0m\n\u001b[1;32m     11\u001b[0m \u001b[0msparse\u001b[0m\u001b[0;34m.\u001b[0m\u001b[0mhstack\u001b[0m\u001b[0;34m(\u001b[0m\u001b[0;34m(\u001b[0m\u001b[0mself\u001b[0m\u001b[0;34m.\u001b[0m\u001b[0mutility_matrix\u001b[0m\u001b[0;34m,\u001b[0m\u001b[0mnew_column\u001b[0m\u001b[0;34m[\u001b[0m\u001b[0;34m:\u001b[0m\u001b[0;34m,\u001b[0m\u001b[0;32mNone\u001b[0m\u001b[0;34m]\u001b[0m\u001b[0;34m)\u001b[0m\u001b[0;34m)\u001b[0m\u001b[0;34m.\u001b[0m\u001b[0mA\u001b[0m\u001b[0;34m\u001b[0m\u001b[0m\n",
      "\u001b[0;32m~/anaconda3/lib/python3.6/site-packages/pylast/__init__.py\u001b[0m in \u001b[0;36mget_userplaycount\u001b[0;34m(self)\u001b[0m\n\u001b[1;32m   1440\u001b[0m         \u001b[0mparams\u001b[0m\u001b[0;34m[\u001b[0m\u001b[0;34m'username'\u001b[0m\u001b[0;34m]\u001b[0m \u001b[0;34m=\u001b[0m \u001b[0mself\u001b[0m\u001b[0;34m.\u001b[0m\u001b[0musername\u001b[0m\u001b[0;34m\u001b[0m\u001b[0m\n\u001b[1;32m   1441\u001b[0m \u001b[0;34m\u001b[0m\u001b[0m\n\u001b[0;32m-> 1442\u001b[0;31m         \u001b[0mdoc\u001b[0m \u001b[0;34m=\u001b[0m \u001b[0mself\u001b[0m\u001b[0;34m.\u001b[0m\u001b[0m_request\u001b[0m\u001b[0;34m(\u001b[0m\u001b[0mself\u001b[0m\u001b[0;34m.\u001b[0m\u001b[0mws_prefix\u001b[0m \u001b[0;34m+\u001b[0m \u001b[0;34m\".getInfo\"\u001b[0m\u001b[0;34m,\u001b[0m \u001b[0;32mTrue\u001b[0m\u001b[0;34m,\u001b[0m \u001b[0mparams\u001b[0m\u001b[0;34m)\u001b[0m\u001b[0;34m\u001b[0m\u001b[0m\n\u001b[0m\u001b[1;32m   1443\u001b[0m         \u001b[0;32mreturn\u001b[0m \u001b[0m_number\u001b[0m\u001b[0;34m(\u001b[0m\u001b[0m_extract\u001b[0m\u001b[0;34m(\u001b[0m\u001b[0mdoc\u001b[0m\u001b[0;34m,\u001b[0m \u001b[0;34m\"userplaycount\"\u001b[0m\u001b[0;34m)\u001b[0m\u001b[0;34m)\u001b[0m\u001b[0;34m\u001b[0m\u001b[0m\n\u001b[1;32m   1444\u001b[0m \u001b[0;34m\u001b[0m\u001b[0m\n",
      "\u001b[0;32m~/anaconda3/lib/python3.6/site-packages/pylast/__init__.py\u001b[0m in \u001b[0;36m_request\u001b[0;34m(self, method_name, cacheable, params)\u001b[0m\n\u001b[1;32m   1027\u001b[0m             \u001b[0mparams\u001b[0m \u001b[0;34m=\u001b[0m \u001b[0mself\u001b[0m\u001b[0;34m.\u001b[0m\u001b[0m_get_params\u001b[0m\u001b[0;34m(\u001b[0m\u001b[0;34m)\u001b[0m\u001b[0;34m\u001b[0m\u001b[0m\n\u001b[1;32m   1028\u001b[0m \u001b[0;34m\u001b[0m\u001b[0m\n\u001b[0;32m-> 1029\u001b[0;31m         \u001b[0;32mreturn\u001b[0m \u001b[0m_Request\u001b[0m\u001b[0;34m(\u001b[0m\u001b[0mself\u001b[0m\u001b[0;34m.\u001b[0m\u001b[0mnetwork\u001b[0m\u001b[0;34m,\u001b[0m \u001b[0mmethod_name\u001b[0m\u001b[0;34m,\u001b[0m \u001b[0mparams\u001b[0m\u001b[0;34m)\u001b[0m\u001b[0;34m.\u001b[0m\u001b[0mexecute\u001b[0m\u001b[0;34m(\u001b[0m\u001b[0mcacheable\u001b[0m\u001b[0;34m)\u001b[0m\u001b[0;34m\u001b[0m\u001b[0m\n\u001b[0m\u001b[1;32m   1030\u001b[0m \u001b[0;34m\u001b[0m\u001b[0m\n\u001b[1;32m   1031\u001b[0m     \u001b[0;32mdef\u001b[0m \u001b[0m_get_params\u001b[0m\u001b[0;34m(\u001b[0m\u001b[0mself\u001b[0m\u001b[0;34m)\u001b[0m\u001b[0;34m:\u001b[0m\u001b[0;34m\u001b[0m\u001b[0m\n",
      "\u001b[0;32m~/anaconda3/lib/python3.6/site-packages/pylast/__init__.py\u001b[0m in \u001b[0;36mexecute\u001b[0;34m(self, cacheable)\u001b[0m\n\u001b[1;32m    866\u001b[0m             \u001b[0mresponse\u001b[0m \u001b[0;34m=\u001b[0m \u001b[0mself\u001b[0m\u001b[0;34m.\u001b[0m\u001b[0m_get_cached_response\u001b[0m\u001b[0;34m(\u001b[0m\u001b[0;34m)\u001b[0m\u001b[0;34m\u001b[0m\u001b[0m\n\u001b[1;32m    867\u001b[0m         \u001b[0;32melse\u001b[0m\u001b[0;34m:\u001b[0m\u001b[0;34m\u001b[0m\u001b[0m\n\u001b[0;32m--> 868\u001b[0;31m             \u001b[0mresponse\u001b[0m \u001b[0;34m=\u001b[0m \u001b[0mself\u001b[0m\u001b[0;34m.\u001b[0m\u001b[0m_download_response\u001b[0m\u001b[0;34m(\u001b[0m\u001b[0;34m)\u001b[0m\u001b[0;34m\u001b[0m\u001b[0m\n\u001b[0m\u001b[1;32m    869\u001b[0m \u001b[0;34m\u001b[0m\u001b[0m\n\u001b[1;32m    870\u001b[0m         return minidom.parseString(_string(response).replace(\n",
      "\u001b[0;32m~/anaconda3/lib/python3.6/site-packages/pylast/__init__.py\u001b[0m in \u001b[0;36m_download_response\u001b[0;34m(self)\u001b[0m\n\u001b[1;32m    849\u001b[0m                     method='POST', url=HOST_SUBDIR, body=data, headers=headers)\n\u001b[1;32m    850\u001b[0m             \u001b[0;32mexcept\u001b[0m \u001b[0mException\u001b[0m \u001b[0;32mas\u001b[0m \u001b[0me\u001b[0m\u001b[0;34m:\u001b[0m\u001b[0;34m\u001b[0m\u001b[0m\n\u001b[0;32m--> 851\u001b[0;31m                 \u001b[0;32mraise\u001b[0m \u001b[0mNetworkError\u001b[0m\u001b[0;34m(\u001b[0m\u001b[0mself\u001b[0m\u001b[0;34m.\u001b[0m\u001b[0mnetwork\u001b[0m\u001b[0;34m,\u001b[0m \u001b[0me\u001b[0m\u001b[0;34m)\u001b[0m\u001b[0;34m\u001b[0m\u001b[0m\n\u001b[0m\u001b[1;32m    852\u001b[0m \u001b[0;34m\u001b[0m\u001b[0m\n\u001b[1;32m    853\u001b[0m         \u001b[0;32mtry\u001b[0m\u001b[0;34m:\u001b[0m\u001b[0;34m\u001b[0m\u001b[0m\n",
      "\u001b[0;31mNetworkError\u001b[0m: NetworkError: EOF occurred in violation of protocol (_ssl.c:748)"
     ]
    }
   ],
   "source": [
    "new_column = np.zeros(len(songs))\n",
    "for index, row in songs.iterrows():\n",
    "    print(row['track_name'], row['artist_name'])\n",
    "    track = pylast.Track(\n",
    "            artist=row['artist_name'], title=row['track_name'],\n",
    "            network=network, username=username)\n",
    "\n",
    "    \n",
    "    count = track.get_userplaycount()\n",
    "    new_column[index] = count\n",
    "sparse.hstack((self.utility_matrix,new_column[:,None])).A\n"
   ]
  },
  {
   "cell_type": "markdown",
   "metadata": {},
   "source": [
    "### Too slow"
   ]
  },
  {
   "cell_type": "code",
   "execution_count": 22,
   "metadata": {
    "collapsed": true
   },
   "outputs": [],
   "source": [
    "library = pylast.Library(user=username, network=network)"
   ]
  },
  {
   "cell_type": "code",
   "execution_count": 24,
   "metadata": {},
   "outputs": [
    {
     "data": {
      "text/plain": [
       "['__class__',\n",
       " '__delattr__',\n",
       " '__dict__',\n",
       " '__dir__',\n",
       " '__doc__',\n",
       " '__eq__',\n",
       " '__format__',\n",
       " '__ge__',\n",
       " '__getattribute__',\n",
       " '__gt__',\n",
       " '__hash__',\n",
       " '__init__',\n",
       " '__init_subclass__',\n",
       " '__le__',\n",
       " '__lt__',\n",
       " '__module__',\n",
       " '__ne__',\n",
       " '__new__',\n",
       " '__reduce__',\n",
       " '__reduce_ex__',\n",
       " '__repr__',\n",
       " '__setattr__',\n",
       " '__sizeof__',\n",
       " '__str__',\n",
       " '__subclasshook__',\n",
       " '__weakref__',\n",
       " '_extract_cdata_from_request',\n",
       " '_get_params',\n",
       " '_get_things',\n",
       " '_request',\n",
       " 'get_artists',\n",
       " 'get_user',\n",
       " 'get_wiki',\n",
       " 'get_wiki_content',\n",
       " 'get_wiki_published_date',\n",
       " 'get_wiki_summary',\n",
       " 'network',\n",
       " 'user',\n",
       " 'ws_prefix']"
      ]
     },
     "execution_count": 24,
     "metadata": {},
     "output_type": "execute_result"
    }
   ],
   "source": [
    "dir(library)"
   ]
  },
  {
   "cell_type": "code",
   "execution_count": 25,
   "metadata": {},
   "outputs": [
    {
     "data": {
      "text/plain": [
       "[LibraryItem(item=pylast.Artist('Red Hot Chili Peppers', pylast.LastFMNetwork('cbda714dcfa618c9eb841eb3dfcaa23a', '61520dd7fc7f8d5fe918aee0a4cf8e15', '9-8O-Uz8e_dgMiFbQ4zW1EFquzzWPJHb', 'alexing10', 'd9d8feac55f308d96ee98796cf71a926')), playcount=1690, tagcount=0),\n",
       " LibraryItem(item=pylast.Artist('Jorge Drexler', pylast.LastFMNetwork('cbda714dcfa618c9eb841eb3dfcaa23a', '61520dd7fc7f8d5fe918aee0a4cf8e15', '9-8O-Uz8e_dgMiFbQ4zW1EFquzzWPJHb', 'alexing10', 'd9d8feac55f308d96ee98796cf71a926')), playcount=1322, tagcount=0),\n",
       " LibraryItem(item=pylast.Artist('Pearl Jam', pylast.LastFMNetwork('cbda714dcfa618c9eb841eb3dfcaa23a', '61520dd7fc7f8d5fe918aee0a4cf8e15', '9-8O-Uz8e_dgMiFbQ4zW1EFquzzWPJHb', 'alexing10', 'd9d8feac55f308d96ee98796cf71a926')), playcount=1122, tagcount=0),\n",
       " LibraryItem(item=pylast.Artist('The Beatles', pylast.LastFMNetwork('cbda714dcfa618c9eb841eb3dfcaa23a', '61520dd7fc7f8d5fe918aee0a4cf8e15', '9-8O-Uz8e_dgMiFbQ4zW1EFquzzWPJHb', 'alexing10', 'd9d8feac55f308d96ee98796cf71a926')), playcount=769, tagcount=0),\n",
       " LibraryItem(item=pylast.Artist('Radiohead', pylast.LastFMNetwork('cbda714dcfa618c9eb841eb3dfcaa23a', '61520dd7fc7f8d5fe918aee0a4cf8e15', '9-8O-Uz8e_dgMiFbQ4zW1EFquzzWPJHb', 'alexing10', 'd9d8feac55f308d96ee98796cf71a926')), playcount=758, tagcount=0),\n",
       " LibraryItem(item=pylast.Artist('John Mayer', pylast.LastFMNetwork('cbda714dcfa618c9eb841eb3dfcaa23a', '61520dd7fc7f8d5fe918aee0a4cf8e15', '9-8O-Uz8e_dgMiFbQ4zW1EFquzzWPJHb', 'alexing10', 'd9d8feac55f308d96ee98796cf71a926')), playcount=734, tagcount=0),\n",
       " LibraryItem(item=pylast.Artist('Gustavo Cerati', pylast.LastFMNetwork('cbda714dcfa618c9eb841eb3dfcaa23a', '61520dd7fc7f8d5fe918aee0a4cf8e15', '9-8O-Uz8e_dgMiFbQ4zW1EFquzzWPJHb', 'alexing10', 'd9d8feac55f308d96ee98796cf71a926')), playcount=659, tagcount=0),\n",
       " LibraryItem(item=pylast.Artist('Jack Johnson', pylast.LastFMNetwork('cbda714dcfa618c9eb841eb3dfcaa23a', '61520dd7fc7f8d5fe918aee0a4cf8e15', '9-8O-Uz8e_dgMiFbQ4zW1EFquzzWPJHb', 'alexing10', 'd9d8feac55f308d96ee98796cf71a926')), playcount=626, tagcount=0),\n",
       " LibraryItem(item=pylast.Artist('Café Tacvba', pylast.LastFMNetwork('cbda714dcfa618c9eb841eb3dfcaa23a', '61520dd7fc7f8d5fe918aee0a4cf8e15', '9-8O-Uz8e_dgMiFbQ4zW1EFquzzWPJHb', 'alexing10', 'd9d8feac55f308d96ee98796cf71a926')), playcount=555, tagcount=0),\n",
       " LibraryItem(item=pylast.Artist('Kings of Leon', pylast.LastFMNetwork('cbda714dcfa618c9eb841eb3dfcaa23a', '61520dd7fc7f8d5fe918aee0a4cf8e15', '9-8O-Uz8e_dgMiFbQ4zW1EFquzzWPJHb', 'alexing10', 'd9d8feac55f308d96ee98796cf71a926')), playcount=541, tagcount=0),\n",
       " LibraryItem(item=pylast.Artist('Cerveza C', pylast.LastFMNetwork('cbda714dcfa618c9eb841eb3dfcaa23a', '61520dd7fc7f8d5fe918aee0a4cf8e15', '9-8O-Uz8e_dgMiFbQ4zW1EFquzzWPJHb', 'alexing10', 'd9d8feac55f308d96ee98796cf71a926')), playcount=480, tagcount=0),\n",
       " LibraryItem(item=pylast.Artist('Green Day', pylast.LastFMNetwork('cbda714dcfa618c9eb841eb3dfcaa23a', '61520dd7fc7f8d5fe918aee0a4cf8e15', '9-8O-Uz8e_dgMiFbQ4zW1EFquzzWPJHb', 'alexing10', 'd9d8feac55f308d96ee98796cf71a926')), playcount=443, tagcount=0),\n",
       " LibraryItem(item=pylast.Artist('Foo Fighters', pylast.LastFMNetwork('cbda714dcfa618c9eb841eb3dfcaa23a', '61520dd7fc7f8d5fe918aee0a4cf8e15', '9-8O-Uz8e_dgMiFbQ4zW1EFquzzWPJHb', 'alexing10', 'd9d8feac55f308d96ee98796cf71a926')), playcount=439, tagcount=0),\n",
       " LibraryItem(item=pylast.Artist('Phoenix', pylast.LastFMNetwork('cbda714dcfa618c9eb841eb3dfcaa23a', '61520dd7fc7f8d5fe918aee0a4cf8e15', '9-8O-Uz8e_dgMiFbQ4zW1EFquzzWPJHb', 'alexing10', 'd9d8feac55f308d96ee98796cf71a926')), playcount=424, tagcount=0),\n",
       " LibraryItem(item=pylast.Artist('Lisandro Aristimuño', pylast.LastFMNetwork('cbda714dcfa618c9eb841eb3dfcaa23a', '61520dd7fc7f8d5fe918aee0a4cf8e15', '9-8O-Uz8e_dgMiFbQ4zW1EFquzzWPJHb', 'alexing10', 'd9d8feac55f308d96ee98796cf71a926')), playcount=410, tagcount=0),\n",
       " LibraryItem(item=pylast.Artist('Kevin Johansen', pylast.LastFMNetwork('cbda714dcfa618c9eb841eb3dfcaa23a', '61520dd7fc7f8d5fe918aee0a4cf8e15', '9-8O-Uz8e_dgMiFbQ4zW1EFquzzWPJHb', 'alexing10', 'd9d8feac55f308d96ee98796cf71a926')), playcount=408, tagcount=0),\n",
       " LibraryItem(item=pylast.Artist('Paul McCartney', pylast.LastFMNetwork('cbda714dcfa618c9eb841eb3dfcaa23a', '61520dd7fc7f8d5fe918aee0a4cf8e15', '9-8O-Uz8e_dgMiFbQ4zW1EFquzzWPJHb', 'alexing10', 'd9d8feac55f308d96ee98796cf71a926')), playcount=402, tagcount=0),\n",
       " LibraryItem(item=pylast.Artist('Babasónicos', pylast.LastFMNetwork('cbda714dcfa618c9eb841eb3dfcaa23a', '61520dd7fc7f8d5fe918aee0a4cf8e15', '9-8O-Uz8e_dgMiFbQ4zW1EFquzzWPJHb', 'alexing10', 'd9d8feac55f308d96ee98796cf71a926')), playcount=399, tagcount=0),\n",
       " LibraryItem(item=pylast.Artist('John Frusciante', pylast.LastFMNetwork('cbda714dcfa618c9eb841eb3dfcaa23a', '61520dd7fc7f8d5fe918aee0a4cf8e15', '9-8O-Uz8e_dgMiFbQ4zW1EFquzzWPJHb', 'alexing10', 'd9d8feac55f308d96ee98796cf71a926')), playcount=385, tagcount=0),\n",
       " LibraryItem(item=pylast.Artist('Soda Stereo', pylast.LastFMNetwork('cbda714dcfa618c9eb841eb3dfcaa23a', '61520dd7fc7f8d5fe918aee0a4cf8e15', '9-8O-Uz8e_dgMiFbQ4zW1EFquzzWPJHb', 'alexing10', 'd9d8feac55f308d96ee98796cf71a926')), playcount=384, tagcount=0),\n",
       " LibraryItem(item=pylast.Artist('Muse', pylast.LastFMNetwork('cbda714dcfa618c9eb841eb3dfcaa23a', '61520dd7fc7f8d5fe918aee0a4cf8e15', '9-8O-Uz8e_dgMiFbQ4zW1EFquzzWPJHb', 'alexing10', 'd9d8feac55f308d96ee98796cf71a926')), playcount=359, tagcount=0),\n",
       " LibraryItem(item=pylast.Artist('Alvy, Nacho y Rubin', pylast.LastFMNetwork('cbda714dcfa618c9eb841eb3dfcaa23a', '61520dd7fc7f8d5fe918aee0a4cf8e15', '9-8O-Uz8e_dgMiFbQ4zW1EFquzzWPJHb', 'alexing10', 'd9d8feac55f308d96ee98796cf71a926')), playcount=354, tagcount=0),\n",
       " LibraryItem(item=pylast.Artist('Alvy Singer Big Band', pylast.LastFMNetwork('cbda714dcfa618c9eb841eb3dfcaa23a', '61520dd7fc7f8d5fe918aee0a4cf8e15', '9-8O-Uz8e_dgMiFbQ4zW1EFquzzWPJHb', 'alexing10', 'd9d8feac55f308d96ee98796cf71a926')), playcount=349, tagcount=0),\n",
       " LibraryItem(item=pylast.Artist('Niño Cohete', pylast.LastFMNetwork('cbda714dcfa618c9eb841eb3dfcaa23a', '61520dd7fc7f8d5fe918aee0a4cf8e15', '9-8O-Uz8e_dgMiFbQ4zW1EFquzzWPJHb', 'alexing10', 'd9d8feac55f308d96ee98796cf71a926')), playcount=337, tagcount=0),\n",
       " LibraryItem(item=pylast.Artist('Bruno Mars', pylast.LastFMNetwork('cbda714dcfa618c9eb841eb3dfcaa23a', '61520dd7fc7f8d5fe918aee0a4cf8e15', '9-8O-Uz8e_dgMiFbQ4zW1EFquzzWPJHb', 'alexing10', 'd9d8feac55f308d96ee98796cf71a926')), playcount=331, tagcount=0),\n",
       " LibraryItem(item=pylast.Artist('Glee Cast', pylast.LastFMNetwork('cbda714dcfa618c9eb841eb3dfcaa23a', '61520dd7fc7f8d5fe918aee0a4cf8e15', '9-8O-Uz8e_dgMiFbQ4zW1EFquzzWPJHb', 'alexing10', 'd9d8feac55f308d96ee98796cf71a926')), playcount=325, tagcount=0),\n",
       " LibraryItem(item=pylast.Artist('The Strokes', pylast.LastFMNetwork('cbda714dcfa618c9eb841eb3dfcaa23a', '61520dd7fc7f8d5fe918aee0a4cf8e15', '9-8O-Uz8e_dgMiFbQ4zW1EFquzzWPJHb', 'alexing10', 'd9d8feac55f308d96ee98796cf71a926')), playcount=324, tagcount=0),\n",
       " LibraryItem(item=pylast.Artist('Moby', pylast.LastFMNetwork('cbda714dcfa618c9eb841eb3dfcaa23a', '61520dd7fc7f8d5fe918aee0a4cf8e15', '9-8O-Uz8e_dgMiFbQ4zW1EFquzzWPJHb', 'alexing10', 'd9d8feac55f308d96ee98796cf71a926')), playcount=316, tagcount=0),\n",
       " LibraryItem(item=pylast.Artist('The Rolling Stones', pylast.LastFMNetwork('cbda714dcfa618c9eb841eb3dfcaa23a', '61520dd7fc7f8d5fe918aee0a4cf8e15', '9-8O-Uz8e_dgMiFbQ4zW1EFquzzWPJHb', 'alexing10', 'd9d8feac55f308d96ee98796cf71a926')), playcount=314, tagcount=0),\n",
       " LibraryItem(item=pylast.Artist('Arcade Fire', pylast.LastFMNetwork('cbda714dcfa618c9eb841eb3dfcaa23a', '61520dd7fc7f8d5fe918aee0a4cf8e15', '9-8O-Uz8e_dgMiFbQ4zW1EFquzzWPJHb', 'alexing10', 'd9d8feac55f308d96ee98796cf71a926')), playcount=292, tagcount=0),\n",
       " LibraryItem(item=pylast.Artist('Coldplay', pylast.LastFMNetwork('cbda714dcfa618c9eb841eb3dfcaa23a', '61520dd7fc7f8d5fe918aee0a4cf8e15', '9-8O-Uz8e_dgMiFbQ4zW1EFquzzWPJHb', 'alexing10', 'd9d8feac55f308d96ee98796cf71a926')), playcount=285, tagcount=0),\n",
       " LibraryItem(item=pylast.Artist('Beirut', pylast.LastFMNetwork('cbda714dcfa618c9eb841eb3dfcaa23a', '61520dd7fc7f8d5fe918aee0a4cf8e15', '9-8O-Uz8e_dgMiFbQ4zW1EFquzzWPJHb', 'alexing10', 'd9d8feac55f308d96ee98796cf71a926')), playcount=283, tagcount=0),\n",
       " LibraryItem(item=pylast.Artist('The xx', pylast.LastFMNetwork('cbda714dcfa618c9eb841eb3dfcaa23a', '61520dd7fc7f8d5fe918aee0a4cf8e15', '9-8O-Uz8e_dgMiFbQ4zW1EFquzzWPJHb', 'alexing10', 'd9d8feac55f308d96ee98796cf71a926')), playcount=257, tagcount=0),\n",
       " LibraryItem(item=pylast.Artist('Justin Timberlake', pylast.LastFMNetwork('cbda714dcfa618c9eb841eb3dfcaa23a', '61520dd7fc7f8d5fe918aee0a4cf8e15', '9-8O-Uz8e_dgMiFbQ4zW1EFquzzWPJHb', 'alexing10', 'd9d8feac55f308d96ee98796cf71a926')), playcount=256, tagcount=0),\n",
       " LibraryItem(item=pylast.Artist('Eddie Vedder', pylast.LastFMNetwork('cbda714dcfa618c9eb841eb3dfcaa23a', '61520dd7fc7f8d5fe918aee0a4cf8e15', '9-8O-Uz8e_dgMiFbQ4zW1EFquzzWPJHb', 'alexing10', 'd9d8feac55f308d96ee98796cf71a926')), playcount=248, tagcount=0),\n",
       " LibraryItem(item=pylast.Artist('Bajofondo', pylast.LastFMNetwork('cbda714dcfa618c9eb841eb3dfcaa23a', '61520dd7fc7f8d5fe918aee0a4cf8e15', '9-8O-Uz8e_dgMiFbQ4zW1EFquzzWPJHb', 'alexing10', 'd9d8feac55f308d96ee98796cf71a926')), playcount=244, tagcount=0),\n",
       " LibraryItem(item=pylast.Artist('Efecto Amalia', pylast.LastFMNetwork('cbda714dcfa618c9eb841eb3dfcaa23a', '61520dd7fc7f8d5fe918aee0a4cf8e15', '9-8O-Uz8e_dgMiFbQ4zW1EFquzzWPJHb', 'alexing10', 'd9d8feac55f308d96ee98796cf71a926')), playcount=231, tagcount=0),\n",
       " LibraryItem(item=pylast.Artist('The Cure', pylast.LastFMNetwork('cbda714dcfa618c9eb841eb3dfcaa23a', '61520dd7fc7f8d5fe918aee0a4cf8e15', '9-8O-Uz8e_dgMiFbQ4zW1EFquzzWPJHb', 'alexing10', 'd9d8feac55f308d96ee98796cf71a926')), playcount=230, tagcount=0),\n",
       " LibraryItem(item=pylast.Artist('Asaf Avidan & The Mojos', pylast.LastFMNetwork('cbda714dcfa618c9eb841eb3dfcaa23a', '61520dd7fc7f8d5fe918aee0a4cf8e15', '9-8O-Uz8e_dgMiFbQ4zW1EFquzzWPJHb', 'alexing10', 'd9d8feac55f308d96ee98796cf71a926')), playcount=224, tagcount=0),\n",
       " LibraryItem(item=pylast.Artist('U2', pylast.LastFMNetwork('cbda714dcfa618c9eb841eb3dfcaa23a', '61520dd7fc7f8d5fe918aee0a4cf8e15', '9-8O-Uz8e_dgMiFbQ4zW1EFquzzWPJHb', 'alexing10', 'd9d8feac55f308d96ee98796cf71a926')), playcount=212, tagcount=0),\n",
       " LibraryItem(item=pylast.Artist('Bon Iver', pylast.LastFMNetwork('cbda714dcfa618c9eb841eb3dfcaa23a', '61520dd7fc7f8d5fe918aee0a4cf8e15', '9-8O-Uz8e_dgMiFbQ4zW1EFquzzWPJHb', 'alexing10', 'd9d8feac55f308d96ee98796cf71a926')), playcount=206, tagcount=0),\n",
       " LibraryItem(item=pylast.Artist('La Familia de Ukeleles', pylast.LastFMNetwork('cbda714dcfa618c9eb841eb3dfcaa23a', '61520dd7fc7f8d5fe918aee0a4cf8e15', '9-8O-Uz8e_dgMiFbQ4zW1EFquzzWPJHb', 'alexing10', 'd9d8feac55f308d96ee98796cf71a926')), playcount=206, tagcount=0),\n",
       " LibraryItem(item=pylast.Artist('Pescado Rabioso', pylast.LastFMNetwork('cbda714dcfa618c9eb841eb3dfcaa23a', '61520dd7fc7f8d5fe918aee0a4cf8e15', '9-8O-Uz8e_dgMiFbQ4zW1EFquzzWPJHb', 'alexing10', 'd9d8feac55f308d96ee98796cf71a926')), playcount=199, tagcount=0),\n",
       " LibraryItem(item=pylast.Artist('dirigible', pylast.LastFMNetwork('cbda714dcfa618c9eb841eb3dfcaa23a', '61520dd7fc7f8d5fe918aee0a4cf8e15', '9-8O-Uz8e_dgMiFbQ4zW1EFquzzWPJHb', 'alexing10', 'd9d8feac55f308d96ee98796cf71a926')), playcount=194, tagcount=0),\n",
       " LibraryItem(item=pylast.Artist('Natiruts', pylast.LastFMNetwork('cbda714dcfa618c9eb841eb3dfcaa23a', '61520dd7fc7f8d5fe918aee0a4cf8e15', '9-8O-Uz8e_dgMiFbQ4zW1EFquzzWPJHb', 'alexing10', 'd9d8feac55f308d96ee98796cf71a926')), playcount=193, tagcount=0),\n",
       " LibraryItem(item=pylast.Artist('Arctic Monkeys', pylast.LastFMNetwork('cbda714dcfa618c9eb841eb3dfcaa23a', '61520dd7fc7f8d5fe918aee0a4cf8e15', '9-8O-Uz8e_dgMiFbQ4zW1EFquzzWPJHb', 'alexing10', 'd9d8feac55f308d96ee98796cf71a926')), playcount=190, tagcount=0),\n",
       " LibraryItem(item=pylast.Artist('Walter Malosetti', pylast.LastFMNetwork('cbda714dcfa618c9eb841eb3dfcaa23a', '61520dd7fc7f8d5fe918aee0a4cf8e15', '9-8O-Uz8e_dgMiFbQ4zW1EFquzzWPJHb', 'alexing10', 'd9d8feac55f308d96ee98796cf71a926')), playcount=190, tagcount=0),\n",
       " LibraryItem(item=pylast.Artist('El Kuelgue', pylast.LastFMNetwork('cbda714dcfa618c9eb841eb3dfcaa23a', '61520dd7fc7f8d5fe918aee0a4cf8e15', '9-8O-Uz8e_dgMiFbQ4zW1EFquzzWPJHb', 'alexing10', 'd9d8feac55f308d96ee98796cf71a926')), playcount=182, tagcount=0),\n",
       " LibraryItem(item=pylast.Artist('Jamiroquai', pylast.LastFMNetwork('cbda714dcfa618c9eb841eb3dfcaa23a', '61520dd7fc7f8d5fe918aee0a4cf8e15', '9-8O-Uz8e_dgMiFbQ4zW1EFquzzWPJHb', 'alexing10', 'd9d8feac55f308d96ee98796cf71a926')), playcount=174, tagcount=0),\n",
       " LibraryItem(item=pylast.Artist('Django Reinhardt', pylast.LastFMNetwork('cbda714dcfa618c9eb841eb3dfcaa23a', '61520dd7fc7f8d5fe918aee0a4cf8e15', '9-8O-Uz8e_dgMiFbQ4zW1EFquzzWPJHb', 'alexing10', 'd9d8feac55f308d96ee98796cf71a926')), playcount=173, tagcount=0)]"
      ]
     },
     "execution_count": 25,
     "metadata": {},
     "output_type": "execute_result"
    }
   ],
   "source": [
    "library.get_artists()"
   ]
  },
  {
   "cell_type": "code",
   "execution_count": 26,
   "metadata": {
    "collapsed": true
   },
   "outputs": [],
   "source": [
    "### TODO: Paralelize this naive approach and then check the following\n",
    "### http://mplewis.com/files/lastfm-scraper.html\n",
    "### try it like that and paralelized"
   ]
  },
  {
   "cell_type": "code",
   "execution_count": null,
   "metadata": {
    "collapsed": true
   },
   "outputs": [],
   "source": []
  }
 ],
 "metadata": {
  "kernelspec": {
   "display_name": "Python 3",
   "language": "python",
   "name": "python3"
  },
  "language_info": {
   "codemirror_mode": {
    "name": "ipython",
    "version": 3
   },
   "file_extension": ".py",
   "mimetype": "text/x-python",
   "name": "python",
   "nbconvert_exporter": "python",
   "pygments_lexer": "ipython3",
   "version": "3.6.2"
  }
 },
 "nbformat": 4,
 "nbformat_minor": 2
}
