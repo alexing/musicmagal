{
 "cells": [
  {
   "cell_type": "code",
   "execution_count": 1,
   "metadata": {},
   "outputs": [
    {
     "name": "stderr",
     "output_type": "stream",
     "text": [
      "Using TensorFlow backend.\n"
     ]
    }
   ],
   "source": [
    "import pandas as pd\n",
    "import numpy as np\n",
    "from grouprecommender import GroupRecommender"
   ]
  },
  {
   "cell_type": "markdown",
   "metadata": {},
   "source": [
    "# Loading the Dataset"
   ]
  },
  {
   "cell_type": "markdown",
   "metadata": {},
   "source": [
    "The last.fm dataset was extracted from http://www.dtic.upf.edu/~ocelma/MusicRecommendationDataset/lastfm-1K.html and contains  information about the listening habits of almost 1000 users listening to almost a million songs. Each row represents contains information about one song listened by one user at a certain time. Its columns are:\n",
    "\n",
    "* user_id: the identification of the user that listened to the song.\n",
    "* timestamp: when was the song listend to.\n",
    "* artist_id: the identification of the artist performing the song.\n",
    "* artist_name: the corresponding name of said artist.\n",
    "* track_id: the identification of the song that was listened.\n",
    "* track_name: the name of said song."
   ]
  },
  {
   "cell_type": "markdown",
   "metadata": {},
   "source": [
    "Here we read the dataset into a pandas dataframe. Some of the columns were poorly formatted and broke the reading process. As they were just 9 out of millions, we considered it safe to just skip them and not include them on the dataframe."
   ]
  },
  {
   "cell_type": "code",
   "execution_count": 2,
   "metadata": {
    "collapsed": true
   },
   "outputs": [],
   "source": [
    "poorly_formatted_rows = [2120259, 2446317, 11141080, 11152098, 11152401, 11882086, 12902538, 12935043, 17589538]\n",
    "df = pd.read_csv('lastfm_data/userid-timestamp-artid-artname-traid-traname.tsv', header=None, skiprows=poorly_formatted_rows, sep='\\t')\n",
    "df.columns = ['user_id', 'timestamp', 'artist_id', 'artist_name', 'track_id', 'track_name']\n",
    "df.dropna(inplace=True)"
   ]
  },
  {
   "cell_type": "markdown",
   "metadata": {},
   "source": [
    "# Group Recommendations"
   ]
  },
  {
   "cell_type": "markdown",
   "metadata": {},
   "source": [
    "The group recommender object is created here. It takes as parameters:\n",
    "\n",
    "* utility_matrix: The utility matrix derived from the above dataset and stored in a pickle format. It has a row for each song and a column for each user. Each entry represents how many times the user in the columns listend to the track in the row. As most tracks haven't been listened by each user, this matrix is sparse and represented in an appropriate format.\n",
    "* dataset: the dataset that generated the utility matrix.\n",
    "* algo_path: path to the pickled ALS model that makes single user recommendations.\n",
    "* embedding_model_path: the item2vec model which takes a track id and maps it into an embedding space which captures the \"semantics\" of the song.\n",
    "* model_weights_path: the weights of the embedding model.\n",
    "* embedding_space_path: this is a list where each entry is a song-vector of the chosen vocabulary.\n",
    "* dicts_path: dictionaries that map from track_ids to inputs to the embedding model and back."
   ]
  },
  {
   "cell_type": "code",
   "execution_count": 3,
   "metadata": {
    "collapsed": true
   },
   "outputs": [],
   "source": [
    "gr = GroupRecommender('utility_matrix.pickle',\n",
    "                      dataset=df,\n",
    "                      pickled_model_path='model.pickle',\n",
    "                      embedding_model_path='embedding_model.yaml',\n",
    "                      model_weights_path='embedding_model.h5',\n",
    "                      embedding_space_path='embedding.npy',\n",
    "                      dicts_path='song_dicts.pickle')"
   ]
  },
  {
   "cell_type": "markdown",
   "metadata": {},
   "source": [
    "## Obtaining Group Recommendations"
   ]
  },
  {
   "cell_type": "markdown",
   "metadata": {},
   "source": [
    "Here we use the object to make recommendations. We create a group of $N$ random users from the dataset and make `max_recommendations` recommendations to that group."
   ]
  },
  {
   "cell_type": "markdown",
   "metadata": {},
   "source": [
    "There are 3 recommendation methods for the group, but the important one is item2vec.\n",
    "\n",
    "* The `naive` method will make `max_recommendation` using the ALS algorithm to each user and then get the intersection of these recommendations. It might return no results as there might be no songs in the intersections, so it is usually better to use large values of `max_recommendation` and the number of songs in the result is not predictable.\n",
    "* the `mean` method uses the ALS to rank all the songs in the dataset for each user and then takes the mean of their scores and selects the ones with the `max_recommendation` highest scores.\n",
    "* the `item2vec` method uses ALS to make the best recommendation to each user in the group, then uses the item2vec embedding model to convert them to song-vectors in the embedding space. It then takes the median song vector of these songs and finds the `max_recommendation` nearest neighbors to the median vector and then converts them back to track ids."
   ]
  },
  {
   "cell_type": "code",
   "execution_count": 4,
   "metadata": {
    "collapsed": true
   },
   "outputs": [],
   "source": [
    "user_ids = np.random.choice(df['user_id'].unique(), 3, replace=False)\n",
    "max_recommendations = 10\n",
    "playlist = gr.full_recommendation(user_ids, max_recommendations, df, method='item2vec')"
   ]
  },
  {
   "cell_type": "code",
   "execution_count": 5,
   "metadata": {},
   "outputs": [
    {
     "name": "stdout",
     "output_type": "stream",
     "text": [
      "Recommended Songs for the Group: ['user_000167' 'user_000658' 'user_000213']\n",
      "0)Sex Pistols - God Save The Queen\n",
      "1)Placebo - Song To Say Goodbye\n",
      "2)Uriah Heep - Lady In Black\n",
      "3)Judas Priest - A Touch Of Evil\n",
      "4)Eddie Vedder - Society\n",
      "5)The Who - Baba O'Riley\n",
      "6)Marilyn Manson - Heart-Shaped Glasses (When The Heart Guides The Hand)\n",
      "7)The Chemical Brothers - Do It Again\n",
      "8)Sly & The Family Stone - If You Want Me To Stay\n",
      "9)The 69 Eyes - Velvet Touch\n",
      "10)Cat Power - Maybe Not\n"
     ]
    }
   ],
   "source": [
    "print(\"Recommended Songs for the Group:\", user_ids)\n",
    "for i, track in enumerate(playlist):\n",
    "    print(str(i) + ')' + track[0] + ' - ' + track[1])"
   ]
  },
  {
   "cell_type": "markdown",
   "metadata": {},
   "source": [
    "## Creating Group Playlist"
   ]
  },
  {
   "cell_type": "markdown",
   "metadata": {},
   "source": [
    "The following functions use Spotify's API and our app's id and secret to create a session in Spotify."
   ]
  },
  {
   "cell_type": "code",
   "execution_count": 8,
   "metadata": {
    "collapsed": true,
    "scrolled": true
   },
   "outputs": [],
   "source": [
    "import spotipy\n",
    "import pprint\n",
    "import spotipy.util as util\n",
    "from spotipy.oauth2 import SpotifyClientCredentials\n",
    "\n",
    "client_id = '5de79a00f1b9475098f277ce2a609120'\n",
    "client_secret = '909633d1415345fe89882b6e398390df'\n",
    "client_credentials_manager = SpotifyClientCredentials(client_id=client_id,\n",
    "                                                          client_secret=client_secret)\n",
    "\n",
    "sp = spotipy.Spotify(client_credentials_manager=client_credentials_manager)"
   ]
  },
  {
   "cell_type": "markdown",
   "metadata": {},
   "source": [
    "We use the track ids from the recommendations and get the track name in a format of 'track - artist' and then search for them on Spotify and store the first result's spotify id for said track. This is done for all the recommended tracks."
   ]
  },
  {
   "cell_type": "code",
   "execution_count": 9,
   "metadata": {
    "collapsed": true
   },
   "outputs": [],
   "source": [
    "spotify_track_ids = []\n",
    "for track in playlist:\n",
    "    search_str = track[0] + ' ' + track[1]\n",
    "    result = sp.search(search_str, limit=1)\n",
    "    spotify_track_ids.append(result['tracks']['items'][0]['id'])"
   ]
  },
  {
   "cell_type": "markdown",
   "metadata": {},
   "source": [
    "A playlist is created and for the username provided, the playlist is added to their profile. This can be done for the users in the group."
   ]
  },
  {
   "cell_type": "code",
   "execution_count": 10,
   "metadata": {
    "collapsed": true
   },
   "outputs": [],
   "source": [
    "playlist_name = 'Group recommendations for '\n",
    "playlist_name += ', '.join(user_ids)"
   ]
  },
  {
   "cell_type": "code",
   "execution_count": 11,
   "metadata": {
    "collapsed": true
   },
   "outputs": [],
   "source": [
    "username = '11130460071'\n",
    "scope='playlist-modify-public'\n",
    "token = util.prompt_for_user_token(username, \n",
    "                                   client_id=client_id, \n",
    "                                   client_secret=client_secret, \n",
    "                                   redirect_uri='https://github.com/alexing10/musicmagal',\n",
    "                                   scope=scope)"
   ]
  },
  {
   "cell_type": "code",
   "execution_count": 12,
   "metadata": {},
   "outputs": [
    {
     "name": "stdout",
     "output_type": "stream",
     "text": [
      "boom!\n"
     ]
    }
   ],
   "source": [
    "sp = spotipy.Spotify(auth=token)\n",
    "playlist = sp.user_playlist_create(username, playlist_name)\n",
    "sp.user_playlist_add_tracks(username, playlist['id'], spotify_track_ids)\n",
    "print(\"boom!\")"
   ]
  },
  {
   "cell_type": "markdown",
   "metadata": {},
   "source": [
    "Just checking the creation of the playlist:"
   ]
  },
  {
   "cell_type": "code",
   "execution_count": 19,
   "metadata": {},
   "outputs": [
    {
     "data": {
      "text/plain": [
       "{'snapshot_id': 'oRoC3cCOO7mnauSmpMKZpVtSHgzRSSjGlAFVyyajNmNXYltq4fC0QA65082rDFtp'}"
      ]
     },
     "execution_count": 19,
     "metadata": {},
     "output_type": "execute_result"
    }
   ],
   "source": [
    "playlist_id = '0ChGv9bC33XK1zLtA78y9F'\n",
    "sp.user_playlist_add_tracks(username, playlist_id, spotify_track_ids)"
   ]
  },
  {
   "cell_type": "markdown",
   "metadata": {},
   "source": [
    "Currently, our project is not scalable. We can only make recommendations for the users already in the dataset and then create playlists for users whose spotify ids are provided to us. There is still no way to recommend to unseen users whose information is taken from Spotify and then adding the playlist to their respective accounts."
   ]
  }
 ],
 "metadata": {
  "kernelspec": {
   "display_name": "Python 3",
   "language": "python",
   "name": "python3"
  },
  "language_info": {
   "codemirror_mode": {
    "name": "ipython",
    "version": 3
   },
   "file_extension": ".py",
   "mimetype": "text/x-python",
   "name": "python",
   "nbconvert_exporter": "python",
   "pygments_lexer": "ipython3",
   "version": "3.6.2"
  }
 },
 "nbformat": 4,
 "nbformat_minor": 2
}
