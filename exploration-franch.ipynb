{
 "cells": [
  {
   "cell_type": "markdown",
   "metadata": {},
   "source": [
    "# Loading our dataset"
   ]
  },
  {
   "cell_type": "code",
   "execution_count": 1,
   "metadata": {
    "collapsed": true
   },
   "outputs": [],
   "source": [
    "import pandas as pd"
   ]
  },
  {
   "cell_type": "code",
   "execution_count": 2,
   "metadata": {
    "collapsed": true
   },
   "outputs": [],
   "source": [
    "poorly_formatted_rows = [2120259, 2446317, 11141080, 11152098, 11152401, 11882086, 12902538, 12935043, 17589538]\n",
    "df = pd.read_csv('lastfm_data/userid-timestamp-artid-artname-traid-traname.tsv', header=None, skiprows=poorly_formatted_rows, sep='\\t')\n",
    "df.columns = ['user_id', 'timestamp', 'artist_id', 'artist_name', 'track_id', 'track_name']\n",
    "df.dropna(inplace=True)"
   ]
  },
  {
   "cell_type": "code",
   "execution_count": 3,
   "metadata": {},
   "outputs": [
    {
     "data": {
      "text/html": [
       "<div>\n",
       "<style>\n",
       "    .dataframe thead tr:only-child th {\n",
       "        text-align: right;\n",
       "    }\n",
       "\n",
       "    .dataframe thead th {\n",
       "        text-align: left;\n",
       "    }\n",
       "\n",
       "    .dataframe tbody tr th {\n",
       "        vertical-align: top;\n",
       "    }\n",
       "</style>\n",
       "<table border=\"1\" class=\"dataframe\">\n",
       "  <thead>\n",
       "    <tr style=\"text-align: right;\">\n",
       "      <th></th>\n",
       "      <th>user_id</th>\n",
       "      <th>timestamp</th>\n",
       "      <th>artist_id</th>\n",
       "      <th>artist_name</th>\n",
       "      <th>track_id</th>\n",
       "      <th>track_name</th>\n",
       "    </tr>\n",
       "  </thead>\n",
       "  <tbody>\n",
       "    <tr>\n",
       "      <th>5730739</th>\n",
       "      <td>user_000294</td>\n",
       "      <td>2007-02-15T17:25:10Z</td>\n",
       "      <td>4236d929-9a81-4c8e-97c3-8d3306780f50</td>\n",
       "      <td>Scissor Sisters</td>\n",
       "      <td>29cef966-b1b9-470e-aa04-5b9fedd0473d</td>\n",
       "      <td>Mary</td>\n",
       "    </tr>\n",
       "    <tr>\n",
       "      <th>3077013</th>\n",
       "      <td>user_000155</td>\n",
       "      <td>2009-04-24T13:00:44Z</td>\n",
       "      <td>0ef3f425-9bd2-4216-9dd2-219d2fe90f1f</td>\n",
       "      <td>Lenny Kravitz</td>\n",
       "      <td>73d4cc88-26b4-43ae-b7b7-4bb478741c26</td>\n",
       "      <td>I Love The Rain</td>\n",
       "    </tr>\n",
       "    <tr>\n",
       "      <th>10419581</th>\n",
       "      <td>user_000552</td>\n",
       "      <td>2009-05-08T20:46:32Z</td>\n",
       "      <td>1fa14a96-c25c-4bb7-b94d-ff453519eab3</td>\n",
       "      <td>Ashley Tisdale</td>\n",
       "      <td>5b66e67c-f979-4f39-bab4-575e683527fc</td>\n",
       "      <td>It'S Alright, It'S Ok</td>\n",
       "    </tr>\n",
       "    <tr>\n",
       "      <th>15006489</th>\n",
       "      <td>user_000791</td>\n",
       "      <td>2009-01-16T05:53:47Z</td>\n",
       "      <td>0383dadf-2a4e-4d10-a46a-e9e041da8eb3</td>\n",
       "      <td>Queen</td>\n",
       "      <td>cc7867d1-34a5-4bdd-a9b5-faff27ce77fb</td>\n",
       "      <td>Bohemian Rhapsody</td>\n",
       "    </tr>\n",
       "    <tr>\n",
       "      <th>11681993</th>\n",
       "      <td>user_000625</td>\n",
       "      <td>2007-12-27T02:16:43Z</td>\n",
       "      <td>b665b768-0d83-4363-950c-31ed39317c15</td>\n",
       "      <td>Van Halen</td>\n",
       "      <td>039ddabd-80a1-48db-8239-734c98388dbc</td>\n",
       "      <td>And The Cradle Will Rock…</td>\n",
       "    </tr>\n",
       "  </tbody>\n",
       "</table>\n",
       "</div>"
      ],
      "text/plain": [
       "              user_id             timestamp  \\\n",
       "5730739   user_000294  2007-02-15T17:25:10Z   \n",
       "3077013   user_000155  2009-04-24T13:00:44Z   \n",
       "10419581  user_000552  2009-05-08T20:46:32Z   \n",
       "15006489  user_000791  2009-01-16T05:53:47Z   \n",
       "11681993  user_000625  2007-12-27T02:16:43Z   \n",
       "\n",
       "                                     artist_id      artist_name  \\\n",
       "5730739   4236d929-9a81-4c8e-97c3-8d3306780f50  Scissor Sisters   \n",
       "3077013   0ef3f425-9bd2-4216-9dd2-219d2fe90f1f    Lenny Kravitz   \n",
       "10419581  1fa14a96-c25c-4bb7-b94d-ff453519eab3   Ashley Tisdale   \n",
       "15006489  0383dadf-2a4e-4d10-a46a-e9e041da8eb3            Queen   \n",
       "11681993  b665b768-0d83-4363-950c-31ed39317c15        Van Halen   \n",
       "\n",
       "                                      track_id                 track_name  \n",
       "5730739   29cef966-b1b9-470e-aa04-5b9fedd0473d                       Mary  \n",
       "3077013   73d4cc88-26b4-43ae-b7b7-4bb478741c26            I Love The Rain  \n",
       "10419581  5b66e67c-f979-4f39-bab4-575e683527fc      It'S Alright, It'S Ok  \n",
       "15006489  cc7867d1-34a5-4bdd-a9b5-faff27ce77fb          Bohemian Rhapsody  \n",
       "11681993  039ddabd-80a1-48db-8239-734c98388dbc  And The Cradle Will Rock…  "
      ]
     },
     "execution_count": 3,
     "metadata": {},
     "output_type": "execute_result"
    }
   ],
   "source": [
    "df.sample(5)"
   ]
  },
  {
   "cell_type": "code",
   "execution_count": 4,
   "metadata": {},
   "outputs": [
    {
     "data": {
      "text/html": [
       "<div>\n",
       "<style>\n",
       "    .dataframe thead tr:only-child th {\n",
       "        text-align: right;\n",
       "    }\n",
       "\n",
       "    .dataframe thead th {\n",
       "        text-align: left;\n",
       "    }\n",
       "\n",
       "    .dataframe tbody tr th {\n",
       "        vertical-align: top;\n",
       "    }\n",
       "</style>\n",
       "<table border=\"1\" class=\"dataframe\">\n",
       "  <thead>\n",
       "    <tr style=\"text-align: right;\">\n",
       "      <th></th>\n",
       "      <th>user_id</th>\n",
       "      <th>timestamp</th>\n",
       "      <th>artist_id</th>\n",
       "      <th>artist_name</th>\n",
       "      <th>track_id</th>\n",
       "      <th>track_name</th>\n",
       "    </tr>\n",
       "  </thead>\n",
       "  <tbody>\n",
       "    <tr>\n",
       "      <th>count</th>\n",
       "      <td>16936134</td>\n",
       "      <td>16936134</td>\n",
       "      <td>16936134</td>\n",
       "      <td>16936134</td>\n",
       "      <td>16936134</td>\n",
       "      <td>16936134</td>\n",
       "    </tr>\n",
       "    <tr>\n",
       "      <th>unique</th>\n",
       "      <td>992</td>\n",
       "      <td>15631466</td>\n",
       "      <td>83905</td>\n",
       "      <td>81751</td>\n",
       "      <td>960402</td>\n",
       "      <td>693231</td>\n",
       "    </tr>\n",
       "    <tr>\n",
       "      <th>top</th>\n",
       "      <td>user_000949</td>\n",
       "      <td>2009-02-26T21:29:15Z</td>\n",
       "      <td>a74b1b7f-71a5-4011-9441-d0b5e4122711</td>\n",
       "      <td>Radiohead</td>\n",
       "      <td>db16d0b3-b8ce-4aa8-a11a-e4d53cc7f8a6</td>\n",
       "      <td>Intro</td>\n",
       "    </tr>\n",
       "    <tr>\n",
       "      <th>freq</th>\n",
       "      <td>172042</td>\n",
       "      <td>193</td>\n",
       "      <td>111488</td>\n",
       "      <td>111488</td>\n",
       "      <td>3991</td>\n",
       "      <td>14908</td>\n",
       "    </tr>\n",
       "  </tbody>\n",
       "</table>\n",
       "</div>"
      ],
      "text/plain": [
       "            user_id             timestamp  \\\n",
       "count      16936134              16936134   \n",
       "unique          992              15631466   \n",
       "top     user_000949  2009-02-26T21:29:15Z   \n",
       "freq         172042                   193   \n",
       "\n",
       "                                   artist_id artist_name  \\\n",
       "count                               16936134    16936134   \n",
       "unique                                 83905       81751   \n",
       "top     a74b1b7f-71a5-4011-9441-d0b5e4122711   Radiohead   \n",
       "freq                                  111488      111488   \n",
       "\n",
       "                                    track_id track_name  \n",
       "count                               16936134   16936134  \n",
       "unique                                960402     693231  \n",
       "top     db16d0b3-b8ce-4aa8-a11a-e4d53cc7f8a6      Intro  \n",
       "freq                                    3991      14908  "
      ]
     },
     "execution_count": 4,
     "metadata": {},
     "output_type": "execute_result"
    }
   ],
   "source": [
    "df.describe()"
   ]
  },
  {
   "cell_type": "code",
   "execution_count": 5,
   "metadata": {
    "collapsed": true
   },
   "outputs": [],
   "source": [
    "del df['timestamp']"
   ]
  },
  {
   "cell_type": "markdown",
   "metadata": {},
   "source": [
    "# Playing around with Surprise"
   ]
  },
  {
   "cell_type": "code",
   "execution_count": 6,
   "metadata": {
    "collapsed": true
   },
   "outputs": [],
   "source": [
    "from surprise import SVD\n",
    "from surprise import Dataset\n",
    "from surprise.model_selection import cross_validate"
   ]
  },
  {
   "cell_type": "code",
   "execution_count": 7,
   "metadata": {
    "collapsed": true
   },
   "outputs": [],
   "source": [
    "data = Dataset.load_builtin('ml-100k')"
   ]
  },
  {
   "cell_type": "code",
   "execution_count": 8,
   "metadata": {},
   "outputs": [
    {
     "name": "stdout",
     "output_type": "stream",
     "text": [
      "Evaluating RMSE, MAE of algorithm SVD on 5 split(s).\n",
      "\n",
      "                  Fold 1  Fold 2  Fold 3  Fold 4  Fold 5  Mean    Std     \n",
      "RMSE (testset)    0.9390  0.9395  0.9351  0.9327  0.9346  0.9362  0.0026  \n",
      "MAE (testset)     0.7391  0.7417  0.7382  0.7349  0.7371  0.7382  0.0022  \n",
      "Fit time          10.03   9.93    9.92    9.45    5.48    8.96    1.75    \n",
      "Test time         4.47    4.03    3.42    3.10    0.16    3.04    1.52    \n"
     ]
    },
    {
     "data": {
      "text/plain": [
       "{'fit_time': (10.02529764175415,\n",
       "  9.927402257919312,\n",
       "  9.923894882202148,\n",
       "  9.453644037246704,\n",
       "  5.478316783905029),\n",
       " 'test_mae': array([ 0.73914109,  0.74165713,  0.7381959 ,  0.7348643 ,  0.73714301]),\n",
       " 'test_rmse': array([ 0.93899874,  0.93950287,  0.93513046,  0.9327208 ,  0.93456617]),\n",
       " 'test_time': (4.474871873855591,\n",
       "  4.029186487197876,\n",
       "  3.416555166244507,\n",
       "  3.1037230491638184,\n",
       "  0.15792012214660645)}"
      ]
     },
     "execution_count": 8,
     "metadata": {},
     "output_type": "execute_result"
    }
   ],
   "source": [
    "algo = SVD()\n",
    "cross_validate(algo, data, measures=['RMSE', 'MAE'], cv=5, verbose=True)"
   ]
  },
  {
   "cell_type": "code",
   "execution_count": 9,
   "metadata": {
    "collapsed": true
   },
   "outputs": [],
   "source": [
    "from surprise import accuracy\n",
    "from surprise.model_selection import train_test_split"
   ]
  },
  {
   "cell_type": "code",
   "execution_count": 10,
   "metadata": {},
   "outputs": [
    {
     "name": "stdout",
     "output_type": "stream",
     "text": [
      "RMSE: 0.9341\n"
     ]
    },
    {
     "data": {
      "text/plain": [
       "0.93409596062403621"
      ]
     },
     "execution_count": 10,
     "metadata": {},
     "output_type": "execute_result"
    }
   ],
   "source": [
    "trainset, testset = train_test_split(data, test_size=.25)\n",
    "algo.fit(trainset)\n",
    "predictions = algo.test(testset)\n",
    "accuracy.rmse(predictions)"
   ]
  },
  {
   "cell_type": "code",
   "execution_count": 11,
   "metadata": {},
   "outputs": [
    {
     "name": "stdout",
     "output_type": "stream",
     "text": [
      "RMSE: 0.9341\n"
     ]
    },
    {
     "data": {
      "text/plain": [
       "0.93405427847078615"
      ]
     },
     "execution_count": 11,
     "metadata": {},
     "output_type": "execute_result"
    }
   ],
   "source": [
    "predictions = algo.fit(trainset).test(testset)\n",
    "accuracy.rmse(predictions)"
   ]
  },
  {
   "cell_type": "code",
   "execution_count": 12,
   "metadata": {
    "collapsed": true
   },
   "outputs": [],
   "source": [
    "from surprise import KNNBasic"
   ]
  },
  {
   "cell_type": "code",
   "execution_count": 13,
   "metadata": {},
   "outputs": [
    {
     "name": "stdout",
     "output_type": "stream",
     "text": [
      "Computing the msd similarity matrix...\n",
      "Done computing similarity matrix.\n"
     ]
    },
    {
     "data": {
      "text/plain": [
       "<surprise.prediction_algorithms.knns.KNNBasic at 0x22328a0f048>"
      ]
     },
     "execution_count": 13,
     "metadata": {},
     "output_type": "execute_result"
    }
   ],
   "source": [
    "trainset = data.build_full_trainset()\n",
    "algo = KNNBasic()\n",
    "algo.fit(trainset)"
   ]
  },
  {
   "cell_type": "code",
   "execution_count": 14,
   "metadata": {},
   "outputs": [
    {
     "name": "stdout",
     "output_type": "stream",
     "text": [
      "user: 196        item: 302        r_ui = 4.00   est = 4.06   {'actual_k': 40, 'was_impossible': False}\n"
     ]
    }
   ],
   "source": [
    "uid = str(196)\n",
    "iid = str(302)\n",
    "\n",
    "pred = algo.predict(uid, iid, r_ui=4, verbose=True)"
   ]
  },
  {
   "cell_type": "markdown",
   "metadata": {},
   "source": [
    "# Playing with surprise and our dataset"
   ]
  },
  {
   "cell_type": "markdown",
   "metadata": {},
   "source": [
    "## Exploring how to get unique song-to-user relations"
   ]
  },
  {
   "cell_type": "code",
   "execution_count": 15,
   "metadata": {},
   "outputs": [
    {
     "data": {
      "text/html": [
       "<div>\n",
       "<style>\n",
       "    .dataframe thead tr:only-child th {\n",
       "        text-align: right;\n",
       "    }\n",
       "\n",
       "    .dataframe thead th {\n",
       "        text-align: left;\n",
       "    }\n",
       "\n",
       "    .dataframe tbody tr th {\n",
       "        vertical-align: top;\n",
       "    }\n",
       "</style>\n",
       "<table border=\"1\" class=\"dataframe\">\n",
       "  <thead>\n",
       "    <tr style=\"text-align: right;\">\n",
       "      <th></th>\n",
       "      <th>user_id</th>\n",
       "      <th>artist_id</th>\n",
       "      <th>artist_name</th>\n",
       "      <th>track_id</th>\n",
       "      <th>track_name</th>\n",
       "    </tr>\n",
       "  </thead>\n",
       "  <tbody>\n",
       "    <tr>\n",
       "      <th>3864601</th>\n",
       "      <td>user_000199</td>\n",
       "      <td>e1b26acf-c96f-49ab-8f0d-b98dec51da0b</td>\n",
       "      <td>Glass And Ashes</td>\n",
       "      <td>d4dde6f2-561e-4fdc-8fd7-1926d359d3ad</td>\n",
       "      <td>Off The Piranha</td>\n",
       "    </tr>\n",
       "    <tr>\n",
       "      <th>3864602</th>\n",
       "      <td>user_000199</td>\n",
       "      <td>e1b26acf-c96f-49ab-8f0d-b98dec51da0b</td>\n",
       "      <td>Glass And Ashes</td>\n",
       "      <td>d4dde6f2-561e-4fdc-8fd7-1926d359d3ad</td>\n",
       "      <td>Off The Piranha</td>\n",
       "    </tr>\n",
       "    <tr>\n",
       "      <th>3864603</th>\n",
       "      <td>user_000199</td>\n",
       "      <td>e1b26acf-c96f-49ab-8f0d-b98dec51da0b</td>\n",
       "      <td>Glass And Ashes</td>\n",
       "      <td>c6eba975-14a2-401c-9f76-a297bad9079e</td>\n",
       "      <td>Bloody Knuckles</td>\n",
       "    </tr>\n",
       "    <tr>\n",
       "      <th>3864604</th>\n",
       "      <td>user_000199</td>\n",
       "      <td>e1b26acf-c96f-49ab-8f0d-b98dec51da0b</td>\n",
       "      <td>Glass And Ashes</td>\n",
       "      <td>8323ed17-3d3f-41f7-9b0c-7da5044db4cf</td>\n",
       "      <td>Head First</td>\n",
       "    </tr>\n",
       "    <tr>\n",
       "      <th>3864605</th>\n",
       "      <td>user_000199</td>\n",
       "      <td>e1b26acf-c96f-49ab-8f0d-b98dec51da0b</td>\n",
       "      <td>Glass And Ashes</td>\n",
       "      <td>8c6260d0-fc0e-43cc-ae05-7079982724bc</td>\n",
       "      <td>Dead On Arrival</td>\n",
       "    </tr>\n",
       "    <tr>\n",
       "      <th>3864606</th>\n",
       "      <td>user_000199</td>\n",
       "      <td>e1b26acf-c96f-49ab-8f0d-b98dec51da0b</td>\n",
       "      <td>Glass And Ashes</td>\n",
       "      <td>811b4ea3-d439-4722-b30a-2991373ac049</td>\n",
       "      <td>Eighty-Six</td>\n",
       "    </tr>\n",
       "    <tr>\n",
       "      <th>3864607</th>\n",
       "      <td>user_000199</td>\n",
       "      <td>e1b26acf-c96f-49ab-8f0d-b98dec51da0b</td>\n",
       "      <td>Glass And Ashes</td>\n",
       "      <td>7dec1ffa-ebd2-4075-a200-f5d25daed3b5</td>\n",
       "      <td>Controlled Burn</td>\n",
       "    </tr>\n",
       "    <tr>\n",
       "      <th>3864608</th>\n",
       "      <td>user_000199</td>\n",
       "      <td>e1b26acf-c96f-49ab-8f0d-b98dec51da0b</td>\n",
       "      <td>Glass And Ashes</td>\n",
       "      <td>67d85c24-59de-43b9-9f5e-f469b88a87c4</td>\n",
       "      <td>Dividing Line</td>\n",
       "    </tr>\n",
       "    <tr>\n",
       "      <th>3864609</th>\n",
       "      <td>user_000199</td>\n",
       "      <td>e1b26acf-c96f-49ab-8f0d-b98dec51da0b</td>\n",
       "      <td>Glass And Ashes</td>\n",
       "      <td>1e557571-e6aa-467d-9ae2-a1423bf0d5aa</td>\n",
       "      <td>The Art Of Selling</td>\n",
       "    </tr>\n",
       "    <tr>\n",
       "      <th>3864610</th>\n",
       "      <td>user_000199</td>\n",
       "      <td>e1b26acf-c96f-49ab-8f0d-b98dec51da0b</td>\n",
       "      <td>Glass And Ashes</td>\n",
       "      <td>a94bdb2c-5caf-46af-b8df-0fde8a9c5670</td>\n",
       "      <td>Black Beneath The Eyes</td>\n",
       "    </tr>\n",
       "    <tr>\n",
       "      <th>3864611</th>\n",
       "      <td>user_000199</td>\n",
       "      <td>124e3e03-a7ec-4198-8ee4-07308f139539</td>\n",
       "      <td>The Mountain Goats &amp; Kaki King</td>\n",
       "      <td>78b1189c-b76e-4494-8108-0c8fa6aa1677</td>\n",
       "      <td>Thank You Mario But Our Princess Is In Another...</td>\n",
       "    </tr>\n",
       "    <tr>\n",
       "      <th>3864612</th>\n",
       "      <td>user_000199</td>\n",
       "      <td>124e3e03-a7ec-4198-8ee4-07308f139539</td>\n",
       "      <td>The Mountain Goats &amp; Kaki King</td>\n",
       "      <td>b9613142-295d-482e-93dc-37b466250207</td>\n",
       "      <td>Roger Patterson Van</td>\n",
       "    </tr>\n",
       "    <tr>\n",
       "      <th>3864613</th>\n",
       "      <td>user_000199</td>\n",
       "      <td>124e3e03-a7ec-4198-8ee4-07308f139539</td>\n",
       "      <td>The Mountain Goats &amp; Kaki King</td>\n",
       "      <td>9531e732-8d48-48fd-88b1-fbf018b8b89d</td>\n",
       "      <td>Supergenesis</td>\n",
       "    </tr>\n",
       "    <tr>\n",
       "      <th>3864614</th>\n",
       "      <td>user_000199</td>\n",
       "      <td>124e3e03-a7ec-4198-8ee4-07308f139539</td>\n",
       "      <td>The Mountain Goats &amp; Kaki King</td>\n",
       "      <td>4af670c8-f4aa-4c79-ac29-60520e7ea21a</td>\n",
       "      <td>Bring Our Curses Home</td>\n",
       "    </tr>\n",
       "    <tr>\n",
       "      <th>3864615</th>\n",
       "      <td>user_000199</td>\n",
       "      <td>124e3e03-a7ec-4198-8ee4-07308f139539</td>\n",
       "      <td>The Mountain Goats &amp; Kaki King</td>\n",
       "      <td>e2634f8d-d188-41af-af1a-1d03861b6122</td>\n",
       "      <td>Mosquito Repellant</td>\n",
       "    </tr>\n",
       "    <tr>\n",
       "      <th>3864616</th>\n",
       "      <td>user_000199</td>\n",
       "      <td>124e3e03-a7ec-4198-8ee4-07308f139539</td>\n",
       "      <td>The Mountain Goats &amp; Kaki King</td>\n",
       "      <td>a2ab5511-c30d-438e-bb06-631fc72084df</td>\n",
       "      <td>Black Pear Tree</td>\n",
       "    </tr>\n",
       "    <tr>\n",
       "      <th>3864624</th>\n",
       "      <td>user_000199</td>\n",
       "      <td>124e3e03-a7ec-4198-8ee4-07308f139539</td>\n",
       "      <td>The Mountain Goats &amp; Kaki King</td>\n",
       "      <td>78b1189c-b76e-4494-8108-0c8fa6aa1677</td>\n",
       "      <td>Thank You Mario But Our Princess Is In Another...</td>\n",
       "    </tr>\n",
       "    <tr>\n",
       "      <th>3864625</th>\n",
       "      <td>user_000199</td>\n",
       "      <td>124e3e03-a7ec-4198-8ee4-07308f139539</td>\n",
       "      <td>The Mountain Goats &amp; Kaki King</td>\n",
       "      <td>b9613142-295d-482e-93dc-37b466250207</td>\n",
       "      <td>Roger Patterson Van</td>\n",
       "    </tr>\n",
       "    <tr>\n",
       "      <th>3864626</th>\n",
       "      <td>user_000199</td>\n",
       "      <td>124e3e03-a7ec-4198-8ee4-07308f139539</td>\n",
       "      <td>The Mountain Goats &amp; Kaki King</td>\n",
       "      <td>9531e732-8d48-48fd-88b1-fbf018b8b89d</td>\n",
       "      <td>Supergenesis</td>\n",
       "    </tr>\n",
       "    <tr>\n",
       "      <th>3864627</th>\n",
       "      <td>user_000199</td>\n",
       "      <td>124e3e03-a7ec-4198-8ee4-07308f139539</td>\n",
       "      <td>The Mountain Goats &amp; Kaki King</td>\n",
       "      <td>4af670c8-f4aa-4c79-ac29-60520e7ea21a</td>\n",
       "      <td>Bring Our Curses Home</td>\n",
       "    </tr>\n",
       "    <tr>\n",
       "      <th>3864628</th>\n",
       "      <td>user_000199</td>\n",
       "      <td>124e3e03-a7ec-4198-8ee4-07308f139539</td>\n",
       "      <td>The Mountain Goats &amp; Kaki King</td>\n",
       "      <td>e2634f8d-d188-41af-af1a-1d03861b6122</td>\n",
       "      <td>Mosquito Repellant</td>\n",
       "    </tr>\n",
       "    <tr>\n",
       "      <th>3864629</th>\n",
       "      <td>user_000199</td>\n",
       "      <td>124e3e03-a7ec-4198-8ee4-07308f139539</td>\n",
       "      <td>The Mountain Goats &amp; Kaki King</td>\n",
       "      <td>a2ab5511-c30d-438e-bb06-631fc72084df</td>\n",
       "      <td>Black Pear Tree</td>\n",
       "    </tr>\n",
       "    <tr>\n",
       "      <th>3864630</th>\n",
       "      <td>user_000199</td>\n",
       "      <td>ae69d81f-552d-4013-8dfc-4778d8f38742</td>\n",
       "      <td>Jesu</td>\n",
       "      <td>80febb37-5837-4a9f-b256-332dc98835ca</td>\n",
       "      <td>Friends Are Evil</td>\n",
       "    </tr>\n",
       "    <tr>\n",
       "      <th>3864631</th>\n",
       "      <td>user_000199</td>\n",
       "      <td>c20bdfc8-0731-4641-8841-ae99761337a4</td>\n",
       "      <td>The Valley Arena</td>\n",
       "      <td>877f3049-95e8-4f83-8c3c-a8d3a4e003d4</td>\n",
       "      <td>Take Comfort In Strangers</td>\n",
       "    </tr>\n",
       "    <tr>\n",
       "      <th>3864632</th>\n",
       "      <td>user_000199</td>\n",
       "      <td>c20bdfc8-0731-4641-8841-ae99761337a4</td>\n",
       "      <td>The Valley Arena</td>\n",
       "      <td>0cb52aca-3d85-4c10-af59-e4d284f780ac</td>\n",
       "      <td>The Plastic Knife You Swing</td>\n",
       "    </tr>\n",
       "    <tr>\n",
       "      <th>3864633</th>\n",
       "      <td>user_000199</td>\n",
       "      <td>c20bdfc8-0731-4641-8841-ae99761337a4</td>\n",
       "      <td>The Valley Arena</td>\n",
       "      <td>70126177-b487-455f-a944-53c319e04f2b</td>\n",
       "      <td>The Metal Of Your Teeth</td>\n",
       "    </tr>\n",
       "    <tr>\n",
       "      <th>3864634</th>\n",
       "      <td>user_000199</td>\n",
       "      <td>c20bdfc8-0731-4641-8841-ae99761337a4</td>\n",
       "      <td>The Valley Arena</td>\n",
       "      <td>a13f5c9c-87e4-4654-92ae-4369aafdaa99</td>\n",
       "      <td>Piano Wire</td>\n",
       "    </tr>\n",
       "    <tr>\n",
       "      <th>3864635</th>\n",
       "      <td>user_000199</td>\n",
       "      <td>c20bdfc8-0731-4641-8841-ae99761337a4</td>\n",
       "      <td>The Valley Arena</td>\n",
       "      <td>f3a372a1-0f31-47e1-9ca9-30b9bf716885</td>\n",
       "      <td>What We Can Steal</td>\n",
       "    </tr>\n",
       "    <tr>\n",
       "      <th>3864636</th>\n",
       "      <td>user_000199</td>\n",
       "      <td>c20bdfc8-0731-4641-8841-ae99761337a4</td>\n",
       "      <td>The Valley Arena</td>\n",
       "      <td>e85b1dd9-bbfe-44fe-802b-2c6a441c415d</td>\n",
       "      <td>Burn Off Regret</td>\n",
       "    </tr>\n",
       "    <tr>\n",
       "      <th>3864637</th>\n",
       "      <td>user_000199</td>\n",
       "      <td>c20bdfc8-0731-4641-8841-ae99761337a4</td>\n",
       "      <td>The Valley Arena</td>\n",
       "      <td>04cea3ad-9c7b-46b4-9d48-4b35ec6cb33f</td>\n",
       "      <td>Carneceria</td>\n",
       "    </tr>\n",
       "    <tr>\n",
       "      <th>...</th>\n",
       "      <td>...</td>\n",
       "      <td>...</td>\n",
       "      <td>...</td>\n",
       "      <td>...</td>\n",
       "      <td>...</td>\n",
       "    </tr>\n",
       "    <tr>\n",
       "      <th>3954932</th>\n",
       "      <td>user_000199</td>\n",
       "      <td>55b42c39-4fc3-4760-8f33-9b5fc6a64efb</td>\n",
       "      <td>Aus-Rotten</td>\n",
       "      <td>8a56c8e5-155c-48d8-9f21-0402ce38bb9e</td>\n",
       "      <td>The Rotten Agenda</td>\n",
       "    </tr>\n",
       "    <tr>\n",
       "      <th>3954933</th>\n",
       "      <td>user_000199</td>\n",
       "      <td>be0cb2f2-71c3-4e95-a584-c19248951ff4</td>\n",
       "      <td>Dangerdoom</td>\n",
       "      <td>561e202e-d01e-422c-bc65-51251a969546</td>\n",
       "      <td>A.T.H.F.</td>\n",
       "    </tr>\n",
       "    <tr>\n",
       "      <th>3954934</th>\n",
       "      <td>user_000199</td>\n",
       "      <td>c8fc1732-d191-4a29-a33a-410f98eff13b</td>\n",
       "      <td>Sage Francis</td>\n",
       "      <td>a311e0bb-a2b1-43f7-86ab-750f32cfdada</td>\n",
       "      <td>Makeshift Patriot (Intro)</td>\n",
       "    </tr>\n",
       "    <tr>\n",
       "      <th>3954935</th>\n",
       "      <td>user_000199</td>\n",
       "      <td>c8fc1732-d191-4a29-a33a-410f98eff13b</td>\n",
       "      <td>Sage Francis</td>\n",
       "      <td>cd7c4a1f-a5dd-4e40-ab40-fab2f276063e</td>\n",
       "      <td>Crack Pipes</td>\n",
       "    </tr>\n",
       "    <tr>\n",
       "      <th>3954936</th>\n",
       "      <td>user_000199</td>\n",
       "      <td>a5931809-d6c4-42cb-9256-c2ff82415f1e</td>\n",
       "      <td>The World/Inferno Friendship Society</td>\n",
       "      <td>44391021-1dce-4149-b6d5-f4ac8e7c370a</td>\n",
       "      <td>I Wouldn'T Want To Live In A World Without Gru...</td>\n",
       "    </tr>\n",
       "    <tr>\n",
       "      <th>3954937</th>\n",
       "      <td>user_000199</td>\n",
       "      <td>a5931809-d6c4-42cb-9256-c2ff82415f1e</td>\n",
       "      <td>The World/Inferno Friendship Society</td>\n",
       "      <td>270f22fa-91a9-49fe-b793-c660f20da428</td>\n",
       "      <td>Peter Lorre</td>\n",
       "    </tr>\n",
       "    <tr>\n",
       "      <th>3954938</th>\n",
       "      <td>user_000199</td>\n",
       "      <td>a5931809-d6c4-42cb-9256-c2ff82415f1e</td>\n",
       "      <td>The World/Inferno Friendship Society</td>\n",
       "      <td>22901f00-8898-44ef-aeff-61b7a8eaa69a</td>\n",
       "      <td>Friend To The Friendless</td>\n",
       "    </tr>\n",
       "    <tr>\n",
       "      <th>3954939</th>\n",
       "      <td>user_000199</td>\n",
       "      <td>a5931809-d6c4-42cb-9256-c2ff82415f1e</td>\n",
       "      <td>The World/Inferno Friendship Society</td>\n",
       "      <td>8faa08ea-5390-4704-a400-ce66fff1cd50</td>\n",
       "      <td>Secret Service Freedom Fighting U.S.A.</td>\n",
       "    </tr>\n",
       "    <tr>\n",
       "      <th>3954940</th>\n",
       "      <td>user_000199</td>\n",
       "      <td>a5931809-d6c4-42cb-9256-c2ff82415f1e</td>\n",
       "      <td>The World/Inferno Friendship Society</td>\n",
       "      <td>456aee8b-53e9-4dfb-904e-0eb62dbf7ffe</td>\n",
       "      <td>Heart Attack '64</td>\n",
       "    </tr>\n",
       "    <tr>\n",
       "      <th>3954941</th>\n",
       "      <td>user_000199</td>\n",
       "      <td>a5931809-d6c4-42cb-9256-c2ff82415f1e</td>\n",
       "      <td>The World/Inferno Friendship Society</td>\n",
       "      <td>f3164c36-5043-464b-ac07-2dc6f4658cc3</td>\n",
       "      <td>My Ancestral Homeland, New Jersey</td>\n",
       "    </tr>\n",
       "    <tr>\n",
       "      <th>3954942</th>\n",
       "      <td>user_000199</td>\n",
       "      <td>a5931809-d6c4-42cb-9256-c2ff82415f1e</td>\n",
       "      <td>The World/Inferno Friendship Society</td>\n",
       "      <td>5e5f9a6c-7a3e-41c1-954f-1ecca6478960</td>\n",
       "      <td>Zen And The Art Of Breaking Everything In This...</td>\n",
       "    </tr>\n",
       "    <tr>\n",
       "      <th>3954943</th>\n",
       "      <td>user_000199</td>\n",
       "      <td>e601c7cc-1939-469a-ab36-7eecbd448be7</td>\n",
       "      <td>Smoke Or Fire</td>\n",
       "      <td>c407af57-0d89-41a3-9c78-0423e6a90927</td>\n",
       "      <td>California'S Burning</td>\n",
       "    </tr>\n",
       "    <tr>\n",
       "      <th>3954944</th>\n",
       "      <td>user_000199</td>\n",
       "      <td>a78ef19a-5fba-46fd-b50e-ff95a45693aa</td>\n",
       "      <td>Defiance, Ohio</td>\n",
       "      <td>6065c7c0-1122-4cd8-9582-9f4fb4672803</td>\n",
       "      <td>Oh, Susquehanna!</td>\n",
       "    </tr>\n",
       "    <tr>\n",
       "      <th>3954946</th>\n",
       "      <td>user_000199</td>\n",
       "      <td>e601c7cc-1939-469a-ab36-7eecbd448be7</td>\n",
       "      <td>Smoke Or Fire</td>\n",
       "      <td>c407af57-0d89-41a3-9c78-0423e6a90927</td>\n",
       "      <td>California'S Burning</td>\n",
       "    </tr>\n",
       "    <tr>\n",
       "      <th>3954948</th>\n",
       "      <td>user_000199</td>\n",
       "      <td>0f5a9658-0511-400f-9da2-6ef2d07c840f</td>\n",
       "      <td>Fifth Hour Hero</td>\n",
       "      <td>846a62e9-0418-442d-89dc-8f26fb4d1be0</td>\n",
       "      <td>Cut Me Dead</td>\n",
       "    </tr>\n",
       "    <tr>\n",
       "      <th>3954949</th>\n",
       "      <td>user_000199</td>\n",
       "      <td>a66ebddc-ff04-46b8-820a-15c63e80dba1</td>\n",
       "      <td>Against Me!</td>\n",
       "      <td>5184312c-e38b-475c-bc07-9c6198fc13a2</td>\n",
       "      <td>Pints Of Guiness Make You Strong</td>\n",
       "    </tr>\n",
       "    <tr>\n",
       "      <th>3954950</th>\n",
       "      <td>user_000199</td>\n",
       "      <td>c8fc1732-d191-4a29-a33a-410f98eff13b</td>\n",
       "      <td>Sage Francis</td>\n",
       "      <td>9fba3f66-404b-4dff-9c52-0624892104ce</td>\n",
       "      <td>Personal Journalist</td>\n",
       "    </tr>\n",
       "    <tr>\n",
       "      <th>3954955</th>\n",
       "      <td>user_000199</td>\n",
       "      <td>c8fc1732-d191-4a29-a33a-410f98eff13b</td>\n",
       "      <td>Sage Francis</td>\n",
       "      <td>40e22f2f-475e-45eb-8edf-4569db06276e</td>\n",
       "      <td>Can I Kick It?</td>\n",
       "    </tr>\n",
       "    <tr>\n",
       "      <th>3954956</th>\n",
       "      <td>user_000199</td>\n",
       "      <td>c8fc1732-d191-4a29-a33a-410f98eff13b</td>\n",
       "      <td>Sage Francis</td>\n",
       "      <td>a311e0bb-a2b1-43f7-86ab-750f32cfdada</td>\n",
       "      <td>Makeshift Patriot (Intro)</td>\n",
       "    </tr>\n",
       "    <tr>\n",
       "      <th>3954958</th>\n",
       "      <td>user_000199</td>\n",
       "      <td>9639cd52-c351-4a17-9797-58880e95a7ef</td>\n",
       "      <td>The Mountain Goats</td>\n",
       "      <td>a128e6c3-4a06-4e71-88b9-ad73932f10ff</td>\n",
       "      <td>Cotton</td>\n",
       "    </tr>\n",
       "    <tr>\n",
       "      <th>3954959</th>\n",
       "      <td>user_000199</td>\n",
       "      <td>9639cd52-c351-4a17-9797-58880e95a7ef</td>\n",
       "      <td>The Mountain Goats</td>\n",
       "      <td>bbfb0e2e-c829-4c22-ab84-399cb1cd6bb4</td>\n",
       "      <td>Quito</td>\n",
       "    </tr>\n",
       "    <tr>\n",
       "      <th>3954960</th>\n",
       "      <td>user_000199</td>\n",
       "      <td>9639cd52-c351-4a17-9797-58880e95a7ef</td>\n",
       "      <td>The Mountain Goats</td>\n",
       "      <td>a52bec89-5425-48f8-ba87-6e4ee02acf74</td>\n",
       "      <td>All Up The Seething Coast</td>\n",
       "    </tr>\n",
       "    <tr>\n",
       "      <th>3954961</th>\n",
       "      <td>user_000199</td>\n",
       "      <td>9639cd52-c351-4a17-9797-58880e95a7ef</td>\n",
       "      <td>The Mountain Goats</td>\n",
       "      <td>f82ffddb-0767-40bd-baf4-a74ab55d063b</td>\n",
       "      <td>Home Again Garden Grove</td>\n",
       "    </tr>\n",
       "    <tr>\n",
       "      <th>3954962</th>\n",
       "      <td>user_000199</td>\n",
       "      <td>9639cd52-c351-4a17-9797-58880e95a7ef</td>\n",
       "      <td>The Mountain Goats</td>\n",
       "      <td>a58ca821-71b9-4517-8c05-360065ce8fa9</td>\n",
       "      <td>Mole</td>\n",
       "    </tr>\n",
       "    <tr>\n",
       "      <th>3954963</th>\n",
       "      <td>user_000199</td>\n",
       "      <td>9639cd52-c351-4a17-9797-58880e95a7ef</td>\n",
       "      <td>The Mountain Goats</td>\n",
       "      <td>69de07e5-cd8c-4695-bac3-1d6a9acfbbba</td>\n",
       "      <td>Your Belgian Things</td>\n",
       "    </tr>\n",
       "    <tr>\n",
       "      <th>3954964</th>\n",
       "      <td>user_000199</td>\n",
       "      <td>9639cd52-c351-4a17-9797-58880e95a7ef</td>\n",
       "      <td>The Mountain Goats</td>\n",
       "      <td>36357d09-6e69-4ab2-b82d-6053e1274361</td>\n",
       "      <td>The Young Thousands</td>\n",
       "    </tr>\n",
       "    <tr>\n",
       "      <th>3954965</th>\n",
       "      <td>user_000199</td>\n",
       "      <td>9639cd52-c351-4a17-9797-58880e95a7ef</td>\n",
       "      <td>The Mountain Goats</td>\n",
       "      <td>7c167475-4855-455e-9939-abb022a7c36f</td>\n",
       "      <td>Letter From Belgium</td>\n",
       "    </tr>\n",
       "    <tr>\n",
       "      <th>3954966</th>\n",
       "      <td>user_000199</td>\n",
       "      <td>9639cd52-c351-4a17-9797-58880e95a7ef</td>\n",
       "      <td>The Mountain Goats</td>\n",
       "      <td>6d2b10d0-212f-4a30-a593-76ddbc0ac83c</td>\n",
       "      <td>Linda Blair Was Born Innocent</td>\n",
       "    </tr>\n",
       "    <tr>\n",
       "      <th>3954967</th>\n",
       "      <td>user_000199</td>\n",
       "      <td>9639cd52-c351-4a17-9797-58880e95a7ef</td>\n",
       "      <td>The Mountain Goats</td>\n",
       "      <td>f8516e9e-9aed-4713-87c1-40025281b314</td>\n",
       "      <td>Palmcorder Yajna</td>\n",
       "    </tr>\n",
       "    <tr>\n",
       "      <th>3954968</th>\n",
       "      <td>user_000199</td>\n",
       "      <td>9639cd52-c351-4a17-9797-58880e95a7ef</td>\n",
       "      <td>The Mountain Goats</td>\n",
       "      <td>022efaa0-94d1-4b23-bbb2-4d392f169dfb</td>\n",
       "      <td>Slow West Vultures</td>\n",
       "    </tr>\n",
       "  </tbody>\n",
       "</table>\n",
       "<p>84617 rows × 5 columns</p>\n",
       "</div>"
      ],
      "text/plain": [
       "             user_id                             artist_id  \\\n",
       "3864601  user_000199  e1b26acf-c96f-49ab-8f0d-b98dec51da0b   \n",
       "3864602  user_000199  e1b26acf-c96f-49ab-8f0d-b98dec51da0b   \n",
       "3864603  user_000199  e1b26acf-c96f-49ab-8f0d-b98dec51da0b   \n",
       "3864604  user_000199  e1b26acf-c96f-49ab-8f0d-b98dec51da0b   \n",
       "3864605  user_000199  e1b26acf-c96f-49ab-8f0d-b98dec51da0b   \n",
       "3864606  user_000199  e1b26acf-c96f-49ab-8f0d-b98dec51da0b   \n",
       "3864607  user_000199  e1b26acf-c96f-49ab-8f0d-b98dec51da0b   \n",
       "3864608  user_000199  e1b26acf-c96f-49ab-8f0d-b98dec51da0b   \n",
       "3864609  user_000199  e1b26acf-c96f-49ab-8f0d-b98dec51da0b   \n",
       "3864610  user_000199  e1b26acf-c96f-49ab-8f0d-b98dec51da0b   \n",
       "3864611  user_000199  124e3e03-a7ec-4198-8ee4-07308f139539   \n",
       "3864612  user_000199  124e3e03-a7ec-4198-8ee4-07308f139539   \n",
       "3864613  user_000199  124e3e03-a7ec-4198-8ee4-07308f139539   \n",
       "3864614  user_000199  124e3e03-a7ec-4198-8ee4-07308f139539   \n",
       "3864615  user_000199  124e3e03-a7ec-4198-8ee4-07308f139539   \n",
       "3864616  user_000199  124e3e03-a7ec-4198-8ee4-07308f139539   \n",
       "3864624  user_000199  124e3e03-a7ec-4198-8ee4-07308f139539   \n",
       "3864625  user_000199  124e3e03-a7ec-4198-8ee4-07308f139539   \n",
       "3864626  user_000199  124e3e03-a7ec-4198-8ee4-07308f139539   \n",
       "3864627  user_000199  124e3e03-a7ec-4198-8ee4-07308f139539   \n",
       "3864628  user_000199  124e3e03-a7ec-4198-8ee4-07308f139539   \n",
       "3864629  user_000199  124e3e03-a7ec-4198-8ee4-07308f139539   \n",
       "3864630  user_000199  ae69d81f-552d-4013-8dfc-4778d8f38742   \n",
       "3864631  user_000199  c20bdfc8-0731-4641-8841-ae99761337a4   \n",
       "3864632  user_000199  c20bdfc8-0731-4641-8841-ae99761337a4   \n",
       "3864633  user_000199  c20bdfc8-0731-4641-8841-ae99761337a4   \n",
       "3864634  user_000199  c20bdfc8-0731-4641-8841-ae99761337a4   \n",
       "3864635  user_000199  c20bdfc8-0731-4641-8841-ae99761337a4   \n",
       "3864636  user_000199  c20bdfc8-0731-4641-8841-ae99761337a4   \n",
       "3864637  user_000199  c20bdfc8-0731-4641-8841-ae99761337a4   \n",
       "...              ...                                   ...   \n",
       "3954932  user_000199  55b42c39-4fc3-4760-8f33-9b5fc6a64efb   \n",
       "3954933  user_000199  be0cb2f2-71c3-4e95-a584-c19248951ff4   \n",
       "3954934  user_000199  c8fc1732-d191-4a29-a33a-410f98eff13b   \n",
       "3954935  user_000199  c8fc1732-d191-4a29-a33a-410f98eff13b   \n",
       "3954936  user_000199  a5931809-d6c4-42cb-9256-c2ff82415f1e   \n",
       "3954937  user_000199  a5931809-d6c4-42cb-9256-c2ff82415f1e   \n",
       "3954938  user_000199  a5931809-d6c4-42cb-9256-c2ff82415f1e   \n",
       "3954939  user_000199  a5931809-d6c4-42cb-9256-c2ff82415f1e   \n",
       "3954940  user_000199  a5931809-d6c4-42cb-9256-c2ff82415f1e   \n",
       "3954941  user_000199  a5931809-d6c4-42cb-9256-c2ff82415f1e   \n",
       "3954942  user_000199  a5931809-d6c4-42cb-9256-c2ff82415f1e   \n",
       "3954943  user_000199  e601c7cc-1939-469a-ab36-7eecbd448be7   \n",
       "3954944  user_000199  a78ef19a-5fba-46fd-b50e-ff95a45693aa   \n",
       "3954946  user_000199  e601c7cc-1939-469a-ab36-7eecbd448be7   \n",
       "3954948  user_000199  0f5a9658-0511-400f-9da2-6ef2d07c840f   \n",
       "3954949  user_000199  a66ebddc-ff04-46b8-820a-15c63e80dba1   \n",
       "3954950  user_000199  c8fc1732-d191-4a29-a33a-410f98eff13b   \n",
       "3954955  user_000199  c8fc1732-d191-4a29-a33a-410f98eff13b   \n",
       "3954956  user_000199  c8fc1732-d191-4a29-a33a-410f98eff13b   \n",
       "3954958  user_000199  9639cd52-c351-4a17-9797-58880e95a7ef   \n",
       "3954959  user_000199  9639cd52-c351-4a17-9797-58880e95a7ef   \n",
       "3954960  user_000199  9639cd52-c351-4a17-9797-58880e95a7ef   \n",
       "3954961  user_000199  9639cd52-c351-4a17-9797-58880e95a7ef   \n",
       "3954962  user_000199  9639cd52-c351-4a17-9797-58880e95a7ef   \n",
       "3954963  user_000199  9639cd52-c351-4a17-9797-58880e95a7ef   \n",
       "3954964  user_000199  9639cd52-c351-4a17-9797-58880e95a7ef   \n",
       "3954965  user_000199  9639cd52-c351-4a17-9797-58880e95a7ef   \n",
       "3954966  user_000199  9639cd52-c351-4a17-9797-58880e95a7ef   \n",
       "3954967  user_000199  9639cd52-c351-4a17-9797-58880e95a7ef   \n",
       "3954968  user_000199  9639cd52-c351-4a17-9797-58880e95a7ef   \n",
       "\n",
       "                                  artist_name  \\\n",
       "3864601                       Glass And Ashes   \n",
       "3864602                       Glass And Ashes   \n",
       "3864603                       Glass And Ashes   \n",
       "3864604                       Glass And Ashes   \n",
       "3864605                       Glass And Ashes   \n",
       "3864606                       Glass And Ashes   \n",
       "3864607                       Glass And Ashes   \n",
       "3864608                       Glass And Ashes   \n",
       "3864609                       Glass And Ashes   \n",
       "3864610                       Glass And Ashes   \n",
       "3864611        The Mountain Goats & Kaki King   \n",
       "3864612        The Mountain Goats & Kaki King   \n",
       "3864613        The Mountain Goats & Kaki King   \n",
       "3864614        The Mountain Goats & Kaki King   \n",
       "3864615        The Mountain Goats & Kaki King   \n",
       "3864616        The Mountain Goats & Kaki King   \n",
       "3864624        The Mountain Goats & Kaki King   \n",
       "3864625        The Mountain Goats & Kaki King   \n",
       "3864626        The Mountain Goats & Kaki King   \n",
       "3864627        The Mountain Goats & Kaki King   \n",
       "3864628        The Mountain Goats & Kaki King   \n",
       "3864629        The Mountain Goats & Kaki King   \n",
       "3864630                                  Jesu   \n",
       "3864631                      The Valley Arena   \n",
       "3864632                      The Valley Arena   \n",
       "3864633                      The Valley Arena   \n",
       "3864634                      The Valley Arena   \n",
       "3864635                      The Valley Arena   \n",
       "3864636                      The Valley Arena   \n",
       "3864637                      The Valley Arena   \n",
       "...                                       ...   \n",
       "3954932                            Aus-Rotten   \n",
       "3954933                            Dangerdoom   \n",
       "3954934                          Sage Francis   \n",
       "3954935                          Sage Francis   \n",
       "3954936  The World/Inferno Friendship Society   \n",
       "3954937  The World/Inferno Friendship Society   \n",
       "3954938  The World/Inferno Friendship Society   \n",
       "3954939  The World/Inferno Friendship Society   \n",
       "3954940  The World/Inferno Friendship Society   \n",
       "3954941  The World/Inferno Friendship Society   \n",
       "3954942  The World/Inferno Friendship Society   \n",
       "3954943                         Smoke Or Fire   \n",
       "3954944                        Defiance, Ohio   \n",
       "3954946                         Smoke Or Fire   \n",
       "3954948                       Fifth Hour Hero   \n",
       "3954949                           Against Me!   \n",
       "3954950                          Sage Francis   \n",
       "3954955                          Sage Francis   \n",
       "3954956                          Sage Francis   \n",
       "3954958                    The Mountain Goats   \n",
       "3954959                    The Mountain Goats   \n",
       "3954960                    The Mountain Goats   \n",
       "3954961                    The Mountain Goats   \n",
       "3954962                    The Mountain Goats   \n",
       "3954963                    The Mountain Goats   \n",
       "3954964                    The Mountain Goats   \n",
       "3954965                    The Mountain Goats   \n",
       "3954966                    The Mountain Goats   \n",
       "3954967                    The Mountain Goats   \n",
       "3954968                    The Mountain Goats   \n",
       "\n",
       "                                     track_id  \\\n",
       "3864601  d4dde6f2-561e-4fdc-8fd7-1926d359d3ad   \n",
       "3864602  d4dde6f2-561e-4fdc-8fd7-1926d359d3ad   \n",
       "3864603  c6eba975-14a2-401c-9f76-a297bad9079e   \n",
       "3864604  8323ed17-3d3f-41f7-9b0c-7da5044db4cf   \n",
       "3864605  8c6260d0-fc0e-43cc-ae05-7079982724bc   \n",
       "3864606  811b4ea3-d439-4722-b30a-2991373ac049   \n",
       "3864607  7dec1ffa-ebd2-4075-a200-f5d25daed3b5   \n",
       "3864608  67d85c24-59de-43b9-9f5e-f469b88a87c4   \n",
       "3864609  1e557571-e6aa-467d-9ae2-a1423bf0d5aa   \n",
       "3864610  a94bdb2c-5caf-46af-b8df-0fde8a9c5670   \n",
       "3864611  78b1189c-b76e-4494-8108-0c8fa6aa1677   \n",
       "3864612  b9613142-295d-482e-93dc-37b466250207   \n",
       "3864613  9531e732-8d48-48fd-88b1-fbf018b8b89d   \n",
       "3864614  4af670c8-f4aa-4c79-ac29-60520e7ea21a   \n",
       "3864615  e2634f8d-d188-41af-af1a-1d03861b6122   \n",
       "3864616  a2ab5511-c30d-438e-bb06-631fc72084df   \n",
       "3864624  78b1189c-b76e-4494-8108-0c8fa6aa1677   \n",
       "3864625  b9613142-295d-482e-93dc-37b466250207   \n",
       "3864626  9531e732-8d48-48fd-88b1-fbf018b8b89d   \n",
       "3864627  4af670c8-f4aa-4c79-ac29-60520e7ea21a   \n",
       "3864628  e2634f8d-d188-41af-af1a-1d03861b6122   \n",
       "3864629  a2ab5511-c30d-438e-bb06-631fc72084df   \n",
       "3864630  80febb37-5837-4a9f-b256-332dc98835ca   \n",
       "3864631  877f3049-95e8-4f83-8c3c-a8d3a4e003d4   \n",
       "3864632  0cb52aca-3d85-4c10-af59-e4d284f780ac   \n",
       "3864633  70126177-b487-455f-a944-53c319e04f2b   \n",
       "3864634  a13f5c9c-87e4-4654-92ae-4369aafdaa99   \n",
       "3864635  f3a372a1-0f31-47e1-9ca9-30b9bf716885   \n",
       "3864636  e85b1dd9-bbfe-44fe-802b-2c6a441c415d   \n",
       "3864637  04cea3ad-9c7b-46b4-9d48-4b35ec6cb33f   \n",
       "...                                       ...   \n",
       "3954932  8a56c8e5-155c-48d8-9f21-0402ce38bb9e   \n",
       "3954933  561e202e-d01e-422c-bc65-51251a969546   \n",
       "3954934  a311e0bb-a2b1-43f7-86ab-750f32cfdada   \n",
       "3954935  cd7c4a1f-a5dd-4e40-ab40-fab2f276063e   \n",
       "3954936  44391021-1dce-4149-b6d5-f4ac8e7c370a   \n",
       "3954937  270f22fa-91a9-49fe-b793-c660f20da428   \n",
       "3954938  22901f00-8898-44ef-aeff-61b7a8eaa69a   \n",
       "3954939  8faa08ea-5390-4704-a400-ce66fff1cd50   \n",
       "3954940  456aee8b-53e9-4dfb-904e-0eb62dbf7ffe   \n",
       "3954941  f3164c36-5043-464b-ac07-2dc6f4658cc3   \n",
       "3954942  5e5f9a6c-7a3e-41c1-954f-1ecca6478960   \n",
       "3954943  c407af57-0d89-41a3-9c78-0423e6a90927   \n",
       "3954944  6065c7c0-1122-4cd8-9582-9f4fb4672803   \n",
       "3954946  c407af57-0d89-41a3-9c78-0423e6a90927   \n",
       "3954948  846a62e9-0418-442d-89dc-8f26fb4d1be0   \n",
       "3954949  5184312c-e38b-475c-bc07-9c6198fc13a2   \n",
       "3954950  9fba3f66-404b-4dff-9c52-0624892104ce   \n",
       "3954955  40e22f2f-475e-45eb-8edf-4569db06276e   \n",
       "3954956  a311e0bb-a2b1-43f7-86ab-750f32cfdada   \n",
       "3954958  a128e6c3-4a06-4e71-88b9-ad73932f10ff   \n",
       "3954959  bbfb0e2e-c829-4c22-ab84-399cb1cd6bb4   \n",
       "3954960  a52bec89-5425-48f8-ba87-6e4ee02acf74   \n",
       "3954961  f82ffddb-0767-40bd-baf4-a74ab55d063b   \n",
       "3954962  a58ca821-71b9-4517-8c05-360065ce8fa9   \n",
       "3954963  69de07e5-cd8c-4695-bac3-1d6a9acfbbba   \n",
       "3954964  36357d09-6e69-4ab2-b82d-6053e1274361   \n",
       "3954965  7c167475-4855-455e-9939-abb022a7c36f   \n",
       "3954966  6d2b10d0-212f-4a30-a593-76ddbc0ac83c   \n",
       "3954967  f8516e9e-9aed-4713-87c1-40025281b314   \n",
       "3954968  022efaa0-94d1-4b23-bbb2-4d392f169dfb   \n",
       "\n",
       "                                                track_name  \n",
       "3864601                                    Off The Piranha  \n",
       "3864602                                    Off The Piranha  \n",
       "3864603                                    Bloody Knuckles  \n",
       "3864604                                         Head First  \n",
       "3864605                                    Dead On Arrival  \n",
       "3864606                                         Eighty-Six  \n",
       "3864607                                    Controlled Burn  \n",
       "3864608                                      Dividing Line  \n",
       "3864609                                 The Art Of Selling  \n",
       "3864610                             Black Beneath The Eyes  \n",
       "3864611  Thank You Mario But Our Princess Is In Another...  \n",
       "3864612                                Roger Patterson Van  \n",
       "3864613                                       Supergenesis  \n",
       "3864614                              Bring Our Curses Home  \n",
       "3864615                                 Mosquito Repellant  \n",
       "3864616                                    Black Pear Tree  \n",
       "3864624  Thank You Mario But Our Princess Is In Another...  \n",
       "3864625                                Roger Patterson Van  \n",
       "3864626                                       Supergenesis  \n",
       "3864627                              Bring Our Curses Home  \n",
       "3864628                                 Mosquito Repellant  \n",
       "3864629                                    Black Pear Tree  \n",
       "3864630                                   Friends Are Evil  \n",
       "3864631                          Take Comfort In Strangers  \n",
       "3864632                        The Plastic Knife You Swing  \n",
       "3864633                            The Metal Of Your Teeth  \n",
       "3864634                                         Piano Wire  \n",
       "3864635                                  What We Can Steal  \n",
       "3864636                                    Burn Off Regret  \n",
       "3864637                                         Carneceria  \n",
       "...                                                    ...  \n",
       "3954932                                  The Rotten Agenda  \n",
       "3954933                                           A.T.H.F.  \n",
       "3954934                          Makeshift Patriot (Intro)  \n",
       "3954935                                        Crack Pipes  \n",
       "3954936  I Wouldn'T Want To Live In A World Without Gru...  \n",
       "3954937                                        Peter Lorre  \n",
       "3954938                           Friend To The Friendless  \n",
       "3954939             Secret Service Freedom Fighting U.S.A.  \n",
       "3954940                                   Heart Attack '64  \n",
       "3954941                  My Ancestral Homeland, New Jersey  \n",
       "3954942  Zen And The Art Of Breaking Everything In This...  \n",
       "3954943                               California'S Burning  \n",
       "3954944                                   Oh, Susquehanna!  \n",
       "3954946                               California'S Burning  \n",
       "3954948                                        Cut Me Dead  \n",
       "3954949                   Pints Of Guiness Make You Strong  \n",
       "3954950                                Personal Journalist  \n",
       "3954955                                     Can I Kick It?  \n",
       "3954956                          Makeshift Patriot (Intro)  \n",
       "3954958                                             Cotton  \n",
       "3954959                                              Quito  \n",
       "3954960                          All Up The Seething Coast  \n",
       "3954961                            Home Again Garden Grove  \n",
       "3954962                                               Mole  \n",
       "3954963                                Your Belgian Things  \n",
       "3954964                                The Young Thousands  \n",
       "3954965                                Letter From Belgium  \n",
       "3954966                      Linda Blair Was Born Innocent  \n",
       "3954967                                   Palmcorder Yajna  \n",
       "3954968                                 Slow West Vultures  \n",
       "\n",
       "[84617 rows x 5 columns]"
      ]
     },
     "execution_count": 15,
     "metadata": {},
     "output_type": "execute_result"
    }
   ],
   "source": [
    "user_x = 'user_000199'\n",
    "user_x_df = df[df['user_id'] == user_x]\n",
    "user_x_df"
   ]
  },
  {
   "cell_type": "code",
   "execution_count": 16,
   "metadata": {},
   "outputs": [
    {
     "name": "stdout",
     "output_type": "stream",
     "text": [
      "14668\n",
      "84617\n"
     ]
    }
   ],
   "source": [
    "print(len(user_x_df['track_id'].unique()))\n",
    "print(len(user_x_df['track_id']))"
   ]
  },
  {
   "cell_type": "code",
   "execution_count": 7,
   "metadata": {
    "collapsed": true
   },
   "outputs": [],
   "source": [
    "df = df.groupby(['user_id', 'track_id']).size().reset_index(name='listen_count')"
   ]
  },
  {
   "cell_type": "code",
   "execution_count": 8,
   "metadata": {},
   "outputs": [
    {
     "data": {
      "text/html": [
       "<div>\n",
       "<style>\n",
       "    .dataframe thead tr:only-child th {\n",
       "        text-align: right;\n",
       "    }\n",
       "\n",
       "    .dataframe thead th {\n",
       "        text-align: left;\n",
       "    }\n",
       "\n",
       "    .dataframe tbody tr th {\n",
       "        vertical-align: top;\n",
       "    }\n",
       "</style>\n",
       "<table border=\"1\" class=\"dataframe\">\n",
       "  <thead>\n",
       "    <tr style=\"text-align: right;\">\n",
       "      <th></th>\n",
       "      <th>user_id</th>\n",
       "      <th>track_id</th>\n",
       "      <th>listen_count</th>\n",
       "    </tr>\n",
       "  </thead>\n",
       "  <tbody>\n",
       "    <tr>\n",
       "      <th>1353299</th>\n",
       "      <td>user_000351</td>\n",
       "      <td>5c4624ce-e6dd-40b2-acff-3e1ea21bec7f</td>\n",
       "      <td>1</td>\n",
       "    </tr>\n",
       "    <tr>\n",
       "      <th>925767</th>\n",
       "      <td>user_000241</td>\n",
       "      <td>838af2bf-4775-4585-bf03-ccde4be50860</td>\n",
       "      <td>2</td>\n",
       "    </tr>\n",
       "    <tr>\n",
       "      <th>1443906</th>\n",
       "      <td>user_000371</td>\n",
       "      <td>73b219e2-2916-45d5-b395-26fbe4fffd6b</td>\n",
       "      <td>2</td>\n",
       "    </tr>\n",
       "    <tr>\n",
       "      <th>2242538</th>\n",
       "      <td>user_000598</td>\n",
       "      <td>8ea04458-d91c-4ed6-9507-4a55654c1a64</td>\n",
       "      <td>2</td>\n",
       "    </tr>\n",
       "    <tr>\n",
       "      <th>133575</th>\n",
       "      <td>user_000031</td>\n",
       "      <td>06685905-0d1a-4bb3-aa3d-589993a7e888</td>\n",
       "      <td>1</td>\n",
       "    </tr>\n",
       "    <tr>\n",
       "      <th>3208237</th>\n",
       "      <td>user_000807</td>\n",
       "      <td>c06137ba-42d8-4edc-a418-dd43c8f9cc22</td>\n",
       "      <td>1</td>\n",
       "    </tr>\n",
       "    <tr>\n",
       "      <th>203780</th>\n",
       "      <td>user_000051</td>\n",
       "      <td>ec7f3b9c-d433-4fd4-bee0-cc4b7df5df27</td>\n",
       "      <td>2</td>\n",
       "    </tr>\n",
       "    <tr>\n",
       "      <th>1768850</th>\n",
       "      <td>user_000458</td>\n",
       "      <td>e0c26315-3c2e-4924-bfbd-9ead374e7139</td>\n",
       "      <td>35</td>\n",
       "    </tr>\n",
       "    <tr>\n",
       "      <th>496669</th>\n",
       "      <td>user_000128</td>\n",
       "      <td>478683ee-c012-4035-a268-927d0c8d808e</td>\n",
       "      <td>1</td>\n",
       "    </tr>\n",
       "    <tr>\n",
       "      <th>2701333</th>\n",
       "      <td>user_000699</td>\n",
       "      <td>7cf6cff0-e51a-4d19-ab39-53cc2d80bd88</td>\n",
       "      <td>2</td>\n",
       "    </tr>\n",
       "  </tbody>\n",
       "</table>\n",
       "</div>"
      ],
      "text/plain": [
       "             user_id                              track_id  listen_count\n",
       "1353299  user_000351  5c4624ce-e6dd-40b2-acff-3e1ea21bec7f             1\n",
       "925767   user_000241  838af2bf-4775-4585-bf03-ccde4be50860             2\n",
       "1443906  user_000371  73b219e2-2916-45d5-b395-26fbe4fffd6b             2\n",
       "2242538  user_000598  8ea04458-d91c-4ed6-9507-4a55654c1a64             2\n",
       "133575   user_000031  06685905-0d1a-4bb3-aa3d-589993a7e888             1\n",
       "3208237  user_000807  c06137ba-42d8-4edc-a418-dd43c8f9cc22             1\n",
       "203780   user_000051  ec7f3b9c-d433-4fd4-bee0-cc4b7df5df27             2\n",
       "1768850  user_000458  e0c26315-3c2e-4924-bfbd-9ead374e7139            35\n",
       "496669   user_000128  478683ee-c012-4035-a268-927d0c8d808e             1\n",
       "2701333  user_000699  7cf6cff0-e51a-4d19-ab39-53cc2d80bd88             2"
      ]
     },
     "execution_count": 8,
     "metadata": {},
     "output_type": "execute_result"
    }
   ],
   "source": [
    "df.sample(10)"
   ]
  },
  {
   "cell_type": "markdown",
   "metadata": {},
   "source": [
    "## Exploration on listen count"
   ]
  },
  {
   "cell_type": "code",
   "execution_count": 19,
   "metadata": {
    "collapsed": true
   },
   "outputs": [],
   "source": [
    "import matplotlib.pyplot as plt\n",
    "%matplotlib inline"
   ]
  },
  {
   "cell_type": "code",
   "execution_count": 20,
   "metadata": {},
   "outputs": [
    {
     "data": {
      "text/plain": [
       "<matplotlib.axes._subplots.AxesSubplot at 0x22306330048>"
      ]
     },
     "execution_count": 20,
     "metadata": {},
     "output_type": "execute_result"
    },
    {
     "data": {
      "image/png": "[encoded data removed]",
      "text/plain": [
       "<matplotlib.figure.Figure at 0x22301788e10>"
      ]
     },
     "metadata": {},
     "output_type": "display_data"
    }
   ],
   "source": [
    "df[df['user_id'] == 'user_000005']['listen_count'].hist()"
   ]
  },
  {
   "cell_type": "code",
   "execution_count": 21,
   "metadata": {
    "collapsed": true
   },
   "outputs": [],
   "source": [
    "test_counts = df[df['user_id'] == 'user_000005']['listen_count']"
   ]
  },
  {
   "cell_type": "code",
   "execution_count": 22,
   "metadata": {},
   "outputs": [
    {
     "data": {
      "text/plain": [
       "array([ 14,   9,   8,   2,  10,   1,   4,  11,  25,   5,   3,  12,  21,\n",
       "        26,  13,   7,  23,  30,   6,  18,  38, 134,  45,  15,  36,  17,\n",
       "        16,  29, 207,  31,  19,  78,  44, 116,  61,  68,  40,  32,  39,\n",
       "        33,  34,  46,  35,  22,  42,  80,  27,  20,  67,  51,  24,  81,\n",
       "        69, 106,  56,  79,  62,  91,  60, 146,  49,  48, 110,  71,  41,\n",
       "        95,  83,  50,  28, 137,  52,  76, 121,  74, 147,  63, 114,  59,\n",
       "       104, 191,  75,  72, 221, 120,  94,  47,  84,  43,  58,  65, 102,\n",
       "        37,  66,  55,  90, 128, 124], dtype=int64)"
      ]
     },
     "execution_count": 22,
     "metadata": {},
     "output_type": "execute_result"
    }
   ],
   "source": [
    "test_counts.unique()"
   ]
  },
  {
   "cell_type": "code",
   "execution_count": 23,
   "metadata": {},
   "outputs": [
    {
     "data": {
      "text/plain": [
       "count    1378.000000\n",
       "mean       11.175617\n",
       "std        22.440100\n",
       "min         1.000000\n",
       "25%         1.000000\n",
       "50%         4.000000\n",
       "75%         8.000000\n",
       "max       221.000000\n",
       "Name: listen_count, dtype: float64"
      ]
     },
     "execution_count": 23,
     "metadata": {},
     "output_type": "execute_result"
    }
   ],
   "source": [
    "test_counts.describe()"
   ]
  },
  {
   "cell_type": "markdown",
   "metadata": {},
   "source": [
    "Listen count is definitely not normal nor uniform. It's closer to some kind of exponential distribution. How to normalize it to a rating system?"
   ]
  },
  {
   "cell_type": "code",
   "execution_count": 24,
   "metadata": {
    "collapsed": true
   },
   "outputs": [],
   "source": [
    "from sklearn.preprocessing import MinMaxScaler, MaxAbsScaler, Normalizer, RobustScaler"
   ]
  },
  {
   "cell_type": "code",
   "execution_count": 25,
   "metadata": {},
   "outputs": [
    {
     "name": "stderr",
     "output_type": "stream",
     "text": [
      "C:\\Users\\kaiser\\Anaconda3\\lib\\site-packages\\ipykernel_launcher.py:2: FutureWarning: reshape is deprecated and will raise in a subsequent release. Please use .values.reshape(...) instead\n",
      "  \n"
     ]
    },
    {
     "data": {
      "text/plain": [
       "(array([    0.,     0.,     0.,     0.,     0.,  1378.,     0.,     0.,\n",
       "            0.,     0.]),\n",
       " array([-0.5, -0.4, -0.3, -0.2, -0.1,  0. ,  0.1,  0.2,  0.3,  0.4,  0.5]),\n",
       " <a list of 10 Patch objects>)"
      ]
     },
     "execution_count": 25,
     "metadata": {},
     "output_type": "execute_result"
    },
    {
     "data": {
      "image/png": "[encoded data removed]",
      "text/plain": [
       "<matplotlib.figure.Figure at 0x2230635b4a8>"
      ]
     },
     "metadata": {},
     "output_type": "display_data"
    }
   ],
   "source": [
    "scaler = RobustScaler()\n",
    "plt.hist(scaler.fit_transform(test_counts.reshape(1, -1))[0])"
   ]
  },
  {
   "cell_type": "code",
   "execution_count": 26,
   "metadata": {},
   "outputs": [
    {
     "name": "stderr",
     "output_type": "stream",
     "text": [
      "C:\\Users\\kaiser\\Anaconda3\\lib\\site-packages\\ipykernel_launcher.py:2: FutureWarning: reshape is deprecated and will raise in a subsequent release. Please use .values.reshape(...) instead\n",
      "  \n",
      "C:\\Users\\kaiser\\Anaconda3\\lib\\site-packages\\sklearn\\utils\\validation.py:444: DataConversionWarning: Data with input dtype int64 was converted to float64 by MinMaxScaler.\n",
      "  warnings.warn(msg, DataConversionWarning)\n"
     ]
    },
    {
     "data": {
      "text/plain": [
       "(array([    0.,     0.,     0.,     0.,     0.,  1378.,     0.,     0.,\n",
       "            0.,     0.]),\n",
       " array([ 54.5,  54.6,  54.7,  54.8,  54.9,  55. ,  55.1,  55.2,  55.3,\n",
       "         55.4,  55.5]),\n",
       " <a list of 10 Patch objects>)"
      ]
     },
     "execution_count": 26,
     "metadata": {},
     "output_type": "execute_result"
    },
    {
     "data": {
      "image/png": "[encoded data removed]",
      "text/plain": [
       "<matplotlib.figure.Figure at 0x22307ccc438>"
      ]
     },
     "metadata": {},
     "output_type": "display_data"
    }
   ],
   "source": [
    "scaler = MinMaxScaler((55, 100))\n",
    "plt.hist(scaler.fit_transform(df[df['user_id'] == 'user_000005']['listen_count'].reshape(1, -1))[0])"
   ]
  },
  {
   "cell_type": "markdown",
   "metadata": {},
   "source": [
    "These scalers don't seem to be working...\n",
    "\n",
    "...but what if we use the quantiles? Up to the 50% quantile will be considered 3 stars, up to 75% is 4 stars and above that, 5. Let's try!"
   ]
  },
  {
   "cell_type": "code",
   "execution_count": 27,
   "metadata": {
    "collapsed": true
   },
   "outputs": [],
   "source": [
    "import numpy as np"
   ]
  },
  {
   "cell_type": "code",
   "execution_count": 28,
   "metadata": {},
   "outputs": [
    {
     "data": {
      "text/html": [
       "<div>\n",
       "<style>\n",
       "    .dataframe thead tr:only-child th {\n",
       "        text-align: right;\n",
       "    }\n",
       "\n",
       "    .dataframe thead th {\n",
       "        text-align: left;\n",
       "    }\n",
       "\n",
       "    .dataframe tbody tr th {\n",
       "        vertical-align: top;\n",
       "    }\n",
       "</style>\n",
       "<table border=\"1\" class=\"dataframe\">\n",
       "  <thead>\n",
       "    <tr style=\"text-align: right;\">\n",
       "      <th></th>\n",
       "      <th>user_id</th>\n",
       "      <th>track_id</th>\n",
       "      <th>listen_count</th>\n",
       "      <th>rating</th>\n",
       "    </tr>\n",
       "  </thead>\n",
       "  <tbody>\n",
       "    <tr>\n",
       "      <th>0</th>\n",
       "      <td>user_000001</td>\n",
       "      <td>00237585-8e04-4cd5-a785-f2185492ab0b</td>\n",
       "      <td>2</td>\n",
       "      <td>NaN</td>\n",
       "    </tr>\n",
       "    <tr>\n",
       "      <th>1</th>\n",
       "      <td>user_000001</td>\n",
       "      <td>0024d72c-136f-49f2-9078-ce4b39b94d3f</td>\n",
       "      <td>4</td>\n",
       "      <td>NaN</td>\n",
       "    </tr>\n",
       "    <tr>\n",
       "      <th>2</th>\n",
       "      <td>user_000001</td>\n",
       "      <td>0025055f-39c3-43e2-b874-3bf42bbc9212</td>\n",
       "      <td>2</td>\n",
       "      <td>NaN</td>\n",
       "    </tr>\n",
       "    <tr>\n",
       "      <th>3</th>\n",
       "      <td>user_000001</td>\n",
       "      <td>002e254d-4624-49f4-b78a-b40711b9e4f3</td>\n",
       "      <td>3</td>\n",
       "      <td>NaN</td>\n",
       "    </tr>\n",
       "    <tr>\n",
       "      <th>4</th>\n",
       "      <td>user_000001</td>\n",
       "      <td>00b07689-ec4c-4773-94ce-06f3d198431e</td>\n",
       "      <td>4</td>\n",
       "      <td>NaN</td>\n",
       "    </tr>\n",
       "  </tbody>\n",
       "</table>\n",
       "</div>"
      ],
      "text/plain": [
       "       user_id                              track_id  listen_count  rating\n",
       "0  user_000001  00237585-8e04-4cd5-a785-f2185492ab0b             2     NaN\n",
       "1  user_000001  0024d72c-136f-49f2-9078-ce4b39b94d3f             4     NaN\n",
       "2  user_000001  0025055f-39c3-43e2-b874-3bf42bbc9212             2     NaN\n",
       "3  user_000001  002e254d-4624-49f4-b78a-b40711b9e4f3             3     NaN\n",
       "4  user_000001  00b07689-ec4c-4773-94ce-06f3d198431e             4     NaN"
      ]
     },
     "execution_count": 28,
     "metadata": {},
     "output_type": "execute_result"
    }
   ],
   "source": [
    "df['rating'] = np.nan\n",
    "df.head()"
   ]
  },
  {
   "cell_type": "code",
   "execution_count": 63,
   "metadata": {
    "collapsed": true
   },
   "outputs": [],
   "source": [
    "def create_ratings_for_user(df, user_id):\n",
    "    sel_user = df['user_id'] == user_id\n",
    "    user_data = df[sel_user]\n",
    "    three_stars_limit = user_data['listen_count'].quantile(.5)\n",
    "    four_stars_limit = user_data['listen_count'].quantile(.75)\n",
    "    \n",
    "    sel_3_stars = sel_user & (df['listen_count'] < three_stars_limit)\n",
    "    df.loc[sel_3_stars, 'rating'] = 3\n",
    "    \n",
    "    sel_4_stars = sel_user & (df['listen_count'] >= three_stars_limit) & (df['listen_count'] <= four_stars_limit)\n",
    "    df.loc[sel_4_stars, 'rating'] = 4\n",
    "    \n",
    "    sel_5_stars = sel_user & (df['listen_count'] > four_stars_limit)\n",
    "    df.loc[sel_5_stars, 'rating'] = 5"
   ]
  },
  {
   "cell_type": "code",
   "execution_count": 64,
   "metadata": {},
   "outputs": [
    {
     "data": {
      "text/html": [
       "<div>\n",
       "<style>\n",
       "    .dataframe thead tr:only-child th {\n",
       "        text-align: right;\n",
       "    }\n",
       "\n",
       "    .dataframe thead th {\n",
       "        text-align: left;\n",
       "    }\n",
       "\n",
       "    .dataframe tbody tr th {\n",
       "        vertical-align: top;\n",
       "    }\n",
       "</style>\n",
       "<table border=\"1\" class=\"dataframe\">\n",
       "  <thead>\n",
       "    <tr style=\"text-align: right;\">\n",
       "      <th></th>\n",
       "      <th>user_id</th>\n",
       "      <th>track_id</th>\n",
       "      <th>listen_count</th>\n",
       "      <th>rating</th>\n",
       "    </tr>\n",
       "  </thead>\n",
       "  <tbody>\n",
       "    <tr>\n",
       "      <th>764318</th>\n",
       "      <td>user_000195</td>\n",
       "      <td>0082c07b-2dac-4a38-a484-b32715a406e6</td>\n",
       "      <td>7</td>\n",
       "      <td>4.0</td>\n",
       "    </tr>\n",
       "    <tr>\n",
       "      <th>765286</th>\n",
       "      <td>user_000195</td>\n",
       "      <td>eca55467-116f-429d-aa2f-95b746dab5d1</td>\n",
       "      <td>1</td>\n",
       "      <td>3.0</td>\n",
       "    </tr>\n",
       "    <tr>\n",
       "      <th>764717</th>\n",
       "      <td>user_000195</td>\n",
       "      <td>65e278c3-1bcf-4d56-8900-1e4aaa0d2a31</td>\n",
       "      <td>40</td>\n",
       "      <td>5.0</td>\n",
       "    </tr>\n",
       "    <tr>\n",
       "      <th>764806</th>\n",
       "      <td>user_000195</td>\n",
       "      <td>78625f8a-6a80-4013-9169-2b8e974c7729</td>\n",
       "      <td>5</td>\n",
       "      <td>3.0</td>\n",
       "    </tr>\n",
       "    <tr>\n",
       "      <th>764617</th>\n",
       "      <td>user_000195</td>\n",
       "      <td>49b69ccc-d3cf-47ac-afc1-01231329cedd</td>\n",
       "      <td>51</td>\n",
       "      <td>5.0</td>\n",
       "    </tr>\n",
       "    <tr>\n",
       "      <th>764406</th>\n",
       "      <td>user_000195</td>\n",
       "      <td>17349c1e-7e72-40d8-8f30-adb594dd0105</td>\n",
       "      <td>1</td>\n",
       "      <td>3.0</td>\n",
       "    </tr>\n",
       "    <tr>\n",
       "      <th>764665</th>\n",
       "      <td>user_000195</td>\n",
       "      <td>58e22fea-1613-4a96-8cc0-b12e9b01566b</td>\n",
       "      <td>32</td>\n",
       "      <td>4.0</td>\n",
       "    </tr>\n",
       "    <tr>\n",
       "      <th>765024</th>\n",
       "      <td>user_000195</td>\n",
       "      <td>ade7b229-393a-4c99-9d71-b39f05d96ab9</td>\n",
       "      <td>4</td>\n",
       "      <td>3.0</td>\n",
       "    </tr>\n",
       "    <tr>\n",
       "      <th>764355</th>\n",
       "      <td>user_000195</td>\n",
       "      <td>081f204b-5460-43c9-be9c-3643acefc3c1</td>\n",
       "      <td>1</td>\n",
       "      <td>3.0</td>\n",
       "    </tr>\n",
       "    <tr>\n",
       "      <th>765227</th>\n",
       "      <td>user_000195</td>\n",
       "      <td>df8c94da-f884-4f22-af08-df9d40275d39</td>\n",
       "      <td>3</td>\n",
       "      <td>3.0</td>\n",
       "    </tr>\n",
       "  </tbody>\n",
       "</table>\n",
       "</div>"
      ],
      "text/plain": [
       "            user_id                              track_id  listen_count  \\\n",
       "764318  user_000195  0082c07b-2dac-4a38-a484-b32715a406e6             7   \n",
       "765286  user_000195  eca55467-116f-429d-aa2f-95b746dab5d1             1   \n",
       "764717  user_000195  65e278c3-1bcf-4d56-8900-1e4aaa0d2a31            40   \n",
       "764806  user_000195  78625f8a-6a80-4013-9169-2b8e974c7729             5   \n",
       "764617  user_000195  49b69ccc-d3cf-47ac-afc1-01231329cedd            51   \n",
       "764406  user_000195  17349c1e-7e72-40d8-8f30-adb594dd0105             1   \n",
       "764665  user_000195  58e22fea-1613-4a96-8cc0-b12e9b01566b            32   \n",
       "765024  user_000195  ade7b229-393a-4c99-9d71-b39f05d96ab9             4   \n",
       "764355  user_000195  081f204b-5460-43c9-be9c-3643acefc3c1             1   \n",
       "765227  user_000195  df8c94da-f884-4f22-af08-df9d40275d39             3   \n",
       "\n",
       "        rating  \n",
       "764318     4.0  \n",
       "765286     3.0  \n",
       "764717     5.0  \n",
       "764806     3.0  \n",
       "764617     5.0  \n",
       "764406     3.0  \n",
       "764665     4.0  \n",
       "765024     3.0  \n",
       "764355     3.0  \n",
       "765227     3.0  "
      ]
     },
     "execution_count": 64,
     "metadata": {},
     "output_type": "execute_result"
    }
   ],
   "source": [
    "create_ratings_for_user(df, 'user_000195')\n",
    "df[df['user_id'] == 'user_000195'].sample(10)"
   ]
  },
  {
   "cell_type": "code",
   "execution_count": 60,
   "metadata": {},
   "outputs": [
    {
     "data": {
      "text/html": [
       "<div>\n",
       "<style>\n",
       "    .dataframe thead tr:only-child th {\n",
       "        text-align: right;\n",
       "    }\n",
       "\n",
       "    .dataframe thead th {\n",
       "        text-align: left;\n",
       "    }\n",
       "\n",
       "    .dataframe tbody tr th {\n",
       "        vertical-align: top;\n",
       "    }\n",
       "</style>\n",
       "<table border=\"1\" class=\"dataframe\">\n",
       "  <thead>\n",
       "    <tr style=\"text-align: right;\">\n",
       "      <th></th>\n",
       "      <th>user_id</th>\n",
       "      <th>track_id</th>\n",
       "      <th>listen_count</th>\n",
       "      <th>rating</th>\n",
       "    </tr>\n",
       "  </thead>\n",
       "  <tbody>\n",
       "    <tr>\n",
       "      <th>765245</th>\n",
       "      <td>user_000195</td>\n",
       "      <td>e273ed0f-6cc6-4fec-83cd-e2da18b2f96d</td>\n",
       "      <td>5</td>\n",
       "      <td>3.0</td>\n",
       "    </tr>\n",
       "    <tr>\n",
       "      <th>765249</th>\n",
       "      <td>user_000195</td>\n",
       "      <td>e36ec73e-c99e-4369-8af5-825db0dd93bf</td>\n",
       "      <td>44</td>\n",
       "      <td>5.0</td>\n",
       "    </tr>\n",
       "    <tr>\n",
       "      <th>764644</th>\n",
       "      <td>user_000195</td>\n",
       "      <td>53de73c2-7e32-44b5-900d-1c1843c215e9</td>\n",
       "      <td>7</td>\n",
       "      <td>4.0</td>\n",
       "    </tr>\n",
       "    <tr>\n",
       "      <th>765309</th>\n",
       "      <td>user_000195</td>\n",
       "      <td>f262704d-fc7e-4007-ab46-8350442b6dea</td>\n",
       "      <td>44</td>\n",
       "      <td>5.0</td>\n",
       "    </tr>\n",
       "    <tr>\n",
       "      <th>765320</th>\n",
       "      <td>user_000195</td>\n",
       "      <td>f4464442-50c6-42a2-b01f-521a6019337d</td>\n",
       "      <td>1</td>\n",
       "      <td>3.0</td>\n",
       "    </tr>\n",
       "    <tr>\n",
       "      <th>764544</th>\n",
       "      <td>user_000195</td>\n",
       "      <td>36d2430a-d115-491f-87da-16f1a1cad152</td>\n",
       "      <td>4</td>\n",
       "      <td>3.0</td>\n",
       "    </tr>\n",
       "    <tr>\n",
       "      <th>764383</th>\n",
       "      <td>user_000195</td>\n",
       "      <td>0f961de5-9cd4-4744-9520-ce24b807438e</td>\n",
       "      <td>3</td>\n",
       "      <td>3.0</td>\n",
       "    </tr>\n",
       "    <tr>\n",
       "      <th>764496</th>\n",
       "      <td>user_000195</td>\n",
       "      <td>2c3e2373-065c-492b-86dd-47ffb9471635</td>\n",
       "      <td>26</td>\n",
       "      <td>4.0</td>\n",
       "    </tr>\n",
       "    <tr>\n",
       "      <th>765063</th>\n",
       "      <td>user_000195</td>\n",
       "      <td>b84297a1-6f61-44d5-a357-e31772212bad</td>\n",
       "      <td>1</td>\n",
       "      <td>3.0</td>\n",
       "    </tr>\n",
       "    <tr>\n",
       "      <th>764517</th>\n",
       "      <td>user_000195</td>\n",
       "      <td>300a398f-f933-4dbd-b0b3-a0fc47e8339c</td>\n",
       "      <td>11</td>\n",
       "      <td>4.0</td>\n",
       "    </tr>\n",
       "  </tbody>\n",
       "</table>\n",
       "</div>"
      ],
      "text/plain": [
       "            user_id                              track_id  listen_count  \\\n",
       "765245  user_000195  e273ed0f-6cc6-4fec-83cd-e2da18b2f96d             5   \n",
       "765249  user_000195  e36ec73e-c99e-4369-8af5-825db0dd93bf            44   \n",
       "764644  user_000195  53de73c2-7e32-44b5-900d-1c1843c215e9             7   \n",
       "765309  user_000195  f262704d-fc7e-4007-ab46-8350442b6dea            44   \n",
       "765320  user_000195  f4464442-50c6-42a2-b01f-521a6019337d             1   \n",
       "764544  user_000195  36d2430a-d115-491f-87da-16f1a1cad152             4   \n",
       "764383  user_000195  0f961de5-9cd4-4744-9520-ce24b807438e             3   \n",
       "764496  user_000195  2c3e2373-065c-492b-86dd-47ffb9471635            26   \n",
       "765063  user_000195  b84297a1-6f61-44d5-a357-e31772212bad             1   \n",
       "764517  user_000195  300a398f-f933-4dbd-b0b3-a0fc47e8339c            11   \n",
       "\n",
       "        rating  \n",
       "765245     3.0  \n",
       "765249     5.0  \n",
       "764644     4.0  \n",
       "765309     5.0  \n",
       "765320     3.0  \n",
       "764544     3.0  \n",
       "764383     3.0  \n",
       "764496     4.0  \n",
       "765063     3.0  \n",
       "764517     4.0  "
      ]
     },
     "execution_count": 60,
     "metadata": {},
     "output_type": "execute_result"
    }
   ],
   "source": [
    "sel = df['user_id'] == 'user_000195'\n",
    "sel &= df['listen_count'] >= 6\n",
    "sel &= df['listen_count'] <= 33\n",
    "df.loc[sel, 'rating'] = 4\n",
    "df[df['user_id'] == 'user_000195'].sample(10)"
   ]
  },
  {
   "cell_type": "code",
   "execution_count": 65,
   "metadata": {
    "collapsed": true
   },
   "outputs": [],
   "source": [
    "for user in df['user_id'].unique():\n",
    "    create_ratings_for_user(df, user)"
   ]
  },
  {
   "cell_type": "code",
   "execution_count": 67,
   "metadata": {},
   "outputs": [
    {
     "data": {
      "text/html": [
       "<div>\n",
       "<style>\n",
       "    .dataframe thead tr:only-child th {\n",
       "        text-align: right;\n",
       "    }\n",
       "\n",
       "    .dataframe thead th {\n",
       "        text-align: left;\n",
       "    }\n",
       "\n",
       "    .dataframe tbody tr th {\n",
       "        vertical-align: top;\n",
       "    }\n",
       "</style>\n",
       "<table border=\"1\" class=\"dataframe\">\n",
       "  <thead>\n",
       "    <tr style=\"text-align: right;\">\n",
       "      <th></th>\n",
       "      <th>user_id</th>\n",
       "      <th>track_id</th>\n",
       "      <th>listen_count</th>\n",
       "      <th>rating</th>\n",
       "    </tr>\n",
       "  </thead>\n",
       "  <tbody>\n",
       "    <tr>\n",
       "      <th>764904</th>\n",
       "      <td>user_000195</td>\n",
       "      <td>921130c1-4887-42e2-a075-0c65416f2526</td>\n",
       "      <td>14</td>\n",
       "      <td>4.0</td>\n",
       "    </tr>\n",
       "    <tr>\n",
       "      <th>765342</th>\n",
       "      <td>user_000195</td>\n",
       "      <td>fa86d550-9deb-43d8-bad8-3e195ff75a6e</td>\n",
       "      <td>3</td>\n",
       "      <td>3.0</td>\n",
       "    </tr>\n",
       "    <tr>\n",
       "      <th>764818</th>\n",
       "      <td>user_000195</td>\n",
       "      <td>7b30170f-3126-406b-8a7f-09adce541ba6</td>\n",
       "      <td>15</td>\n",
       "      <td>4.0</td>\n",
       "    </tr>\n",
       "    <tr>\n",
       "      <th>764977</th>\n",
       "      <td>user_000195</td>\n",
       "      <td>a1f417f4-08d7-4b29-b96e-7088ccfa8210</td>\n",
       "      <td>11</td>\n",
       "      <td>4.0</td>\n",
       "    </tr>\n",
       "    <tr>\n",
       "      <th>764672</th>\n",
       "      <td>user_000195</td>\n",
       "      <td>59fd9ca4-6b79-4531-9307-e19ca4bbf983</td>\n",
       "      <td>44</td>\n",
       "      <td>5.0</td>\n",
       "    </tr>\n",
       "    <tr>\n",
       "      <th>764774</th>\n",
       "      <td>user_000195</td>\n",
       "      <td>7286a5e2-8a2a-4470-bdd5-588ddc2786b6</td>\n",
       "      <td>9</td>\n",
       "      <td>4.0</td>\n",
       "    </tr>\n",
       "    <tr>\n",
       "      <th>764552</th>\n",
       "      <td>user_000195</td>\n",
       "      <td>384b0bb5-0487-4f4a-9274-72acf36cfff9</td>\n",
       "      <td>1</td>\n",
       "      <td>3.0</td>\n",
       "    </tr>\n",
       "    <tr>\n",
       "      <th>764803</th>\n",
       "      <td>user_000195</td>\n",
       "      <td>77d984be-b665-4c82-88e8-4f5e48e66485</td>\n",
       "      <td>49</td>\n",
       "      <td>5.0</td>\n",
       "    </tr>\n",
       "    <tr>\n",
       "      <th>764895</th>\n",
       "      <td>user_000195</td>\n",
       "      <td>8f1466ce-dd73-456d-b7f5-435bc6a44f60</td>\n",
       "      <td>23</td>\n",
       "      <td>4.0</td>\n",
       "    </tr>\n",
       "    <tr>\n",
       "      <th>765282</th>\n",
       "      <td>user_000195</td>\n",
       "      <td>ebf2bd09-7dba-4a34-88c4-8dd618d14c94</td>\n",
       "      <td>87</td>\n",
       "      <td>5.0</td>\n",
       "    </tr>\n",
       "  </tbody>\n",
       "</table>\n",
       "</div>"
      ],
      "text/plain": [
       "            user_id                              track_id  listen_count  \\\n",
       "764904  user_000195  921130c1-4887-42e2-a075-0c65416f2526            14   \n",
       "765342  user_000195  fa86d550-9deb-43d8-bad8-3e195ff75a6e             3   \n",
       "764818  user_000195  7b30170f-3126-406b-8a7f-09adce541ba6            15   \n",
       "764977  user_000195  a1f417f4-08d7-4b29-b96e-7088ccfa8210            11   \n",
       "764672  user_000195  59fd9ca4-6b79-4531-9307-e19ca4bbf983            44   \n",
       "764774  user_000195  7286a5e2-8a2a-4470-bdd5-588ddc2786b6             9   \n",
       "764552  user_000195  384b0bb5-0487-4f4a-9274-72acf36cfff9             1   \n",
       "764803  user_000195  77d984be-b665-4c82-88e8-4f5e48e66485            49   \n",
       "764895  user_000195  8f1466ce-dd73-456d-b7f5-435bc6a44f60            23   \n",
       "765282  user_000195  ebf2bd09-7dba-4a34-88c4-8dd618d14c94            87   \n",
       "\n",
       "        rating  \n",
       "764904     4.0  \n",
       "765342     3.0  \n",
       "764818     4.0  \n",
       "764977     4.0  \n",
       "764672     5.0  \n",
       "764774     4.0  \n",
       "764552     3.0  \n",
       "764803     5.0  \n",
       "764895     4.0  \n",
       "765282     5.0  "
      ]
     },
     "execution_count": 67,
     "metadata": {},
     "output_type": "execute_result"
    }
   ],
   "source": [
    "df[df['user_id'] == 'user_000195'].sample(10)"
   ]
  },
  {
   "cell_type": "code",
   "execution_count": 68,
   "metadata": {
    "collapsed": true
   },
   "outputs": [],
   "source": [
    "df.to_csv('lastfm_data/data_naive_rating.csv')"
   ]
  },
  {
   "cell_type": "code",
   "execution_count": 2,
   "metadata": {
    "collapsed": true
   },
   "outputs": [],
   "source": [
    "df = pd.read_csv('lastfm_data/data_naive_rating.csv')"
   ]
  },
  {
   "cell_type": "markdown",
   "metadata": {},
   "source": [
    "## Getting the new df to Surprise"
   ]
  },
  {
   "cell_type": "code",
   "execution_count": 32,
   "metadata": {
    "collapsed": true
   },
   "outputs": [],
   "source": [
    "from surprise import Reader"
   ]
  },
  {
   "cell_type": "code",
   "execution_count": 70,
   "metadata": {
    "collapsed": true
   },
   "outputs": [],
   "source": [
    "reader = Reader(rating_scale=(1,5))\n",
    "data = Dataset.load_from_df(df[['user_id', 'track_id', 'rating']], reader)"
   ]
  },
  {
   "cell_type": "markdown",
   "metadata": {},
   "source": [
    "## Testing SVD with the naive ratings"
   ]
  },
  {
   "cell_type": "code",
   "execution_count": 71,
   "metadata": {},
   "outputs": [
    {
     "name": "stdout",
     "output_type": "stream",
     "text": [
      "RMSE: 0.6622\n"
     ]
    },
    {
     "data": {
      "text/plain": [
       "0.66215115578158934"
      ]
     },
     "execution_count": 71,
     "metadata": {},
     "output_type": "execute_result"
    }
   ],
   "source": [
    "algo = SVD()\n",
    "trainset, testset = train_test_split(data, test_size=.25)\n",
    "algo.fit(trainset)\n",
    "predictions = algo.test(testset)\n",
    "accuracy.rmse(predictions)"
   ]
  },
  {
   "cell_type": "code",
   "execution_count": 73,
   "metadata": {},
   "outputs": [
    {
     "name": "stdout",
     "output_type": "stream",
     "text": [
      "user: user_000195 item: 2c3e2373-065c-492b-86dd-47ffb9471635 r_ui = 4.00   est = 3.61   {'was_impossible': False}\n"
     ]
    }
   ],
   "source": [
    "uid = 'user_000195'\n",
    "iid = '2c3e2373-065c-492b-86dd-47ffb9471635'\n",
    "\n",
    "pred = algo.predict(uid, iid, r_ui=4, verbose=True)"
   ]
  },
  {
   "cell_type": "code",
   "execution_count": 74,
   "metadata": {},
   "outputs": [
    {
     "name": "stdout",
     "output_type": "stream",
     "text": [
      "user: user_000195 item: e36ec73e-c99e-4369-8af5-825db0dd93bf r_ui = 5.00   est = 4.06   {'was_impossible': False}\n"
     ]
    }
   ],
   "source": [
    "iid = 'e36ec73e-c99e-4369-8af5-825db0dd93bf'\n",
    "\n",
    "pred = algo.predict(uid, iid, r_ui=5, verbose=True)"
   ]
  },
  {
   "cell_type": "code",
   "execution_count": 75,
   "metadata": {},
   "outputs": [
    {
     "name": "stdout",
     "output_type": "stream",
     "text": [
      "user: user_000195 item: e273ed0f-6cc6-4fec-83cd-e2da18b2f96d r_ui = 3.00   est = 4.01   {'was_impossible': False}\n"
     ]
    }
   ],
   "source": [
    "iid = 'e273ed0f-6cc6-4fec-83cd-e2da18b2f96d'\n",
    "\n",
    "pred = algo.predict(uid, iid, r_ui=3, verbose=True)"
   ]
  },
  {
   "cell_type": "markdown",
   "metadata": {},
   "source": [
    "## Using KNN"
   ]
  },
  {
   "cell_type": "code",
   "execution_count": 76,
   "metadata": {},
   "outputs": [
    {
     "name": "stdout",
     "output_type": "stream",
     "text": [
      "Computing the msd similarity matrix...\n",
      "Done computing similarity matrix.\n",
      "RMSE: 0.7313\n"
     ]
    },
    {
     "data": {
      "text/plain": [
       "0.73131168910871502"
      ]
     },
     "execution_count": 76,
     "metadata": {},
     "output_type": "execute_result"
    }
   ],
   "source": [
    "algo = KNNBasic()\n",
    "trainset, testset = train_test_split(data, test_size=.25)\n",
    "algo.fit(trainset)\n",
    "predictions = algo.test(testset)\n",
    "accuracy.rmse(predictions)"
   ]
  },
  {
   "cell_type": "code",
   "execution_count": 77,
   "metadata": {},
   "outputs": [
    {
     "name": "stdout",
     "output_type": "stream",
     "text": [
      "user: user_000195 item: 2c3e2373-065c-492b-86dd-47ffb9471635 r_ui = 4.00   est = 3.94   {'actual_k': 11, 'was_impossible': False}\n"
     ]
    }
   ],
   "source": [
    "uid = 'user_000195'\n",
    "iid = '2c3e2373-065c-492b-86dd-47ffb9471635'\n",
    "\n",
    "pred = algo.predict(uid, iid, r_ui=4, verbose=True)"
   ]
  },
  {
   "cell_type": "code",
   "execution_count": 78,
   "metadata": {},
   "outputs": [
    {
     "name": "stdout",
     "output_type": "stream",
     "text": [
      "user: user_000195 item: e36ec73e-c99e-4369-8af5-825db0dd93bf r_ui = 5.00   est = 4.11   {'actual_k': 8, 'was_impossible': False}\n"
     ]
    }
   ],
   "source": [
    "iid = 'e36ec73e-c99e-4369-8af5-825db0dd93bf'\n",
    "\n",
    "pred = algo.predict(uid, iid, r_ui=5, verbose=True)"
   ]
  },
  {
   "cell_type": "code",
   "execution_count": 79,
   "metadata": {},
   "outputs": [
    {
     "name": "stdout",
     "output_type": "stream",
     "text": [
      "user: user_000195 item: e273ed0f-6cc6-4fec-83cd-e2da18b2f96d r_ui = 3.00   est = 4.10   {'actual_k': 16, 'was_impossible': False}\n"
     ]
    }
   ],
   "source": [
    "iid = 'e273ed0f-6cc6-4fec-83cd-e2da18b2f96d'\n",
    "\n",
    "pred = algo.predict(uid, iid, r_ui=3, verbose=True)"
   ]
  },
  {
   "cell_type": "code",
   "execution_count": 80,
   "metadata": {},
   "outputs": [
    {
     "name": "stdout",
     "output_type": "stream",
     "text": [
      "user: user_000195 item: 17349c1e-7e72-40d8-8f30-adb594dd0105 r_ui = 3.00   est = 3.00   {'actual_k': 1, 'was_impossible': False}\n"
     ]
    }
   ],
   "source": [
    "iid = '17349c1e-7e72-40d8-8f30-adb594dd0105'\n",
    "\n",
    "pred = algo.predict(uid, iid, r_ui=3, verbose=True)"
   ]
  },
  {
   "cell_type": "markdown",
   "metadata": {},
   "source": [
    "## Using implicit"
   ]
  },
  {
   "cell_type": "code",
   "execution_count": 3,
   "metadata": {
    "collapsed": true
   },
   "outputs": [],
   "source": [
    "import implicit"
   ]
  },
  {
   "cell_type": "code",
   "execution_count": 4,
   "metadata": {
    "collapsed": true
   },
   "outputs": [],
   "source": [
    "algo = implicit.als.AlternatingLeastSquares()"
   ]
  },
  {
   "cell_type": "code",
   "execution_count": 5,
   "metadata": {
    "collapsed": true
   },
   "outputs": [],
   "source": [
    "df_sub = df.sample(1000)"
   ]
  },
  {
   "cell_type": "code",
   "execution_count": 6,
   "metadata": {
    "collapsed": true
   },
   "outputs": [],
   "source": [
    "matrix = []\n",
    "for item in df_sub['track_id'].unique():\n",
    "    row = []\n",
    "    for user in df_sub['user_id'].unique():\n",
    "        sel = df_sub['user_id'] == user\n",
    "        sel &= df_sub['track_id'] == item\n",
    "        if df_sub[sel].shape[0] > 0:\n",
    "            row.append(df_sub[sel]['listen_count'])\n",
    "        else:\n",
    "            row.append(0)\n",
    "    matrix.append(row)"
   ]
  },
  {
   "cell_type": "code",
   "execution_count": 8,
   "metadata": {},
   "outputs": [
    {
     "name": "stdout",
     "output_type": "stream",
     "text": [
      "997\n",
      "504\n"
     ]
    }
   ],
   "source": [
    "print(len(matrix))\n",
    "print(len(matrix[0]))"
   ]
  },
  {
   "cell_type": "code",
   "execution_count": 39,
   "metadata": {
    "collapsed": true
   },
   "outputs": [],
   "source": [
    "import numpy as np\n",
    "from scipy import sparse\n",
    "sp_matrix = sparse.lil_matrix((997, 504))\n",
    "\n",
    "for idx, row in enumerate(matrix):\n",
    "    sp_matrix[idx, : ] = row\n",
    "\n",
    "sp_matrix = sp_matrix.tocsr()"
   ]
  },
  {
   "cell_type": "code",
   "execution_count": 40,
   "metadata": {
    "collapsed": true
   },
   "outputs": [],
   "source": [
    "import pickle\n",
    "\n",
    "pickled_sparse_matrix = pickle.dumps(sp_matrix)\n",
    "with open(\"sparse_matrix.pickle\", 'wb') as pickle_file:\n",
    "    pickle_file.write(pickled_sparse_matrix)"
   ]
  },
  {
   "cell_type": "code",
   "execution_count": 41,
   "metadata": {
    "collapsed": true
   },
   "outputs": [],
   "source": [
    "algo.fit(sp_matrix)"
   ]
  },
  {
   "cell_type": "code",
   "execution_count": 45,
   "metadata": {},
   "outputs": [
    {
     "data": {
      "text/plain": [
       "[(836, 0.92418262485933345),\n",
       " (665, 0.7768764237726633),\n",
       " (850, 0.63503962482551946),\n",
       " (381, 0.21109387143555658),\n",
       " (761, 0.19165421371100216),\n",
       " (712, 0.18501196446034068),\n",
       " (547, 0.17364818938795246),\n",
       " (256, 0.16938461121270637),\n",
       " (591, 0.15853248626824107),\n",
       " (865, 0.14704149543253267),\n",
       " (787, 0.13669090067250139),\n",
       " (695, 0.13345857990734183),\n",
       " (601, 0.1254139790876497),\n",
       " (980, 0.12347441632264265),\n",
       " (705, 0.12215609392205196)]"
      ]
     },
     "execution_count": 45,
     "metadata": {},
     "output_type": "execute_result"
    }
   ],
   "source": [
    "algo.recommend(10, sp_matrix, N=15)"
   ]
  },
  {
   "cell_type": "markdown",
   "metadata": {},
   "source": [
    "# Simple Group Recommendations"
   ]
  },
  {
   "cell_type": "code",
   "execution_count": 63,
   "metadata": {
    "collapsed": true
   },
   "outputs": [],
   "source": [
    "n_users = 5\n",
    "users = np.random.choice(len(matrix[0]), n_users)\n",
    "n_tracks = 200\n",
    "\n",
    "recs = []\n",
    "for user in users:\n",
    "    recs.append([rec[0] for rec in algo.recommend(user, sp_matrix, N=n_tracks)])"
   ]
  },
  {
   "cell_type": "code",
   "execution_count": 64,
   "metadata": {
    "collapsed": true
   },
   "outputs": [],
   "source": [
    "group_rec = set(recs[0])\n",
    "\n",
    "for rec in recs[1:]:\n",
    "    group_rec = group_rec.intersection(rec)"
   ]
  },
  {
   "cell_type": "code",
   "execution_count": 66,
   "metadata": {},
   "outputs": [
    {
     "data": {
      "text/plain": [
       "39"
      ]
     },
     "execution_count": 66,
     "metadata": {},
     "output_type": "execute_result"
    }
   ],
   "source": [
    "len(group_rec)"
   ]
  },
  {
   "cell_type": "markdown",
   "metadata": {},
   "source": [
    "## Evaluating group recommendations"
   ]
  },
  {
   "cell_type": "code",
   "execution_count": 67,
   "metadata": {
    "collapsed": true
   },
   "outputs": [],
   "source": [
    "selected_users = [df_sub['user_id'].unique()[i] for i in users]\n",
    "selected_tracks = [df_sub['track_id'].unique()[i] for i in group_rec]"
   ]
  },
  {
   "cell_type": "code",
   "execution_count": 68,
   "metadata": {},
   "outputs": [
    {
     "data": {
      "text/plain": [
       "['user_000973', 'user_000839', 'user_000215', 'user_000444', 'user_000898']"
      ]
     },
     "execution_count": 68,
     "metadata": {},
     "output_type": "execute_result"
    }
   ],
   "source": [
    "selected_users"
   ]
  },
  {
   "cell_type": "code",
   "execution_count": 69,
   "metadata": {},
   "outputs": [
    {
     "data": {
      "text/plain": [
       "['f8d089e1-074d-46a0-b5b1-f389fefd9fa2',\n",
       " '20630a67-0a62-46bd-b9fc-05af6987b9b3',\n",
       " '1a820fa9-166d-4d49-83ea-35d3a91dc43f',\n",
       " '48d9340a-0c6a-469a-b043-eeaec9f577c6',\n",
       " '34902ce4-806a-4274-8fe4-eb60a16f926f',\n",
       " '2f0f7855-a916-4ab2-a031-ac3c3110cd1c',\n",
       " '8707bb88-7021-4a45-a9b9-448cae26516a',\n",
       " '32aecae1-b7f4-48ad-a09b-9ac821ff5bec',\n",
       " 'acf95f37-b9ec-4f19-81ee-926b90d2e57f',\n",
       " 'a29435e7-6f3e-441c-be7a-eed7db1ba216',\n",
       " 'ae926a51-ab96-4313-984f-69a4a5ec93bf',\n",
       " 'b0eb5769-e266-4c2a-ba1d-35a82f6e9c32',\n",
       " 'c3dd1976-9b41-4912-a037-5595d51ba72e',\n",
       " '14fcb361-0116-493b-be0b-c8bd594cac18',\n",
       " '25c51e10-b558-49b4-8275-6c915161417f',\n",
       " 'ab0e09df-0d9c-493e-87c0-5d28bf18de34',\n",
       " 'd75f665f-993c-4330-a625-78a6a602bd25',\n",
       " 'a9d445d3-040f-4746-90ae-9f55226d3264',\n",
       " 'c537608a-88de-43ff-a977-3c4301f92a13',\n",
       " 'dfc2f01b-4712-4196-afa4-915f66acdf1e',\n",
       " 'fa7f5f63-5523-454f-9fbc-e54c70341f58',\n",
       " '9c1448a5-1117-4965-8ddf-4172a926000e',\n",
       " '36b9cf09-4ea9-4393-98c2-3f1612d27921',\n",
       " '1268a65a-b83b-43ba-95a4-16fa413e5db4',\n",
       " '4ef9e3d3-d329-4de5-94c7-14eeae4c917e',\n",
       " '56be0baf-251f-4c6f-8916-af35c80b374b',\n",
       " 'aef2fdb8-74bc-4370-8db1-0e608f781ce5',\n",
       " '6f34e077-666d-454c-976a-06c973467f99',\n",
       " 'f8e8034b-912e-4527-95e4-e75788fc3205',\n",
       " 'fbf8a328-f0bf-46e5-8d1e-7bbfc3ebf289',\n",
       " '5fd0820e-575b-4cd9-af61-dc15c1716a25',\n",
       " '4bad7902-957a-4c1f-bbb0-86ba8d520291',\n",
       " '292cc2bb-a04c-4a44-b7be-5bbd89ad7b44',\n",
       " 'd10a1cd1-0caa-405a-817a-111e2a1d8064',\n",
       " '86730f43-fff7-4f33-a375-6db2b9812ebc',\n",
       " '8a7c1512-8a3e-424d-8917-be5ede6917d9',\n",
       " 'be48d6e4-0cf3-4521-a494-91112a4e1109',\n",
       " 'e8244643-a23d-43f0-a86e-68c891fc7fe2',\n",
       " '56582887-8ecf-459b-8387-05fd6c7f4ab9']"
      ]
     },
     "execution_count": 69,
     "metadata": {},
     "output_type": "execute_result"
    }
   ],
   "source": [
    "selected_tracks"
   ]
  },
  {
   "cell_type": "code",
   "execution_count": 74,
   "metadata": {},
   "outputs": [
    {
     "data": {
      "text/html": [
       "<div>\n",
       "<style>\n",
       "    .dataframe thead tr:only-child th {\n",
       "        text-align: right;\n",
       "    }\n",
       "\n",
       "    .dataframe thead th {\n",
       "        text-align: left;\n",
       "    }\n",
       "\n",
       "    .dataframe tbody tr th {\n",
       "        vertical-align: top;\n",
       "    }\n",
       "</style>\n",
       "<table border=\"1\" class=\"dataframe\">\n",
       "  <thead>\n",
       "    <tr style=\"text-align: right;\">\n",
       "      <th></th>\n",
       "      <th>Unnamed: 0</th>\n",
       "      <th>user_id</th>\n",
       "      <th>track_id</th>\n",
       "      <th>listen_count</th>\n",
       "      <th>rating</th>\n",
       "    </tr>\n",
       "  </thead>\n",
       "  <tbody>\n",
       "    <tr>\n",
       "      <th>3321214</th>\n",
       "      <td>3321214</td>\n",
       "      <td>user_000839</td>\n",
       "      <td>829e6536-5b68-43b2-a919-f14fd5c3929b</td>\n",
       "      <td>1</td>\n",
       "      <td>4.0</td>\n",
       "    </tr>\n",
       "  </tbody>\n",
       "</table>\n",
       "</div>"
      ],
      "text/plain": [
       "         Unnamed: 0      user_id                              track_id  \\\n",
       "3321214     3321214  user_000839  829e6536-5b68-43b2-a919-f14fd5c3929b   \n",
       "\n",
       "         listen_count  rating  \n",
       "3321214             1     4.0  "
      ]
     },
     "execution_count": 74,
     "metadata": {},
     "output_type": "execute_result"
    }
   ],
   "source": [
    "sel = df_sub['user_id'] == 'user_000839'\n",
    "df_sub[sel]"
   ]
  },
  {
   "cell_type": "markdown",
   "metadata": {},
   "source": [
    "# Training for the whole dataset"
   ]
  },
  {
   "cell_type": "code",
   "execution_count": 39,
   "metadata": {
    "collapsed": true
   },
   "outputs": [],
   "source": [
    "import pickle\n",
    "import implicit"
   ]
  },
  {
   "cell_type": "code",
   "execution_count": 40,
   "metadata": {
    "collapsed": true
   },
   "outputs": [],
   "source": [
    "with open('utility_matrix.pickle','rb') as pickle_file:\n",
    "    utility_matrix = pickle.loads(pickle_file.read())"
   ]
  },
  {
   "cell_type": "code",
   "execution_count": 41,
   "metadata": {},
   "outputs": [
    {
     "data": {
      "text/plain": [
       "array([  0, 453, 771, ..., 991, 991, 991], dtype=int32)"
      ]
     },
     "execution_count": 41,
     "metadata": {},
     "output_type": "execute_result"
    }
   ],
   "source": [
    "utility_matrix.indices"
   ]
  },
  {
   "cell_type": "code",
   "execution_count": 42,
   "metadata": {},
   "outputs": [],
   "source": [
    "algo = implicit.als.AlternatingLeastSquares()\n",
    "algo.fit(utility_matrix.astype(np.double))"
   ]
  },
  {
   "cell_type": "code",
   "execution_count": 43,
   "metadata": {
    "collapsed": true
   },
   "outputs": [],
   "source": [
    "pickled_algo = pickle.dumps(algo)\n",
    "with open(\"recommender.pickle\", \"wb\") as f:\n",
    "    f.write(pickled_algo)"
   ]
  },
  {
   "cell_type": "code",
   "execution_count": 45,
   "metadata": {},
   "outputs": [
    {
     "data": {
      "text/plain": [
       "[10528,\n",
       " 29893,\n",
       " 24869,\n",
       " 8749,\n",
       " 9367,\n",
       " 29737,\n",
       " 8750,\n",
       " 9425,\n",
       " 10220,\n",
       " 8748,\n",
       " 10237,\n",
       " 24874,\n",
       " 31564,\n",
       " 24878,\n",
       " 9368,\n",
       " 28822,\n",
       " 24868,\n",
       " 8291,\n",
       " 24877,\n",
       " 24883]"
      ]
     },
     "execution_count": 45,
     "metadata": {},
     "output_type": "execute_result"
    }
   ],
   "source": [
    "top_20 = algo.recommend(10, utility_matrix, 20)\n",
    "track_id = []\n",
    "score = []\n",
    "for a_tuple in top_20:\n",
    "    track_id.append(a_tuple[0])\n",
    "    score.append(a_tuple[1])\n",
    "track_id\n"
   ]
  },
  {
   "cell_type": "code",
   "execution_count": null,
   "metadata": {
    "collapsed": true
   },
   "outputs": [],
   "source": []
  },
  {
   "cell_type": "markdown",
   "metadata": {},
   "source": [
    "# Group Recommendation"
   ]
  },
  {
   "cell_type": "markdown",
   "metadata": {},
   "source": [
    "## Naive approach"
   ]
  },
  {
   "cell_type": "code",
   "execution_count": 193,
   "metadata": {
    "collapsed": true
   },
   "outputs": [],
   "source": [
    "group_size = 10\n",
    "user_ids_utility_matrix = range(utility_matrix.shape[1])\n",
    "group_users = np.random.choice(user_ids_utility_matrix, group_size, replace=False)"
   ]
  },
  {
   "cell_type": "code",
   "execution_count": 194,
   "metadata": {
    "collapsed": true
   },
   "outputs": [],
   "source": [
    "n_recommendations = 10000\n",
    "single_recommendations = []\n",
    "for user in group_users:\n",
    "    recommendations = [x[0] for x in algo.recommend(user, utility_matrix, n_recommendations)]\n",
    "    single_recommendations.append(recommendations)"
   ]
  },
  {
   "cell_type": "code",
   "execution_count": 195,
   "metadata": {
    "collapsed": true
   },
   "outputs": [],
   "source": [
    "group_recommendations = set(single_recommendations[0])\n",
    "for recommendation in single_recommendations[1:]:\n",
    "    group_recommendations = group_recommendations.intersection(recommendation)"
   ]
  },
  {
   "cell_type": "code",
   "execution_count": 196,
   "metadata": {},
   "outputs": [
    {
     "name": "stdout",
     "output_type": "stream",
     "text": [
      "18071.4285714 443\n"
     ]
    },
    {
     "data": {
      "text/plain": [
       "40.793292486294746"
      ]
     },
     "execution_count": 196,
     "metadata": {},
     "output_type": "execute_result"
    }
   ],
   "source": [
    "#print(len(group_recommendations))\n",
    "group_recommendations\n",
    "\n",
    "track_indexes = group_recommendations\n",
    "users_indexes = group_users\n",
    "\n",
    "length_recommendation = len(track_indexes)\n",
    "numerator = 0\n",
    "denominator = 0\n",
    "for track_recommendation_index, a_track in enumerate(track_indexes):\n",
    "    for a_user in users_indexes:\n",
    "        r_iu = utility_matrix[a_track, a_user]\n",
    "        rank_iu = (track_recommendation_index / length_recommendation) * 100\n",
    "        numerator = numerator + (rank_iu * r_iu)\n",
    "        denominator = denominator + r_iu\n",
    "rank = numerator / denominator\n",
    "rank"
   ]
  },
  {
   "cell_type": "code",
   "execution_count": null,
   "metadata": {
    "collapsed": true
   },
   "outputs": [],
   "source": []
  },
  {
   "cell_type": "code",
   "execution_count": null,
   "metadata": {
    "collapsed": true
   },
   "outputs": [],
   "source": []
  }
 ],
 "metadata": {
  "kernelspec": {
   "display_name": "Python 3",
   "language": "python",
   "name": "python3"
  },
  "language_info": {
   "codemirror_mode": {
    "name": "ipython",
    "version": 3
   },
   "file_extension": ".py",
   "mimetype": "text/x-python",
   "name": "python",
   "nbconvert_exporter": "python",
   "pygments_lexer": "ipython3",
   "version": "3.6.2"
  }
 },
 "nbformat": 4,
 "nbformat_minor": 2
}
