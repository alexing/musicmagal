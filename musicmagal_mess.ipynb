{
 "cells": [
  {
   "cell_type": "code",
   "execution_count": 1,
   "metadata": {},
   "outputs": [
    {
     "name": "stderr",
     "output_type": "stream",
     "text": [
      "Using TensorFlow backend.\n"
     ]
    }
   ],
   "source": [
    "import pandas as pd\n",
    "import numpy as np\n",
    "from grouprecommender import GroupRecommender"
   ]
  },
  {
   "cell_type": "markdown",
   "metadata": {},
   "source": [
    "# Loading the Dataset"
   ]
  },
  {
   "cell_type": "code",
   "execution_count": 2,
   "metadata": {
    "collapsed": true
   },
   "outputs": [],
   "source": [
    "poorly_formatted_rows = [2120259, 2446317, 11141080, 11152098, 11152401, 11882086, 12902538, 12935043, 17589538]\n",
    "df = pd.read_csv('lastfm_data/userid-timestamp-artid-artname-traid-traname.tsv', header=None, skiprows=poorly_formatted_rows, sep='\\t')\n",
    "df.columns = ['user_id', 'timestamp', 'artist_id', 'artist_name', 'track_id', 'track_name']\n",
    "df.dropna(inplace=True)"
   ]
  },
  {
   "cell_type": "markdown",
   "metadata": {},
   "source": [
    "# Group Recommendations"
   ]
  },
  {
   "cell_type": "code",
   "execution_count": 3,
   "metadata": {
    "collapsed": true
   },
   "outputs": [],
   "source": [
    "gr = GroupRecommender('utility_matrix.pickle',\n",
    "                      dataset=df,\n",
    "                      pickled_model_path='model.pickle',\n",
    "                      embedding_model_path='embedding_model.yaml',\n",
    "                      model_weights_path='embedding_model.h5',\n",
    "                      embedding_space_path='embedding.npy',\n",
    "                      dicts_path='song_dicts.pickle')"
   ]
  },
  {
   "cell_type": "markdown",
   "metadata": {},
   "source": [
    "## Obtaining Group Recommendations"
   ]
  },
  {
   "cell_type": "code",
   "execution_count": 4,
   "metadata": {
    "collapsed": true
   },
   "outputs": [],
   "source": [
    "user_ids = np.random.choice(df['user_id'].unique(), 3, replace=False)\n",
    "max_recommendations = 10\n",
    "playlist = gr.full_recommendation(user_ids, max_recommendations, df, method='item2vec')"
   ]
  },
  {
   "cell_type": "code",
   "execution_count": 5,
   "metadata": {},
   "outputs": [
    {
     "name": "stdout",
     "output_type": "stream",
     "text": [
      "Recommended Songs for the Group: ['user_000546' 'user_000625' 'user_000109']\n",
      "0)Röyksopp - Sparks\n",
      "1)Justin Timberlake - Sexyback\n",
      "2)Marilyn Manson - Heart-Shaped Glasses (When The Heart Guides The Hand)\n",
      "3)Uriah Heep - Lady In Black\n",
      "4)Sly & The Family Stone - If You Want Me To Stay\n",
      "5)Vitalic - Repair Machines\n",
      "6)The 69 Eyes - Velvet Touch\n",
      "7)Akira Yamaoka - Theme Of Laura (Reprise)\n",
      "8)Apocalyptica - Enter Sandman\n",
      "9)The Chemical Brothers - Do It Again\n",
      "10)Judas Priest - A Touch Of Evil\n"
     ]
    }
   ],
   "source": [
    "print(\"Recommended Songs for the Group:\", user_ids)\n",
    "for i, track in enumerate(playlist):\n",
    "    print(str(i) + ')' + track[0] + ' - ' + track[1])"
   ]
  },
  {
   "cell_type": "markdown",
   "metadata": {},
   "source": [
    "## Evaluating Recommendations"
   ]
  },
  {
   "cell_type": "code",
   "execution_count": 6,
   "metadata": {},
   "outputs": [
    {
     "name": "stdout",
     "output_type": "stream",
     "text": [
      "3.13522209794 0.344874430773\n"
     ]
    }
   ],
   "source": [
    "#TODO: implement evaluation method\n",
    "track_ids = [track.track_id for track in playlist]\n",
    "playlist_indexes = np.where(np.in1d(df['track_id'].dropna().unique(), track_ids))[0].tolist()\n",
    "user_indexes = np.where(np.in1d(df['user_id'].dropna().unique(), user_ids))[0].tolist()\n",
    "eval_score, similarity_score = gr.evaluate(user_indexes, playlist_indexes, method='custom')\n",
    "print(eval_score, similarity_score)"
   ]
  },
  {
   "cell_type": "code",
   "execution_count": 7,
   "metadata": {},
   "outputs": [
    {
     "data": {
      "text/plain": [
       "[2412, 8502, 11897, 18477, 20849, 50993, 73991, 109068, 140789, 172434, 226320]"
      ]
     },
     "execution_count": 7,
     "metadata": {},
     "output_type": "execute_result"
    }
   ],
   "source": [
    "playlist_indexes"
   ]
  },
  {
   "cell_type": "code",
   "execution_count": 8,
   "metadata": {},
   "outputs": [
    {
     "data": {
      "text/html": [
       "<div>\n",
       "<style>\n",
       "    .dataframe thead tr:only-child th {\n",
       "        text-align: right;\n",
       "    }\n",
       "\n",
       "    .dataframe thead th {\n",
       "        text-align: left;\n",
       "    }\n",
       "\n",
       "    .dataframe tbody tr th {\n",
       "        vertical-align: top;\n",
       "    }\n",
       "</style>\n",
       "<table border=\"1\" class=\"dataframe\">\n",
       "  <thead>\n",
       "    <tr style=\"text-align: right;\">\n",
       "      <th></th>\n",
       "      <th>user_id</th>\n",
       "      <th>timestamp</th>\n",
       "      <th>artist_id</th>\n",
       "      <th>artist_name</th>\n",
       "      <th>track_id</th>\n",
       "      <th>track_name</th>\n",
       "    </tr>\n",
       "  </thead>\n",
       "  <tbody>\n",
       "  </tbody>\n",
       "</table>\n",
       "</div>"
      ],
      "text/plain": [
       "Empty DataFrame\n",
       "Columns: [user_id, timestamp, artist_id, artist_name, track_id, track_name]\n",
       "Index: []"
      ]
     },
     "execution_count": 8,
     "metadata": {},
     "output_type": "execute_result"
    }
   ],
   "source": [
    "# for track in playlist_indexes:\n",
    "#     for user in user_indexes:\n",
    "#         print(gr.utility_matrix[track, user])\n",
    "sel = df[df['user_id'] == 'user_000072']\n",
    "sel[sel['artist_name'] == 'Capercaillie']\n",
    "#user_ids"
   ]
  },
  {
   "cell_type": "code",
   "execution_count": 9,
   "metadata": {
    "collapsed": true
   },
   "outputs": [],
   "source": [
    "def test_groups(df, group_size, group_recommender, n_recommendations=5, n_groups=1000):\n",
    "    n_users = len(df['user_id'].unique())\n",
    "    groups = np.random.choice(range(n_users), (n_groups, group_size), replace=True)\n",
    "    scores = []\n",
    "    similarities = []\n",
    "    for i, group in enumerate(groups):\n",
    "        if i % 10 == 0:\n",
    "            print(i)\n",
    "        try:\n",
    "            track_ids = group_recommender.item2vec_recommendation(group, n_recommendations)\n",
    "            track_ids = np.where(np.in1d(df['track_id'].dropna().unique(), track_ids))[0].tolist()\n",
    "            eval_score = group_recommender.evaluate(group, track_ids)\n",
    "            if eval_score == np.nan:\n",
    "                eval_score = 50.0\n",
    "        except:\n",
    "            eval_score = 50.0\n",
    "        _, sim = group_recommender.avg_group_similarity(group)\n",
    "        scores.append(eval_score)\n",
    "        similarities.append(sim)\n",
    "    corr = np.correlate(scores, similarities)[0]\n",
    "    return scores, similarities, corr"
   ]
  },
  {
   "cell_type": "code",
   "execution_count": 10,
   "metadata": {
    "collapsed": true
   },
   "outputs": [],
   "source": [
    "from joblib import Parallel, delayed"
   ]
  },
  {
   "cell_type": "code",
   "execution_count": 11,
   "metadata": {
    "scrolled": true
   },
   "outputs": [
    {
     "name": "stdout",
     "output_type": "stream",
     "text": [
      "0\n",
      "0\n",
      "0\n",
      "0\n"
     ]
    },
    {
     "name": "stderr",
     "output_type": "stream",
     "text": [
      "/Users/alex/Documents/itc/musicmagal/grouprecommender.py:255: RuntimeWarning: invalid value encountered in double_scalars\n",
      "  rank = numerator / denominator\n"
     ]
    },
    {
     "name": "stdout",
     "output_type": "stream",
     "text": [
      "10\n"
     ]
    },
    {
     "name": "stderr",
     "output_type": "stream",
     "text": [
      "/Users/alex/anaconda3/lib/python3.6/site-packages/numpy/core/fromnumeric.py:2909: RuntimeWarning: Mean of empty slice.\n",
      "  out=out, **kwargs)\n",
      "/Users/alex/anaconda3/lib/python3.6/site-packages/numpy/core/_methods.py:73: RuntimeWarning: invalid value encountered in true_divide\n",
      "  ret, rcount, out=ret, casting='unsafe', subok=False)\n"
     ]
    },
    {
     "name": "stdout",
     "output_type": "stream",
     "text": [
      "20\n",
      "10\n",
      "30\n",
      "40\n",
      "50\n",
      "20\n",
      "10\n",
      "60\n",
      "70\n",
      "80\n",
      "30\n",
      "90\n",
      "10\n",
      "0\n",
      "40\n",
      "20\n",
      "50\n",
      "60\n",
      "30\n",
      "20\n",
      "70\n",
      "80\n",
      "40\n",
      "10\n",
      "90\n",
      "50\n",
      "30\n",
      "60\n",
      "40\n",
      "20\n",
      "70\n",
      "80\n",
      "50\n",
      "90\n",
      "30\n",
      "60\n",
      "40\n",
      "70\n",
      "80\n",
      "50\n",
      "90\n",
      "60\n",
      "70\n",
      "80\n",
      "90\n"
     ]
    }
   ],
   "source": [
    "results = Parallel(n_jobs=4, backend='threading')(\n",
    "    delayed(test_groups)(df, i, gr, n_groups=100) for i in range(1, 6)\n",
    ")"
   ]
  },
  {
   "cell_type": "code",
   "execution_count": 12,
   "metadata": {},
   "outputs": [
    {
     "name": "stdout",
     "output_type": "stream",
     "text": [
      "Groups of size 1:\n",
      "0\n"
     ]
    },
    {
     "name": "stderr",
     "output_type": "stream",
     "text": [
      "/Users/alex/anaconda3/lib/python3.6/site-packages/numpy/core/fromnumeric.py:2909: RuntimeWarning: Mean of empty slice.\n",
      "  out=out, **kwargs)\n",
      "/Users/alex/anaconda3/lib/python3.6/site-packages/numpy/core/_methods.py:73: RuntimeWarning: invalid value encountered in true_divide\n",
      "  ret, rcount, out=ret, casting='unsafe', subok=False)\n",
      "/Users/alex/Documents/itc/musicmagal/grouprecommender.py:255: RuntimeWarning: invalid value encountered in double_scalars\n",
      "  rank = numerator / denominator\n"
     ]
    },
    {
     "name": "stdout",
     "output_type": "stream",
     "text": [
      "10\n",
      "20\n",
      "30\n",
      "40\n",
      "50\n",
      "60\n",
      "70\n",
      "80\n",
      "90\n",
      "100\n",
      "110\n",
      "120\n",
      "130\n"
     ]
    },
    {
     "ename": "KeyboardInterrupt",
     "evalue": "",
     "output_type": "error",
     "traceback": [
      "\u001b[0;31m---------------------------------------------------------------------------\u001b[0m",
      "\u001b[0;31mKeyboardInterrupt\u001b[0m                         Traceback (most recent call last)",
      "\u001b[0;32m<ipython-input-12-193e6b143d43>\u001b[0m in \u001b[0;36m<module>\u001b[0;34m()\u001b[0m\n\u001b[1;32m      6\u001b[0m \u001b[0;32mfor\u001b[0m \u001b[0mi\u001b[0m \u001b[0;32min\u001b[0m \u001b[0mrange\u001b[0m\u001b[0;34m(\u001b[0m\u001b[0;36m1\u001b[0m\u001b[0;34m,\u001b[0m \u001b[0;36m11\u001b[0m\u001b[0;34m)\u001b[0m\u001b[0;34m:\u001b[0m\u001b[0;34m\u001b[0m\u001b[0m\n\u001b[1;32m      7\u001b[0m     \u001b[0mprint\u001b[0m\u001b[0;34m(\u001b[0m\u001b[0;34m\"Groups of size %d:\"\u001b[0m \u001b[0;34m%\u001b[0m \u001b[0mi\u001b[0m\u001b[0;34m)\u001b[0m\u001b[0;34m\u001b[0m\u001b[0m\n\u001b[0;32m----> 8\u001b[0;31m     \u001b[0msc\u001b[0m\u001b[0;34m,\u001b[0m \u001b[0msims\u001b[0m\u001b[0;34m,\u001b[0m \u001b[0mcorr\u001b[0m \u001b[0;34m=\u001b[0m \u001b[0mtest_groups\u001b[0m\u001b[0;34m(\u001b[0m\u001b[0mdf\u001b[0m\u001b[0;34m,\u001b[0m \u001b[0mi\u001b[0m\u001b[0;34m,\u001b[0m \u001b[0mgr\u001b[0m\u001b[0;34m)\u001b[0m\u001b[0;34m\u001b[0m\u001b[0m\n\u001b[0m\u001b[1;32m      9\u001b[0m     \u001b[0mcomplete_scores\u001b[0m\u001b[0;34m.\u001b[0m\u001b[0mappend\u001b[0m\u001b[0;34m(\u001b[0m\u001b[0msc\u001b[0m\u001b[0;34m)\u001b[0m\u001b[0;34m\u001b[0m\u001b[0m\n\u001b[1;32m     10\u001b[0m     \u001b[0mcomplete_sims\u001b[0m\u001b[0;34m.\u001b[0m\u001b[0mappend\u001b[0m\u001b[0;34m(\u001b[0m\u001b[0msims\u001b[0m\u001b[0;34m)\u001b[0m\u001b[0;34m\u001b[0m\u001b[0m\n",
      "\u001b[0;32m<ipython-input-9-5dbd86153c61>\u001b[0m in \u001b[0;36mtest_groups\u001b[0;34m(df, group_size, group_recommender, n_recommendations, n_groups)\u001b[0m\n\u001b[1;32m     15\u001b[0m         \u001b[0;32mexcept\u001b[0m\u001b[0;34m:\u001b[0m\u001b[0;34m\u001b[0m\u001b[0m\n\u001b[1;32m     16\u001b[0m             \u001b[0meval_score\u001b[0m \u001b[0;34m=\u001b[0m \u001b[0;36m50.0\u001b[0m\u001b[0;34m\u001b[0m\u001b[0m\n\u001b[0;32m---> 17\u001b[0;31m         \u001b[0m_\u001b[0m\u001b[0;34m,\u001b[0m \u001b[0msim\u001b[0m \u001b[0;34m=\u001b[0m \u001b[0mgroup_recommender\u001b[0m\u001b[0;34m.\u001b[0m\u001b[0mavg_group_similarity\u001b[0m\u001b[0;34m(\u001b[0m\u001b[0mgroup\u001b[0m\u001b[0;34m)\u001b[0m\u001b[0;34m\u001b[0m\u001b[0m\n\u001b[0m\u001b[1;32m     18\u001b[0m         \u001b[0mscores\u001b[0m\u001b[0;34m.\u001b[0m\u001b[0mappend\u001b[0m\u001b[0;34m(\u001b[0m\u001b[0meval_score\u001b[0m\u001b[0;34m)\u001b[0m\u001b[0;34m\u001b[0m\u001b[0m\n\u001b[1;32m     19\u001b[0m         \u001b[0msimilarities\u001b[0m\u001b[0;34m.\u001b[0m\u001b[0mappend\u001b[0m\u001b[0;34m(\u001b[0m\u001b[0msim\u001b[0m\u001b[0;34m)\u001b[0m\u001b[0;34m\u001b[0m\u001b[0m\n",
      "\u001b[0;32m~/Documents/itc/musicmagal/grouprecommender.py\u001b[0m in \u001b[0;36mavg_group_similarity\u001b[0;34m(self, group_ids, alpha)\u001b[0m\n\u001b[1;32m    220\u001b[0m             \u001b[0mcurr_similarities\u001b[0m \u001b[0;34m=\u001b[0m \u001b[0;34m[\u001b[0m\u001b[0;34m]\u001b[0m\u001b[0;34m\u001b[0m\u001b[0m\n\u001b[1;32m    221\u001b[0m             \u001b[0;32mfor\u001b[0m \u001b[0muser2\u001b[0m \u001b[0;32min\u001b[0m \u001b[0mgroup_ids\u001b[0m\u001b[0;34m:\u001b[0m\u001b[0;34m\u001b[0m\u001b[0m\n\u001b[0;32m--> 222\u001b[0;31m                 \u001b[0msimilarity\u001b[0m \u001b[0;34m=\u001b[0m \u001b[0mself\u001b[0m\u001b[0;34m.\u001b[0m\u001b[0m__cosine_sim__\u001b[0m\u001b[0;34m(\u001b[0m\u001b[0muser1\u001b[0m\u001b[0;34m,\u001b[0m \u001b[0muser2\u001b[0m\u001b[0;34m)\u001b[0m\u001b[0;34m\u001b[0m\u001b[0m\n\u001b[0m\u001b[1;32m    223\u001b[0m                 \u001b[0mcurr_similarities\u001b[0m\u001b[0;34m.\u001b[0m\u001b[0mappend\u001b[0m\u001b[0;34m(\u001b[0m\u001b[0msimilarity\u001b[0m\u001b[0;34m)\u001b[0m\u001b[0;34m\u001b[0m\u001b[0m\n\u001b[1;32m    224\u001b[0m             \u001b[0muser_similarities\u001b[0m \u001b[0;34m+=\u001b[0m \u001b[0mnp\u001b[0m\u001b[0;34m.\u001b[0m\u001b[0marray\u001b[0m\u001b[0;34m(\u001b[0m\u001b[0mcurr_similarities\u001b[0m\u001b[0;34m)\u001b[0m\u001b[0;34m\u001b[0m\u001b[0m\n",
      "\u001b[0;32m~/Documents/itc/musicmagal/grouprecommender.py\u001b[0m in \u001b[0;36m__cosine_sim__\u001b[0;34m(self, user1, user2, alpha)\u001b[0m\n\u001b[1;32m    197\u001b[0m         \u001b[0mmean2\u001b[0m \u001b[0;34m=\u001b[0m \u001b[0muser2_array\u001b[0m\u001b[0;34m.\u001b[0m\u001b[0mmean\u001b[0m\u001b[0;34m(\u001b[0m\u001b[0;34m)\u001b[0m\u001b[0;34m\u001b[0m\u001b[0m\n\u001b[1;32m    198\u001b[0m \u001b[0;34m\u001b[0m\u001b[0m\n\u001b[0;32m--> 199\u001b[0;31m         user1_array = np.array([0 if x == 0 else 1 for x in user1_array] + \\\n\u001b[0m\u001b[1;32m    200\u001b[0m                                [mean1 * alpha])\n\u001b[1;32m    201\u001b[0m         user2_array = np.array([0 if y == 0 else 1 for y in user2_array] + \\\n",
      "\u001b[0;32m~/Documents/itc/musicmagal/grouprecommender.py\u001b[0m in \u001b[0;36m<listcomp>\u001b[0;34m(.0)\u001b[0m\n\u001b[1;32m    197\u001b[0m         \u001b[0mmean2\u001b[0m \u001b[0;34m=\u001b[0m \u001b[0muser2_array\u001b[0m\u001b[0;34m.\u001b[0m\u001b[0mmean\u001b[0m\u001b[0;34m(\u001b[0m\u001b[0;34m)\u001b[0m\u001b[0;34m\u001b[0m\u001b[0m\n\u001b[1;32m    198\u001b[0m \u001b[0;34m\u001b[0m\u001b[0m\n\u001b[0;32m--> 199\u001b[0;31m         user1_array = np.array([0 if x == 0 else 1 for x in user1_array] + \\\n\u001b[0m\u001b[1;32m    200\u001b[0m                                [mean1 * alpha])\n\u001b[1;32m    201\u001b[0m         user2_array = np.array([0 if y == 0 else 1 for y in user2_array] + \\\n",
      "\u001b[0;31mKeyboardInterrupt\u001b[0m: "
     ]
    }
   ],
   "source": [
    "scores = []\n",
    "corrs = []\n",
    "complete_scores = []\n",
    "sims = []\n",
    "complete_sims = []\n",
    "for i in range(1, 11):\n",
    "    print(\"Groups of size %d:\" % i)\n",
    "    sc, sims, corr = test_groups(df, i, gr)\n",
    "    complete_scores.append(sc)\n",
    "    complete_sims.append(sims)\n",
    "    corrs.append(corr)\n",
    "    scores.append(np.mean(sc))\n",
    "    sims.append(np.mean(sims))\n",
    "    print(np.mean(sc))\n",
    "    print(np.mean(sims))\n",
    "    print(\"-------------\")"
   ]
  },
  {
   "cell_type": "code",
   "execution_count": null,
   "metadata": {},
   "outputs": [],
   "source": [
    "corrs"
   ]
  },
  {
   "cell_type": "code",
   "execution_count": null,
   "metadata": {},
   "outputs": [],
   "source": [
    "np.array([1.515151515151515,\n",
    "  0.0,\n",
    "  31.111111111111107,\n",
    "  56.666666666666664,\n",
    "  22.916666666666664,\n",
    "  26.190476190476186,\n",
    "  0.0,\n",
    "  0.0,\n",
    "  9.523809523809522,\n",
    "  33.33333333333333]).mean()"
   ]
  },
  {
   "cell_type": "markdown",
   "metadata": {},
   "source": [
    "## Creating Group Playlist"
   ]
  },
  {
   "cell_type": "code",
   "execution_count": 13,
   "metadata": {
    "collapsed": true,
    "scrolled": true
   },
   "outputs": [],
   "source": [
    "import spotipy\n",
    "import pprint\n",
    "import spotipy.util as util\n",
    "from spotipy.oauth2 import SpotifyClientCredentials\n",
    "\n",
    "client_id = '5de79a00f1b9475098f277ce2a609120'\n",
    "client_secret = '909633d1415345fe89882b6e398390df'\n",
    "client_credentials_manager = SpotifyClientCredentials(client_id=client_id,\n",
    "                                                          client_secret=client_secret)\n",
    "\n",
    "sp = spotipy.Spotify(client_credentials_manager=client_credentials_manager)"
   ]
  },
  {
   "cell_type": "code",
   "execution_count": 14,
   "metadata": {
    "collapsed": true
   },
   "outputs": [],
   "source": [
    "spotify_track_ids = []\n",
    "for track in playlist:\n",
    "    search_str = track[0] + ' ' + track[1]\n",
    "    result = sp.search(search_str, limit=1)\n",
    "    spotify_track_ids.append(result['tracks']['items'][0]['id'])"
   ]
  },
  {
   "cell_type": "code",
   "execution_count": 15,
   "metadata": {
    "collapsed": true
   },
   "outputs": [],
   "source": [
    "playlist_name = 'Group recommendations for '\n",
    "playlist_name += ', '.join(user_ids)"
   ]
  },
  {
   "cell_type": "code",
   "execution_count": 16,
   "metadata": {},
   "outputs": [
    {
     "name": "stdout",
     "output_type": "stream",
     "text": [
      "\n",
      "\n",
      "            User authentication requires interaction with your\n",
      "            web browser. Once you enter your credentials and\n",
      "            give authorization, you will be redirected to\n",
      "            a url.  Paste that url you were directed to to\n",
      "            complete the authorization.\n",
      "\n",
      "        \n",
      "Opened https://accounts.spotify.com/authorize?client_id=5de79a00f1b9475098f277ce2a609120&response_type=code&redirect_uri=https%3A%2F%2Fgithub.com%2Falexing10%2Fmusicmagal&scope=playlist-modify-public in your browser\n",
      "\n",
      "\n",
      "Enter the URL you were redirected to: https://github.com/alexing10/musicmagal?code=AQAFbdANUnu_3yJr2eid-n-ID_YtT60SSeQnRDDYksJZAuQf74Ej0wj1-ZvYCd9RqOwVc2QZMjBosce-9NDKwlNrria4pVP4Ni7PmAh0beEcVOOM7fqH1pouSfocgmekMkpqCXMoWzHHW3qfCYOXtXYFAZ1FFqhPlpWTnx6ed1H2XCEo0qM54d-VzSd9JuBBhyneDwKN5EbMvuW9dVBMXy3q4zBegvfAB1dOWUg7QWMr61eHIw\n",
      "\n",
      "\n"
     ]
    }
   ],
   "source": [
    "username = '11130460071'\n",
    "scope='playlist-modify-public'\n",
    "token = util.prompt_for_user_token(username, \n",
    "                                   client_id=client_id, \n",
    "                                   client_secret=client_secret, \n",
    "                                   redirect_uri='https://github.com/alexing10/musicmagal',\n",
    "                                   scope=scope)"
   ]
  },
  {
   "cell_type": "code",
   "execution_count": 17,
   "metadata": {},
   "outputs": [
    {
     "name": "stdout",
     "output_type": "stream",
     "text": [
      "boom!\n"
     ]
    }
   ],
   "source": [
    "sp = spotipy.Spotify(auth=token)\n",
    "playlist = sp.user_playlist_create(username, playlist_name)\n",
    "sp.user_playlist_add_tracks(username, playlist['id'], spotify_track_ids)\n",
    "print(\"boom!\")"
   ]
  },
  {
   "cell_type": "code",
   "execution_count": 19,
   "metadata": {},
   "outputs": [
    {
     "data": {
      "text/plain": [
       "{'snapshot_id': 'oRoC3cCOO7mnauSmpMKZpVtSHgzRSSjGlAFVyyajNmNXYltq4fC0QA65082rDFtp'}"
      ]
     },
     "execution_count": 19,
     "metadata": {},
     "output_type": "execute_result"
    }
   ],
   "source": [
    "playlist_id = '0ChGv9bC33XK1zLtA78y9F'\n",
    "sp.user_playlist_add_tracks(username, playlist_id, spotify_track_ids)"
   ]
  },
  {
   "cell_type": "code",
   "execution_count": 21,
   "metadata": {},
   "outputs": [
    {
     "data": {
      "text/plain": [
       "5"
      ]
     },
     "execution_count": 21,
     "metadata": {},
     "output_type": "execute_result"
    }
   ],
   "source": [
    "len(results)"
   ]
  },
  {
   "cell_type": "code",
   "execution_count": 35,
   "metadata": {},
   "outputs": [],
   "source": [
    "x = results[0][1]"
   ]
  },
  {
   "cell_type": "code",
   "execution_count": 37,
   "metadata": {},
   "outputs": [],
   "source": [
    "x = [n for n in x if ~np.isnan(n)]"
   ]
  },
  {
   "cell_type": "code",
   "execution_count": 38,
   "metadata": {},
   "outputs": [
    {
     "data": {
      "text/plain": [
       "1.0"
      ]
     },
     "execution_count": 38,
     "metadata": {},
     "output_type": "execute_result"
    }
   ],
   "source": [
    "np.mean(x)"
   ]
  },
  {
   "cell_type": "code",
   "execution_count": 45,
   "metadata": {},
   "outputs": [],
   "source": [
    "mean_scores = []\n",
    "mean_similarities = []\n",
    "for result in results:\n",
    "    scores = [x for x in result[0] if ~np.isnan(x)]\n",
    "    similarities = [x for x in result[1] if ~np.isnan(x)]\n",
    "    mean_scores.append(np.mean(scores))\n",
    "    mean_similarities.append(np.mean(similarities))"
   ]
  },
  {
   "cell_type": "code",
   "execution_count": 46,
   "metadata": {},
   "outputs": [],
   "source": [
    "import matplotlib.pyplot as plt\n",
    "%matplotlib inline"
   ]
  },
  {
   "cell_type": "code",
   "execution_count": 88,
   "metadata": {},
   "outputs": [
    {
     "data": {
      "image/png": "[encoded data removed]",
      "text/plain": [
       "<matplotlib.figure.Figure at 0x1a1f698048>"
      ]
     },
     "metadata": {},
     "output_type": "display_data"
    }
   ],
   "source": [
    "fig, ax = plt.subplots(figsize=(10,8))\n",
    "ax.plot(range(1, 6), mean_scores, 'o-', color='m', linewidth=5, markersize=12)\n",
    "plt.xlabel('Group Size', fontsize=16)\n",
    "ax.set_ylabel('Mean Score', fontsize=16, rotation=0, ha='right')\n",
    "ax.yaxis.set_label_coords(1.21, 0.5)\n",
    "ax.spines[\"top\"].set_visible(False)\n",
    "ax.spines[\"left\"].set_visible(False)\n",
    "ax.yaxis.tick_right()\n",
    "ax.yaxis.set_label_position(\"right\")\n",
    "plt.xticks([1,2,3,4,5])\n",
    "plt.yticks(mean_scores)\n",
    "plt.tick_params(labelsize=13)\n",
    "ax.set_title(\"Mean score per group size\", fontdict={'fontsize': 20})\n",
    "\n",
    "\n",
    "\n",
    "plt.show()"
   ]
  },
  {
   "cell_type": "code",
   "execution_count": 91,
   "metadata": {},
   "outputs": [
    {
     "data": {
      "image/png": "[encoded data removed]",
      "text/plain": [
       "<matplotlib.figure.Figure at 0x1a349ce6a0>"
      ]
     },
     "metadata": {},
     "output_type": "display_data"
    }
   ],
   "source": [
    "fig, ax = plt.subplots(figsize=(10,8))\n",
    "ax.plot(range(1, 6), mean_similarities, 'o-', color='g', linewidth=5, markersize=12)\n",
    "plt.xlabel('Group Size', fontsize=16)\n",
    "ax.set_ylabel('Mean Similarity', fontsize=16, rotation=0, ha='right')\n",
    "ax.yaxis.set_label_coords(1.21, 0.5)\n",
    "ax.spines[\"top\"].set_visible(False)\n",
    "ax.spines[\"left\"].set_visible(False)\n",
    "ax.yaxis.tick_right()\n",
    "ax.yaxis.set_label_position(\"right\")\n",
    "plt.xticks([1,2,3,4,5])\n",
    "plt.yticks(mean_similarities)\n",
    "plt.tick_params(labelsize=13)\n",
    "ax.set_title(\"Mean similarity per group size\", fontdict={'fontsize': 20})\n",
    "plt.show()\n"
   ]
  },
  {
   "cell_type": "code",
   "execution_count": null,
   "metadata": {
    "collapsed": true
   },
   "outputs": [],
   "source": []
  }
 ],
 "metadata": {
  "kernelspec": {
   "display_name": "Python 3",
   "language": "python",
   "name": "python3"
  },
  "language_info": {
   "codemirror_mode": {
    "name": "ipython",
    "version": 3
   },
   "file_extension": ".py",
   "mimetype": "text/x-python",
   "name": "python",
   "nbconvert_exporter": "python",
   "pygments_lexer": "ipython3",
   "version": "3.6.2"
  }
 },
 "nbformat": 4,
 "nbformat_minor": 2
}
